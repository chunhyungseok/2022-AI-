{
 "cells": [
  {
   "cell_type": "code",
   "execution_count": 1,
   "id": "b31e5170",
   "metadata": {},
   "outputs": [],
   "source": [
    "import random\n",
    "import pandas as pd\n",
    "import numpy as np\n",
    "import os\n",
    "\n",
    "import torch\n",
    "import torch.nn as nn\n",
    "import torch.optim as optim\n",
    "import torch.nn.functional as F\n",
    "from torch.utils.data import Dataset, DataLoader\n",
    "from sklearn import metrics\n",
    "from sklearn.model_selection import train_test_split\n",
    "from tqdm.auto import tqdm, trange\n",
    "\n",
    "from tqdm import tqdm\n",
    "from sklearn.metrics import f1_score\n",
    "from transformers import BertConfig, BertModel, BertTokenizer, BertForPreTraining\n",
    "\n",
    "from Bio.SeqUtils.ProtParam import ProteinAnalysis\n",
    "from sklearn import preprocessing"
   ]
  },
  {
   "cell_type": "code",
   "execution_count": 2,
   "id": "601c4bb5",
   "metadata": {},
   "outputs": [],
   "source": [
    "device = torch.device('cuda:3') if torch.cuda.is_available() else torch.device('cpu')"
   ]
  },
  {
   "cell_type": "code",
   "execution_count": 3,
   "id": "335a7708",
   "metadata": {},
   "outputs": [],
   "source": [
    "CFG = {\n",
    "    'NUM_WORKERS':4,\n",
    "    'EPITOPE_MAX_LEN':72,\n",
    "    'EPOCHS':20,\n",
    "    'LEARNING_RATE':5e-5,\n",
    "    'BATCH_SIZE':1024,\n",
    "    'THRESHOLD':0.5,   # 기본적으로 0.5로 사용하지만 data impalance가 심할 경우 더 큰 값을 사용하기도 한다.\n",
    "    'SEED':41\n",
    "}"
   ]
  },
  {
   "cell_type": "code",
   "execution_count": 4,
   "id": "cca36b93",
   "metadata": {},
   "outputs": [],
   "source": [
    "def seed_everything(seed):\n",
    "    random.seed(seed)\n",
    "    os.environ['PYTHONHASHSEED'] = str(seed)\n",
    "    np.random.seed(seed)\n",
    "    torch.manual_seed(seed)\n",
    "    torch.cuda.manual_seed(seed)\n",
    "    torch.backends.cudnn.deterministic = True\n",
    "    torch.backends.cudnn.benchmark = True\n",
    "\n",
    "seed_everything(CFG['SEED']) # Seed 고정"
   ]
  },
  {
   "cell_type": "code",
   "execution_count": 5,
   "id": "afc8d9da",
   "metadata": {},
   "outputs": [],
   "source": [
    "tokenizer = BertTokenizer.from_pretrained('model/tokenizer')"
   ]
  },
  {
   "cell_type": "code",
   "execution_count": 6,
   "id": "050f2023",
   "metadata": {},
   "outputs": [],
   "source": [
    "def seqtoinput(seq):\n",
    "    for j in range(len(seq)-1):\n",
    "        seq = seq[:j+j+1]+ ' ' + seq[j+j+1:]\n",
    "    return seq\n",
    "    \n",
    "def get_protein_feature(seq, epitope):\n",
    "    protein_feature = []\n",
    "    protein_feature.append(ProteinAnalysis(seq).isoelectric_point())\n",
    "    protein_feature.append(ProteinAnalysis(seq).aromaticity())\n",
    "    protein_feature.append(ProteinAnalysis(seq).gravy())\n",
    "    protein_feature.append(ProteinAnalysis(seq).instability_index())\n",
    "    return protein_feature\n",
    "\n",
    "def normalization(a):\n",
    "    standard_scaler = preprocessing.StandardScaler()    \n",
    "    standard_scaler.fit(a)\n",
    "    result = standard_scaler.transform(a)\n",
    "    return result\n",
    "    \n",
    "def get_preprocessing(data_type, new_df, tokenizer):\n",
    "    epitope_ids_list = []\n",
    "    epitope_mask_list = []\n",
    "    \n",
    "    protein_features = []\n",
    "#     epitope_features = []\n",
    "        \n",
    "    for epitope, antigen, s_p, e_p in tqdm(zip(new_df['epitope_seq'], new_df['antigen_seq'], new_df['start_position'], new_df['end_position'])):             \n",
    "        protein_features.append(get_protein_feature(antigen, epitope))\n",
    "#         epitope_features.append(get_peptide_feature(epitope))\n",
    "        \n",
    "        epitope = seqtoinput(epitope)\n",
    "        \n",
    "        \n",
    "        epitope_input = tokenizer(epitope, add_special_tokens=True, pad_to_max_length=True, max_length = 72)\n",
    "        epitope_ids = epitope_input['input_ids']\n",
    "        epitope_mask = epitope_input['attention_mask']\n",
    "        \n",
    "        \n",
    "        epitope_ids_list.append(epitope_ids)\n",
    "        epitope_mask_list.append(epitope_mask)\n",
    "\n",
    "    \n",
    "    label_list = None\n",
    "    if data_type != 'test':\n",
    "        label_list = []\n",
    "        for label in new_df['label']:\n",
    "            label_list.append(label)\n",
    "    print(f'{data_type} dataframe preprocessing was done.')\n",
    "    \n",
    "    protein_features = normalization(protein_features)\n",
    "    \n",
    "    return epitope_ids_list, epitope_mask_list, protein_features, label_list"
   ]
  },
  {
   "cell_type": "code",
   "execution_count": 7,
   "id": "20541216",
   "metadata": {},
   "outputs": [
    {
     "name": "stderr",
     "output_type": "stream",
     "text": [
      "0it [00:00, ?it/s]Truncation was not explicitly activated but `max_length` is provided a specific value, please use `truncation=True` to explicitly truncate examples to max length. Defaulting to 'longest_first' truncation strategy. If you encode pairs of sequences (GLUE-style) with the tokenizer you can select this strategy more precisely by providing a specific strategy to `truncation`.\n",
      "/usr/local/lib/python3.7/site-packages/transformers/tokenization_utils_base.py:2291: FutureWarning: The `pad_to_max_length` argument is deprecated and will be removed in a future version, use `padding=True` or `padding='longest'` to pad to the longest sequence in the batch, or use `padding='max_length'` to pad to a max length. In this case, you can give a specific length with `max_length` (e.g. `max_length=45`) or leave max_length to None to pad to the maximal input size of the model (e.g. 512 for Bert).\n",
      "  FutureWarning,\n",
      "152648it [04:14, 599.23it/s]\n"
     ]
    },
    {
     "name": "stdout",
     "output_type": "stream",
     "text": [
      "train dataframe preprocessing was done.\n"
     ]
    },
    {
     "name": "stderr",
     "output_type": "stream",
     "text": [
      "0it [00:00, ?it/s]/usr/local/lib/python3.7/site-packages/transformers/tokenization_utils_base.py:2291: FutureWarning: The `pad_to_max_length` argument is deprecated and will be removed in a future version, use `padding=True` or `padding='longest'` to pad to the longest sequence in the batch, or use `padding='max_length'` to pad to a max length. In this case, you can give a specific length with `max_length` (e.g. `max_length=45`) or leave max_length to None to pad to the maximal input size of the model (e.g. 512 for Bert).\n",
      "  FutureWarning,\n",
      "38162it [01:03, 601.39it/s]"
     ]
    },
    {
     "name": "stdout",
     "output_type": "stream",
     "text": [
      "val dataframe preprocessing was done.\n"
     ]
    },
    {
     "name": "stderr",
     "output_type": "stream",
     "text": [
      "\n"
     ]
    }
   ],
   "source": [
    "train = pd.read_csv('data/train.csv')\n",
    "train = train.drop([7511])\n",
    "test = pd.read_csv('data/test.csv')\n",
    "\n",
    "train, val = train_test_split(train, train_size=0.8, random_state=12)\n",
    "\n",
    "train_epitope_ids_list, train_epitope_mask_list, train_protein_features, train_label_list = get_preprocessing('train', train, tokenizer)\n",
    "val_epitope_ids_list, val_epitope_mask_list, val_protein_features, val_label_list = get_preprocessing('val', val, tokenizer)"
   ]
  },
  {
   "cell_type": "code",
   "execution_count": 8,
   "id": "1b6c89b0",
   "metadata": {},
   "outputs": [],
   "source": [
    "class CustomDataset(Dataset):\n",
    "    def __init__(self, epitope_ids_list, epitope_mask_list, protein_features, label_list):\n",
    "        self.epitope_ids_list = epitope_ids_list\n",
    "        self.epitope_mask_list = epitope_mask_list\n",
    "        self.protein_features = protein_features\n",
    "\n",
    "        self.label_list = label_list\n",
    "        \n",
    "    def __getitem__(self, index):\n",
    "        self.epitope_ids = self.epitope_ids_list[index]\n",
    "        self.epitope_mask = self.epitope_mask_list[index]\n",
    "        \n",
    "        self.protein_feature = self.protein_features[index]        \n",
    "        \n",
    "        if self.label_list is not None:\n",
    "            self.label = self.label_list[index]\n",
    "            return torch.tensor(self.epitope_ids), torch.tensor(self.epitope_mask), torch.tensor(self.protein_feature, dtype=torch.float32), self.label\n",
    "        else:\n",
    "            return torch.tensor(self.epitope_ids), torch.tensor(self.epitope_mask), torch.tensor(self.protein_feature, dtype=torch.float32)\n",
    "        \n",
    "    def __len__(self):\n",
    "        return len(self.epitope_ids_list)"
   ]
  },
  {
   "cell_type": "code",
   "execution_count": 9,
   "id": "4687b811",
   "metadata": {},
   "outputs": [],
   "source": [
    "train_dataset = CustomDataset(train_epitope_ids_list, train_epitope_mask_list, train_protein_features, train_label_list)\n",
    "train_loader = DataLoader(train_dataset, batch_size = CFG['BATCH_SIZE'], shuffle=True, num_workers=CFG['NUM_WORKERS'])\n",
    "\n",
    "val_dataset = CustomDataset(val_epitope_ids_list, val_epitope_mask_list, val_protein_features, val_label_list)\n",
    "val_loader = DataLoader(val_dataset, batch_size = CFG['BATCH_SIZE'], shuffle=False, num_workers=CFG['NUM_WORKERS'])"
   ]
  },
  {
   "cell_type": "code",
   "execution_count": 10,
   "id": "b1a1871b",
   "metadata": {},
   "outputs": [],
   "source": [
    "config = BertConfig(\n",
    "    vocab_size=30, # default는 영어 기준이므로 내가 만든 vocab size에 맞게 수정해줘야 함\n",
    "    hidden_size=768,\n",
    "    num_hidden_layers=12,    # layer num\n",
    "    num_attention_heads=12,    # transformer attention head number\n",
    "    intermediate_size=3072,   # transformer 내에 있는 feed-forward network의 dimension size\n",
    "    hidden_act=\"gelu\",\n",
    "    hidden_dropout_prob=0.1,\n",
    "    attention_probs_dropout_prob=0.0,\n",
    "    max_position_embeddings=72,    # embedding size 최대 몇 token까지 input으로 사용할 것인지 지정\n",
    "    type_vocab_size=2,    # token type ids의 범위 (BERT는 segmentA, segmentB로 2종류)\n",
    ")"
   ]
  },
  {
   "cell_type": "code",
   "execution_count": 11,
   "id": "87f42e65",
   "metadata": {},
   "outputs": [],
   "source": [
    "pre = BertForPreTraining(config=config)\n",
    "pre.save_pretrained('model/bert')"
   ]
  },
  {
   "cell_type": "code",
   "execution_count": 12,
   "id": "a6bc8848",
   "metadata": {},
   "outputs": [],
   "source": [
    "class TransformerModel(nn.Module):\n",
    "    def __init__(self,\n",
    "                 protein_hidden_dim=768,\n",
    "                 pretrained_model='model/bert'\n",
    "                ):\n",
    "        super(TransformerModel, self).__init__()              \n",
    "        # Transformer                \n",
    "        self.transformer = BertModel.from_pretrained(pretrained_model)\n",
    "                \n",
    "        in_channels = protein_hidden_dim + 4\n",
    "            \n",
    "        self.classifier = nn.Sequential(\n",
    "            nn.LeakyReLU(True),\n",
    "            nn.BatchNorm1d(in_channels),\n",
    "            nn.Linear(in_channels, protein_hidden_dim//4),\n",
    "            nn.LeakyReLU(True),\n",
    "            nn.BatchNorm1d(protein_hidden_dim//4),\n",
    "            nn.Linear(protein_hidden_dim//4, 1)\n",
    "        )\n",
    "        \n",
    "    def forward(self, epitope_ids_list, epitope_mask_list, protein_features):\n",
    "        BATCH_SIZE = epitope_ids_list.size(0)\n",
    "        # Get Embedding Vector\n",
    "        epitope_x = self.transformer(input_ids=epitope_ids_list, attention_mask=epitope_mask_list)[0]\n",
    "        \n",
    "        # transformer [CLS]\n",
    "        epitope_hidden = epitope_x[:, 0, :]\n",
    "                        \n",
    "        # Feature Concat -> Binary Classifier\n",
    "        x = torch.cat([epitope_hidden, protein_features], axis=-1)\n",
    "        x = self.classifier(x).view(-1)\n",
    "        return x"
   ]
  },
  {
   "cell_type": "code",
   "execution_count": 13,
   "id": "63eb7978",
   "metadata": {},
   "outputs": [],
   "source": [
    "class WeightedFocalLoss(nn.Module):\n",
    "    \"Non weighted version of Focal Loss\"\n",
    "    def __init__(self, alpha=.25, gamma=2):\n",
    "        super(WeightedFocalLoss, self).__init__()\n",
    "        self.alpha = torch.tensor([alpha, 1-alpha]).to(device)\n",
    "        self.gamma = gamma\n",
    "\n",
    "    def forward(self, inputs, targets):\n",
    "        BCE_loss = F.binary_cross_entropy_with_logits(inputs, targets, reduction='none')\n",
    "        targets = targets.type(torch.long)\n",
    "        at = self.alpha.gather(0, targets.data.view(-1))\n",
    "        pt = torch.exp(-BCE_loss)\n",
    "        F_loss = at*(1-pt)**self.gamma * BCE_loss\n",
    "        return F_loss.mean()"
   ]
  },
  {
   "cell_type": "code",
   "execution_count": 14,
   "id": "e9d8b935",
   "metadata": {},
   "outputs": [],
   "source": [
    "def train(model, optimizer, train_loader, val_loader, scheduler, device):\n",
    "    model.to(device)\n",
    "    criterion = WeightedFocalLoss().to(device) \n",
    "#     criterion = FocalLoss().to(device)\n",
    "    best_val_f1 = 0\n",
    "    for epoch in range(1, CFG['EPOCHS']+1):\n",
    "        model.train()\n",
    "        train_loss = []\n",
    "        for epitope_ids_list, epitope_mask_list, protein_features, label in tqdm(iter(train_loader)):\n",
    "            epitope_ids_list = epitope_ids_list.to(device)\n",
    "            epitope_mask_list = epitope_mask_list.to(device)\n",
    "\n",
    "            protein_features = protein_features.to(device)\n",
    "\n",
    "            label = label.float().to(device)\n",
    "            \n",
    "            optimizer.zero_grad()\n",
    "            \n",
    "            output = model(epitope_ids_list, epitope_mask_list, protein_features)\n",
    "            loss = criterion(output, label)\n",
    "            \n",
    "            loss.backward()\n",
    "            optimizer.step()\n",
    "            \n",
    "            train_loss.append(loss.item())\n",
    "            \n",
    "            if scheduler is not None:\n",
    "                scheduler.step()\n",
    "                    \n",
    "        val_loss, val_f1, val_acc, val_f1_T, val_f1_F = validation(model, val_loader, criterion, device)\n",
    "        print(f'Epoch : [{epoch}] Train Loss : [{np.mean(train_loss):.5f}] Val Loss : [{val_loss:.5f}] Val F1 : [{val_f1:.5f}] Val acc : [{val_acc:.5f}] Val F1_T : [{val_f1_T:.5f}] Val F1_F : [{val_f1_F:.5f}] ')\n",
    "        \n",
    "        if best_val_f1 < val_f1:\n",
    "            best_val_f1 = val_f1\n",
    "#             torch.save(model.module.state_dict(), './feature_transformer_best_model.pth', _use_new_zipfile_serialization=False)\n",
    "            torch.save(model.module.state_dict(), '../../../../../DAS_Storage4/daehun/epitope_best_model.pth', _use_new_zipfile_serialization=False)\n",
    "            print('Model Saved.')\n",
    "    return best_val_f1"
   ]
  },
  {
   "cell_type": "code",
   "execution_count": 15,
   "id": "21d957f6",
   "metadata": {},
   "outputs": [],
   "source": [
    "from sklearn.metrics import accuracy_score\n",
    "\n",
    "def validation(model, val_loader, criterion, device):\n",
    "    model.eval()\n",
    "    pred_proba_label = []\n",
    "    true_label = []\n",
    "    val_loss = []\n",
    "    with torch.no_grad():\n",
    "        for epitope_ids_list, epitope_mask_list, protein_features, label in tqdm(iter(val_loader)):\n",
    "            epitope_ids_list = epitope_ids_list.to(device)\n",
    "            epitope_mask_list = epitope_mask_list.to(device)\n",
    "\n",
    "            protein_features = protein_features.to(device)\n",
    "            \n",
    "            label = label.float().to(device)\n",
    "            \n",
    "            model_pred = model(epitope_ids_list, epitope_mask_list, protein_features)\n",
    "            loss = criterion(model_pred, label)\n",
    "            model_pred = torch.sigmoid(model_pred).to('cpu')\n",
    "            \n",
    "            pred_proba_label += model_pred.tolist()\n",
    "            true_label += label.to('cpu').tolist()\n",
    "            \n",
    "            val_loss.append(loss.item())\n",
    "    \n",
    "    pred_label = np.where(np.array(pred_proba_label)>CFG['THRESHOLD'], 1, 0)\n",
    "    val_f1 = f1_score(true_label, pred_label, average='macro')\n",
    "    f1_T = f1_score(true_label, pred_label)\n",
    "    f1_F = f1_score(true_label, pred_label, pos_label=0)\n",
    "    acc = accuracy_score(true_label, pred_label)\n",
    "    return np.mean(val_loss), val_f1, acc, f1_T, f1_F"
   ]
  },
  {
   "cell_type": "code",
   "execution_count": 16,
   "id": "f3f2d8e7",
   "metadata": {
    "scrolled": true
   },
   "outputs": [
    {
     "name": "stderr",
     "output_type": "stream",
     "text": [
      "Some weights of the model checkpoint at model/bert were not used when initializing BertModel: ['cls.predictions.decoder.weight', 'cls.predictions.transform.LayerNorm.weight', 'cls.predictions.transform.dense.bias', 'cls.predictions.decoder.bias', 'cls.seq_relationship.bias', 'cls.predictions.transform.LayerNorm.bias', 'cls.seq_relationship.weight', 'cls.predictions.transform.dense.weight', 'cls.predictions.bias']\n",
      "- This IS expected if you are initializing BertModel from the checkpoint of a model trained on another task or with another architecture (e.g. initializing a BertForSequenceClassification model from a BertForPreTraining model).\n",
      "- This IS NOT expected if you are initializing BertModel from the checkpoint of a model that you expect to be exactly identical (initializing a BertForSequenceClassification model from a BertForSequenceClassification model).\n",
      "100%|██████████| 150/150 [05:05<00:00,  2.04s/it]\n",
      "100%|██████████| 38/38 [00:29<00:00,  1.28it/s]\n"
     ]
    },
    {
     "name": "stdout",
     "output_type": "stream",
     "text": [
      "Epoch : [1] Train Loss : [0.04841] Val Loss : [0.03874] Val F1 : [0.68195] Val acc : [0.86777] Val F1_T : [0.43883] Val F1_F : [0.92506] \n",
      "Model Saved.\n"
     ]
    },
    {
     "name": "stderr",
     "output_type": "stream",
     "text": [
      "100%|██████████| 150/150 [04:35<00:00,  1.84s/it]\n",
      "100%|██████████| 38/38 [00:30<00:00,  1.23it/s]"
     ]
    },
    {
     "name": "stdout",
     "output_type": "stream",
     "text": [
      "Epoch : [2] Train Loss : [0.04310] Val Loss : [0.04280] Val F1 : [0.64768] Val acc : [0.82417] Val F1_T : [0.39831] Val F1_F : [0.89704] \n"
     ]
    },
    {
     "name": "stderr",
     "output_type": "stream",
     "text": [
      "\n",
      "100%|██████████| 150/150 [04:38<00:00,  1.86s/it]\n",
      "100%|██████████| 38/38 [00:30<00:00,  1.25it/s]\n"
     ]
    },
    {
     "name": "stdout",
     "output_type": "stream",
     "text": [
      "Epoch : [3] Train Loss : [0.04054] Val Loss : [0.03728] Val F1 : [0.69208] Val acc : [0.87168] Val F1_T : [0.45691] Val F1_F : [0.92724] \n",
      "Model Saved.\n"
     ]
    },
    {
     "name": "stderr",
     "output_type": "stream",
     "text": [
      "100%|██████████| 150/150 [04:35<00:00,  1.84s/it]\n",
      "100%|██████████| 38/38 [00:29<00:00,  1.29it/s]\n"
     ]
    },
    {
     "name": "stdout",
     "output_type": "stream",
     "text": [
      "Epoch : [4] Train Loss : [0.03791] Val Loss : [0.03390] Val F1 : [0.71526] Val acc : [0.89953] Val F1_T : [0.48620] Val F1_F : [0.94432] \n",
      "Model Saved.\n"
     ]
    },
    {
     "name": "stderr",
     "output_type": "stream",
     "text": [
      "100%|██████████| 150/150 [04:27<00:00,  1.78s/it]\n",
      "100%|██████████| 38/38 [00:28<00:00,  1.33it/s]\n"
     ]
    },
    {
     "name": "stdout",
     "output_type": "stream",
     "text": [
      "Epoch : [5] Train Loss : [0.03569] Val Loss : [0.03300] Val F1 : [0.71298] Val acc : [0.91248] Val F1_T : [0.47368] Val F1_F : [0.95227] \n"
     ]
    },
    {
     "name": "stderr",
     "output_type": "stream",
     "text": [
      "100%|██████████| 150/150 [04:19<00:00,  1.73s/it]\n",
      "100%|██████████| 38/38 [00:29<00:00,  1.29it/s]\n"
     ]
    },
    {
     "name": "stdout",
     "output_type": "stream",
     "text": [
      "Epoch : [6] Train Loss : [0.03398] Val Loss : [0.03201] Val F1 : [0.71623] Val acc : [0.89162] Val F1_T : [0.49314] Val F1_F : [0.93932] \n",
      "Model Saved.\n"
     ]
    },
    {
     "name": "stderr",
     "output_type": "stream",
     "text": [
      "100%|██████████| 150/150 [04:25<00:00,  1.77s/it]\n",
      "100%|██████████| 38/38 [00:27<00:00,  1.36it/s]\n"
     ]
    },
    {
     "name": "stdout",
     "output_type": "stream",
     "text": [
      "Epoch : [7] Train Loss : [0.03229] Val Loss : [0.03117] Val F1 : [0.71087] Val acc : [0.88813] Val F1_T : [0.48448] Val F1_F : [0.93726] \n"
     ]
    },
    {
     "name": "stderr",
     "output_type": "stream",
     "text": [
      "100%|██████████| 150/150 [04:11<00:00,  1.68s/it]\n",
      "100%|██████████| 38/38 [00:28<00:00,  1.35it/s]\n"
     ]
    },
    {
     "name": "stdout",
     "output_type": "stream",
     "text": [
      "Epoch : [8] Train Loss : [0.03081] Val Loss : [0.03028] Val F1 : [0.72497] Val acc : [0.90001] Val F1_T : [0.50557] Val F1_F : [0.94438] \n",
      "Model Saved.\n"
     ]
    },
    {
     "name": "stderr",
     "output_type": "stream",
     "text": [
      "100%|██████████| 150/150 [04:10<00:00,  1.67s/it]\n",
      "100%|██████████| 38/38 [00:27<00:00,  1.36it/s]"
     ]
    },
    {
     "name": "stdout",
     "output_type": "stream",
     "text": [
      "Epoch : [9] Train Loss : [0.02969] Val Loss : [0.02949] Val F1 : [0.72062] Val acc : [0.89395] Val F1_T : [0.50056] Val F1_F : [0.94068] \n"
     ]
    },
    {
     "name": "stderr",
     "output_type": "stream",
     "text": [
      "\n",
      "100%|██████████| 150/150 [04:11<00:00,  1.68s/it]\n",
      "100%|██████████| 38/38 [00:28<00:00,  1.34it/s]\n"
     ]
    },
    {
     "name": "stdout",
     "output_type": "stream",
     "text": [
      "Epoch : [10] Train Loss : [0.02885] Val Loss : [0.03008] Val F1 : [0.70621] Val acc : [0.88229] Val F1_T : [0.47877] Val F1_F : [0.93365] \n"
     ]
    },
    {
     "name": "stderr",
     "output_type": "stream",
     "text": [
      "100%|██████████| 150/150 [04:10<00:00,  1.67s/it]\n",
      "100%|██████████| 38/38 [00:27<00:00,  1.37it/s]\n"
     ]
    },
    {
     "name": "stdout",
     "output_type": "stream",
     "text": [
      "Epoch : [11] Train Loss : [0.02783] Val Loss : [0.02775] Val F1 : [0.72939] Val acc : [0.91248] Val F1_T : [0.50679] Val F1_F : [0.95198] \n",
      "Model Saved.\n"
     ]
    },
    {
     "name": "stderr",
     "output_type": "stream",
     "text": [
      "100%|██████████| 150/150 [04:10<00:00,  1.67s/it]\n",
      "100%|██████████| 38/38 [00:28<00:00,  1.36it/s]"
     ]
    },
    {
     "name": "stdout",
     "output_type": "stream",
     "text": [
      "Epoch : [12] Train Loss : [0.02685] Val Loss : [0.02860] Val F1 : [0.71457] Val acc : [0.88337] Val F1_T : [0.49507] Val F1_F : [0.93407] \n"
     ]
    },
    {
     "name": "stderr",
     "output_type": "stream",
     "text": [
      "\n",
      "100%|██████████| 150/150 [04:10<00:00,  1.67s/it]\n",
      "100%|██████████| 38/38 [00:27<00:00,  1.36it/s]"
     ]
    },
    {
     "name": "stdout",
     "output_type": "stream",
     "text": [
      "Epoch : [13] Train Loss : [0.02604] Val Loss : [0.02896] Val F1 : [0.72333] Val acc : [0.89770] Val F1_T : [0.50369] Val F1_F : [0.94297] \n"
     ]
    },
    {
     "name": "stderr",
     "output_type": "stream",
     "text": [
      "\n",
      "100%|██████████| 150/150 [04:10<00:00,  1.67s/it]\n",
      "100%|██████████| 38/38 [00:27<00:00,  1.36it/s]\n"
     ]
    },
    {
     "name": "stdout",
     "output_type": "stream",
     "text": [
      "Epoch : [14] Train Loss : [0.02546] Val Loss : [0.02770] Val F1 : [0.73656] Val acc : [0.91033] Val F1_T : [0.52260] Val F1_F : [0.95052] \n",
      "Model Saved.\n"
     ]
    },
    {
     "name": "stderr",
     "output_type": "stream",
     "text": [
      "100%|██████████| 150/150 [04:10<00:00,  1.67s/it]\n",
      "100%|██████████| 38/38 [00:27<00:00,  1.38it/s]\n"
     ]
    },
    {
     "name": "stdout",
     "output_type": "stream",
     "text": [
      "Epoch : [15] Train Loss : [0.02445] Val Loss : [0.03424] Val F1 : [0.66081] Val acc : [0.82991] Val F1_T : [0.42132] Val F1_F : [0.90030] \n"
     ]
    },
    {
     "name": "stderr",
     "output_type": "stream",
     "text": [
      "100%|██████████| 150/150 [04:11<00:00,  1.68s/it]\n",
      "100%|██████████| 38/38 [00:27<00:00,  1.37it/s]\n"
     ]
    },
    {
     "name": "stdout",
     "output_type": "stream",
     "text": [
      "Epoch : [16] Train Loss : [0.02411] Val Loss : [0.02915] Val F1 : [0.72044] Val acc : [0.90373] Val F1_T : [0.49408] Val F1_F : [0.94680] \n"
     ]
    },
    {
     "name": "stderr",
     "output_type": "stream",
     "text": [
      "100%|██████████| 150/150 [04:11<00:00,  1.67s/it]\n",
      "100%|██████████| 38/38 [00:28<00:00,  1.35it/s]"
     ]
    },
    {
     "name": "stdout",
     "output_type": "stream",
     "text": [
      "Epoch : [17] Train Loss : [0.02261] Val Loss : [0.02912] Val F1 : [0.72483] Val acc : [0.91274] Val F1_T : [0.49743] Val F1_F : [0.95222] \n"
     ]
    },
    {
     "name": "stderr",
     "output_type": "stream",
     "text": [
      "\n",
      "100%|██████████| 150/150 [04:11<00:00,  1.67s/it]\n",
      "100%|██████████| 38/38 [00:27<00:00,  1.36it/s]"
     ]
    },
    {
     "name": "stdout",
     "output_type": "stream",
     "text": [
      "Epoch : [18] Train Loss : [0.02149] Val Loss : [0.02949] Val F1 : [0.70926] Val acc : [0.88344] Val F1_T : [0.48423] Val F1_F : [0.93430] \n"
     ]
    },
    {
     "name": "stderr",
     "output_type": "stream",
     "text": [
      "\n",
      "100%|██████████| 150/150 [04:11<00:00,  1.68s/it]\n",
      "100%|██████████| 38/38 [00:27<00:00,  1.39it/s]\n"
     ]
    },
    {
     "name": "stdout",
     "output_type": "stream",
     "text": [
      "Epoch : [19] Train Loss : [0.02025] Val Loss : [0.03195] Val F1 : [0.69835] Val acc : [0.91657] Val F1_T : [0.44180] Val F1_F : [0.95491] \n"
     ]
    },
    {
     "name": "stderr",
     "output_type": "stream",
     "text": [
      "100%|██████████| 150/150 [04:10<00:00,  1.67s/it]\n",
      "100%|██████████| 38/38 [00:27<00:00,  1.37it/s]"
     ]
    },
    {
     "name": "stdout",
     "output_type": "stream",
     "text": [
      "Epoch : [20] Train Loss : [0.01840] Val Loss : [0.03166] Val F1 : [0.69838] Val acc : [0.88381] Val F1_T : [0.46189] Val F1_F : [0.93487] \n"
     ]
    },
    {
     "name": "stderr",
     "output_type": "stream",
     "text": [
      "\n",
      "100%|██████████| 150/150 [04:10<00:00,  1.67s/it]\n",
      "100%|██████████| 38/38 [00:28<00:00,  1.34it/s]"
     ]
    },
    {
     "name": "stdout",
     "output_type": "stream",
     "text": [
      "Epoch : [21] Train Loss : [0.01668] Val Loss : [0.03445] Val F1 : [0.69616] Val acc : [0.88237] Val F1_T : [0.45831] Val F1_F : [0.93402] \n"
     ]
    },
    {
     "name": "stderr",
     "output_type": "stream",
     "text": [
      "\n",
      "100%|██████████| 150/150 [04:10<00:00,  1.67s/it]\n",
      "100%|██████████| 38/38 [00:28<00:00,  1.36it/s]\n"
     ]
    },
    {
     "name": "stdout",
     "output_type": "stream",
     "text": [
      "Epoch : [22] Train Loss : [0.01532] Val Loss : [0.03717] Val F1 : [0.67864] Val acc : [0.89830] Val F1_T : [0.41295] Val F1_F : [0.94433] \n"
     ]
    },
    {
     "name": "stderr",
     "output_type": "stream",
     "text": [
      "100%|██████████| 150/150 [04:09<00:00,  1.67s/it]\n",
      "100%|██████████| 38/38 [00:27<00:00,  1.36it/s]"
     ]
    },
    {
     "name": "stdout",
     "output_type": "stream",
     "text": [
      "Epoch : [23] Train Loss : [0.01342] Val Loss : [0.03707] Val F1 : [0.66189] Val acc : [0.85163] Val F1_T : [0.40861] Val F1_F : [0.91518] \n"
     ]
    },
    {
     "name": "stderr",
     "output_type": "stream",
     "text": [
      "\n",
      "100%|██████████| 150/150 [04:10<00:00,  1.67s/it]\n",
      "100%|██████████| 38/38 [00:28<00:00,  1.35it/s]"
     ]
    },
    {
     "name": "stdout",
     "output_type": "stream",
     "text": [
      "Epoch : [24] Train Loss : [0.01240] Val Loss : [0.04134] Val F1 : [0.67822] Val acc : [0.89007] Val F1_T : [0.41712] Val F1_F : [0.93931] \n"
     ]
    },
    {
     "name": "stderr",
     "output_type": "stream",
     "text": [
      "\n",
      "100%|██████████| 150/150 [04:10<00:00,  1.67s/it]\n",
      "100%|██████████| 38/38 [00:27<00:00,  1.39it/s]"
     ]
    },
    {
     "name": "stdout",
     "output_type": "stream",
     "text": [
      "Epoch : [25] Train Loss : [0.01067] Val Loss : [0.04692] Val F1 : [0.68671] Val acc : [0.87621] Val F1_T : [0.44306] Val F1_F : [0.93037] \n"
     ]
    },
    {
     "name": "stderr",
     "output_type": "stream",
     "text": [
      "\n",
      "100%|██████████| 150/150 [04:10<00:00,  1.67s/it]\n",
      "100%|██████████| 38/38 [00:28<00:00,  1.34it/s]"
     ]
    },
    {
     "name": "stdout",
     "output_type": "stream",
     "text": [
      "Epoch : [26] Train Loss : [0.00931] Val Loss : [0.04646] Val F1 : [0.68355] Val acc : [0.88827] Val F1_T : [0.42903] Val F1_F : [0.93807] \n"
     ]
    },
    {
     "name": "stderr",
     "output_type": "stream",
     "text": [
      "\n",
      "100%|██████████| 150/150 [04:11<00:00,  1.68s/it]\n",
      "100%|██████████| 38/38 [00:27<00:00,  1.36it/s]"
     ]
    },
    {
     "name": "stdout",
     "output_type": "stream",
     "text": [
      "Epoch : [27] Train Loss : [0.00813] Val Loss : [0.05025] Val F1 : [0.69077] Val acc : [0.90265] Val F1_T : [0.43481] Val F1_F : [0.94674] \n"
     ]
    },
    {
     "name": "stderr",
     "output_type": "stream",
     "text": [
      "\n",
      "100%|██████████| 150/150 [04:10<00:00,  1.67s/it]\n",
      "100%|██████████| 38/38 [00:27<00:00,  1.38it/s]"
     ]
    },
    {
     "name": "stdout",
     "output_type": "stream",
     "text": [
      "Epoch : [28] Train Loss : [0.00709] Val Loss : [0.05283] Val F1 : [0.70363] Val acc : [0.90113] Val F1_T : [0.46169] Val F1_F : [0.94557] \n"
     ]
    },
    {
     "name": "stderr",
     "output_type": "stream",
     "text": [
      "\n",
      "100%|██████████| 150/150 [04:09<00:00,  1.66s/it]\n",
      "100%|██████████| 38/38 [00:27<00:00,  1.37it/s]"
     ]
    },
    {
     "name": "stdout",
     "output_type": "stream",
     "text": [
      "Epoch : [29] Train Loss : [0.00632] Val Loss : [0.05215] Val F1 : [0.69061] Val acc : [0.88344] Val F1_T : [0.44635] Val F1_F : [0.93487] \n"
     ]
    },
    {
     "name": "stderr",
     "output_type": "stream",
     "text": [
      "\n",
      "100%|██████████| 150/150 [04:09<00:00,  1.67s/it]\n",
      "100%|██████████| 38/38 [00:27<00:00,  1.37it/s]"
     ]
    },
    {
     "name": "stdout",
     "output_type": "stream",
     "text": [
      "Epoch : [30] Train Loss : [0.00636] Val Loss : [0.05831] Val F1 : [0.70483] Val acc : [0.90074] Val F1_T : [0.46437] Val F1_F : [0.94530] \n"
     ]
    },
    {
     "name": "stderr",
     "output_type": "stream",
     "text": [
      "\n",
      "100%|██████████| 150/150 [04:10<00:00,  1.67s/it]\n",
      "100%|██████████| 38/38 [00:27<00:00,  1.38it/s]"
     ]
    },
    {
     "name": "stdout",
     "output_type": "stream",
     "text": [
      "Epoch : [31] Train Loss : [0.00543] Val Loss : [0.05549] Val F1 : [0.68436] Val acc : [0.87697] Val F1_T : [0.43779] Val F1_F : [0.93093] \n"
     ]
    },
    {
     "name": "stderr",
     "output_type": "stream",
     "text": [
      "\n",
      "100%|██████████| 150/150 [04:09<00:00,  1.66s/it]\n",
      "100%|██████████| 38/38 [00:27<00:00,  1.39it/s]"
     ]
    },
    {
     "name": "stdout",
     "output_type": "stream",
     "text": [
      "Epoch : [32] Train Loss : [0.00530] Val Loss : [0.05508] Val F1 : [0.69364] Val acc : [0.89275] Val F1_T : [0.44667] Val F1_F : [0.94062] \n"
     ]
    },
    {
     "name": "stderr",
     "output_type": "stream",
     "text": [
      "\n",
      "100%|██████████| 150/150 [04:10<00:00,  1.67s/it]\n",
      "100%|██████████| 38/38 [00:28<00:00,  1.33it/s]"
     ]
    },
    {
     "name": "stdout",
     "output_type": "stream",
     "text": [
      "Epoch : [33] Train Loss : [0.00443] Val Loss : [0.06209] Val F1 : [0.69592] Val acc : [0.90121] Val F1_T : [0.44608] Val F1_F : [0.94577] \n"
     ]
    },
    {
     "name": "stderr",
     "output_type": "stream",
     "text": [
      "\n",
      "100%|██████████| 150/150 [04:10<00:00,  1.67s/it]\n",
      "100%|██████████| 38/38 [00:28<00:00,  1.34it/s]"
     ]
    },
    {
     "name": "stdout",
     "output_type": "stream",
     "text": [
      "Epoch : [34] Train Loss : [0.00431] Val Loss : [0.06339] Val F1 : [0.69209] Val acc : [0.89647] Val F1_T : [0.44124] Val F1_F : [0.94295] \n"
     ]
    },
    {
     "name": "stderr",
     "output_type": "stream",
     "text": [
      "\n",
      "100%|██████████| 150/150 [04:11<00:00,  1.68s/it]\n",
      "100%|██████████| 38/38 [00:27<00:00,  1.37it/s]"
     ]
    },
    {
     "name": "stdout",
     "output_type": "stream",
     "text": [
      "Epoch : [35] Train Loss : [0.00394] Val Loss : [0.06497] Val F1 : [0.70354] Val acc : [0.90181] Val F1_T : [0.46110] Val F1_F : [0.94599] \n"
     ]
    },
    {
     "name": "stderr",
     "output_type": "stream",
     "text": [
      "\n",
      "100%|██████████| 150/150 [04:11<00:00,  1.68s/it]\n",
      "100%|██████████| 38/38 [00:27<00:00,  1.38it/s]"
     ]
    },
    {
     "name": "stdout",
     "output_type": "stream",
     "text": [
      "Epoch : [36] Train Loss : [0.00358] Val Loss : [0.05912] Val F1 : [0.69288] Val acc : [0.89007] Val F1_T : [0.44679] Val F1_F : [0.93897] \n"
     ]
    },
    {
     "name": "stderr",
     "output_type": "stream",
     "text": [
      "\n",
      "100%|██████████| 150/150 [04:10<00:00,  1.67s/it]\n",
      "100%|██████████| 38/38 [00:28<00:00,  1.35it/s]"
     ]
    },
    {
     "name": "stdout",
     "output_type": "stream",
     "text": [
      "Epoch : [37] Train Loss : [0.00394] Val Loss : [0.06964] Val F1 : [0.70616] Val acc : [0.90559] Val F1_T : [0.46408] Val F1_F : [0.94823] \n"
     ]
    },
    {
     "name": "stderr",
     "output_type": "stream",
     "text": [
      "\n",
      "100%|██████████| 150/150 [04:09<00:00,  1.66s/it]\n",
      "100%|██████████| 38/38 [00:28<00:00,  1.35it/s]"
     ]
    },
    {
     "name": "stdout",
     "output_type": "stream",
     "text": [
      "Epoch : [38] Train Loss : [0.00327] Val Loss : [0.06097] Val F1 : [0.69643] Val acc : [0.89175] Val F1_T : [0.45292] Val F1_F : [0.93993] \n"
     ]
    },
    {
     "name": "stderr",
     "output_type": "stream",
     "text": [
      "\n",
      "100%|██████████| 150/150 [04:08<00:00,  1.66s/it]\n",
      "100%|██████████| 38/38 [00:27<00:00,  1.37it/s]"
     ]
    },
    {
     "name": "stdout",
     "output_type": "stream",
     "text": [
      "Epoch : [39] Train Loss : [0.00307] Val Loss : [0.06240] Val F1 : [0.70039] Val acc : [0.90899] Val F1_T : [0.45039] Val F1_F : [0.95039] \n"
     ]
    },
    {
     "name": "stderr",
     "output_type": "stream",
     "text": [
      "\n",
      "100%|██████████| 150/150 [04:12<00:00,  1.68s/it]\n",
      "100%|██████████| 38/38 [00:28<00:00,  1.36it/s]\n"
     ]
    },
    {
     "name": "stdout",
     "output_type": "stream",
     "text": [
      "Epoch : [40] Train Loss : [0.00320] Val Loss : [0.07926] Val F1 : [0.69902] Val acc : [0.90711] Val F1_T : [0.44876] Val F1_F : [0.94928] \n"
     ]
    },
    {
     "name": "stderr",
     "output_type": "stream",
     "text": [
      "100%|██████████| 150/150 [04:10<00:00,  1.67s/it]\n",
      "100%|██████████| 38/38 [00:27<00:00,  1.37it/s]"
     ]
    },
    {
     "name": "stdout",
     "output_type": "stream",
     "text": [
      "Epoch : [41] Train Loss : [0.00311] Val Loss : [0.06688] Val F1 : [0.68685] Val acc : [0.89566] Val F1_T : [0.43114] Val F1_F : [0.94256] \n"
     ]
    },
    {
     "name": "stderr",
     "output_type": "stream",
     "text": [
      "\n",
      "100%|██████████| 150/150 [04:11<00:00,  1.68s/it]\n",
      "100%|██████████| 38/38 [00:28<00:00,  1.34it/s]"
     ]
    },
    {
     "name": "stdout",
     "output_type": "stream",
     "text": [
      "Epoch : [42] Train Loss : [0.00270] Val Loss : [0.06580] Val F1 : [0.70181] Val acc : [0.90527] Val F1_T : [0.45549] Val F1_F : [0.94812] \n"
     ]
    },
    {
     "name": "stderr",
     "output_type": "stream",
     "text": [
      "\n",
      "100%|██████████| 150/150 [04:11<00:00,  1.68s/it]\n",
      "100%|██████████| 38/38 [00:27<00:00,  1.39it/s]\n"
     ]
    },
    {
     "name": "stdout",
     "output_type": "stream",
     "text": [
      "Epoch : [43] Train Loss : [0.00281] Val Loss : [0.07012] Val F1 : [0.68278] Val acc : [0.89256] Val F1_T : [0.42480] Val F1_F : [0.94075] \n"
     ]
    },
    {
     "name": "stderr",
     "output_type": "stream",
     "text": [
      "100%|██████████| 150/150 [04:12<00:00,  1.68s/it]\n",
      "100%|██████████| 38/38 [00:27<00:00,  1.37it/s]"
     ]
    },
    {
     "name": "stdout",
     "output_type": "stream",
     "text": [
      "Epoch : [44] Train Loss : [0.00388] Val Loss : [0.06777] Val F1 : [0.69644] Val acc : [0.89634] Val F1_T : [0.45010] Val F1_F : [0.94277] \n"
     ]
    },
    {
     "name": "stderr",
     "output_type": "stream",
     "text": [
      "\n",
      "100%|██████████| 150/150 [04:11<00:00,  1.67s/it]\n",
      "100%|██████████| 38/38 [00:28<00:00,  1.35it/s]"
     ]
    },
    {
     "name": "stdout",
     "output_type": "stream",
     "text": [
      "Epoch : [45] Train Loss : [0.00297] Val Loss : [0.07408] Val F1 : [0.69855] Val acc : [0.90719] Val F1_T : [0.44777] Val F1_F : [0.94933] \n"
     ]
    },
    {
     "name": "stderr",
     "output_type": "stream",
     "text": [
      "\n",
      "100%|██████████| 150/150 [04:10<00:00,  1.67s/it]\n",
      "100%|██████████| 38/38 [00:28<00:00,  1.34it/s]"
     ]
    },
    {
     "name": "stdout",
     "output_type": "stream",
     "text": [
      "Epoch : [46] Train Loss : [0.00275] Val Loss : [0.06610] Val F1 : [0.70531] Val acc : [0.90986] Val F1_T : [0.45980] Val F1_F : [0.95083] \n"
     ]
    },
    {
     "name": "stderr",
     "output_type": "stream",
     "text": [
      "\n",
      "100%|██████████| 150/150 [04:09<00:00,  1.66s/it]\n",
      "100%|██████████| 38/38 [00:27<00:00,  1.38it/s]"
     ]
    },
    {
     "name": "stdout",
     "output_type": "stream",
     "text": [
      "Epoch : [47] Train Loss : [0.00244] Val Loss : [0.07345] Val F1 : [0.69894] Val acc : [0.90606] Val F1_T : [0.44922] Val F1_F : [0.94865] \n"
     ]
    },
    {
     "name": "stderr",
     "output_type": "stream",
     "text": [
      "\n",
      "100%|██████████| 150/150 [04:11<00:00,  1.67s/it]\n",
      "100%|██████████| 38/38 [00:27<00:00,  1.38it/s]"
     ]
    },
    {
     "name": "stdout",
     "output_type": "stream",
     "text": [
      "Epoch : [48] Train Loss : [0.00225] Val Loss : [0.07244] Val F1 : [0.70384] Val acc : [0.91350] Val F1_T : [0.45465] Val F1_F : [0.95302] \n"
     ]
    },
    {
     "name": "stderr",
     "output_type": "stream",
     "text": [
      "\n",
      "100%|██████████| 150/150 [04:11<00:00,  1.68s/it]\n",
      "100%|██████████| 38/38 [00:28<00:00,  1.34it/s]\n"
     ]
    },
    {
     "name": "stdout",
     "output_type": "stream",
     "text": [
      "Epoch : [49] Train Loss : [0.00194] Val Loss : [0.07387] Val F1 : [0.70094] Val acc : [0.90823] Val F1_T : [0.45196] Val F1_F : [0.94992] \n"
     ]
    },
    {
     "name": "stderr",
     "output_type": "stream",
     "text": [
      "100%|██████████| 150/150 [04:09<00:00,  1.66s/it]\n",
      "100%|██████████| 38/38 [00:27<00:00,  1.36it/s]"
     ]
    },
    {
     "name": "stdout",
     "output_type": "stream",
     "text": [
      "Epoch : [50] Train Loss : [0.00215] Val Loss : [0.07264] Val F1 : [0.69280] Val acc : [0.90346] Val F1_T : [0.43841] Val F1_F : [0.94719] \n",
      "Best Validation F1 Score : [0.73656]\n"
     ]
    },
    {
     "name": "stderr",
     "output_type": "stream",
     "text": [
      "\n"
     ]
    }
   ],
   "source": [
    "model = TransformerModel()\n",
    "model = nn.DataParallel(model, device_ids=[3, 4, 5, 1])\n",
    "model.eval()\n",
    "\n",
    "optimizer = torch.optim.Adam(params = model.parameters(), lr = CFG[\"LEARNING_RATE\"])\n",
    "scheduler = torch.optim.lr_scheduler.CosineAnnealingLR(optimizer, T_max=1000*CFG['EPOCHS'], eta_min=0)\n",
    "\n",
    "best_score = train(model, optimizer, train_loader, val_loader, scheduler, device)\n",
    "print(f'Best Validation F1 Score : [{best_score:.5f}]')"
   ]
  },
  {
   "cell_type": "code",
   "execution_count": 17,
   "id": "f16d8927",
   "metadata": {},
   "outputs": [
    {
     "name": "stderr",
     "output_type": "stream",
     "text": [
      "0it [00:00, ?it/s]/usr/local/lib/python3.7/site-packages/transformers/tokenization_utils_base.py:2291: FutureWarning: The `pad_to_max_length` argument is deprecated and will be removed in a future version, use `padding=True` or `padding='longest'` to pad to the longest sequence in the batch, or use `padding='max_length'` to pad to a max length. In this case, you can give a specific length with `max_length` (e.g. `max_length=45`) or leave max_length to None to pad to the maximal input size of the model (e.g. 512 for Bert).\n",
      "  FutureWarning,\n",
      "120944it [21:01, 95.87it/s] \n"
     ]
    },
    {
     "name": "stdout",
     "output_type": "stream",
     "text": [
      "test dataframe preprocessing was done.\n"
     ]
    }
   ],
   "source": [
    "test_df = pd.read_csv('data/test.csv')\n",
    "test_epitope_ids_list, test_epitope_mask_list, test_protein_features, test_label_list= get_preprocessing('test', test_df, tokenizer)"
   ]
  },
  {
   "cell_type": "code",
   "execution_count": 18,
   "id": "e374e0d9",
   "metadata": {},
   "outputs": [],
   "source": [
    "test_dataset = CustomDataset(test_epitope_ids_list, test_epitope_mask_list, test_protein_features, None)\n",
    "test_loader = DataLoader(test_dataset, batch_size = CFG['BATCH_SIZE'], shuffle=False, num_workers=CFG['NUM_WORKERS'])"
   ]
  },
  {
   "cell_type": "code",
   "execution_count": 19,
   "id": "ccd0b02f",
   "metadata": {},
   "outputs": [
    {
     "name": "stderr",
     "output_type": "stream",
     "text": [
      "Some weights of the model checkpoint at model/bert were not used when initializing BertModel: ['cls.predictions.decoder.weight', 'cls.predictions.transform.LayerNorm.weight', 'cls.predictions.transform.dense.bias', 'cls.predictions.decoder.bias', 'cls.seq_relationship.bias', 'cls.predictions.transform.LayerNorm.bias', 'cls.seq_relationship.weight', 'cls.predictions.transform.dense.weight', 'cls.predictions.bias']\n",
      "- This IS expected if you are initializing BertModel from the checkpoint of a model trained on another task or with another architecture (e.g. initializing a BertForSequenceClassification model from a BertForPreTraining model).\n",
      "- This IS NOT expected if you are initializing BertModel from the checkpoint of a model that you expect to be exactly identical (initializing a BertForSequenceClassification model from a BertForSequenceClassification model).\n"
     ]
    },
    {
     "data": {
      "text/plain": [
       "TransformerModel(\n",
       "  (transformer): BertModel(\n",
       "    (embeddings): BertEmbeddings(\n",
       "      (word_embeddings): Embedding(30, 768, padding_idx=0)\n",
       "      (position_embeddings): Embedding(72, 768)\n",
       "      (token_type_embeddings): Embedding(2, 768)\n",
       "      (LayerNorm): LayerNorm((768,), eps=1e-12, elementwise_affine=True)\n",
       "      (dropout): Dropout(p=0.1, inplace=False)\n",
       "    )\n",
       "    (encoder): BertEncoder(\n",
       "      (layer): ModuleList(\n",
       "        (0): BertLayer(\n",
       "          (attention): BertAttention(\n",
       "            (self): BertSelfAttention(\n",
       "              (query): Linear(in_features=768, out_features=768, bias=True)\n",
       "              (key): Linear(in_features=768, out_features=768, bias=True)\n",
       "              (value): Linear(in_features=768, out_features=768, bias=True)\n",
       "              (dropout): Dropout(p=0.0, inplace=False)\n",
       "            )\n",
       "            (output): BertSelfOutput(\n",
       "              (dense): Linear(in_features=768, out_features=768, bias=True)\n",
       "              (LayerNorm): LayerNorm((768,), eps=1e-12, elementwise_affine=True)\n",
       "              (dropout): Dropout(p=0.1, inplace=False)\n",
       "            )\n",
       "          )\n",
       "          (intermediate): BertIntermediate(\n",
       "            (dense): Linear(in_features=768, out_features=3072, bias=True)\n",
       "            (intermediate_act_fn): GELUActivation()\n",
       "          )\n",
       "          (output): BertOutput(\n",
       "            (dense): Linear(in_features=3072, out_features=768, bias=True)\n",
       "            (LayerNorm): LayerNorm((768,), eps=1e-12, elementwise_affine=True)\n",
       "            (dropout): Dropout(p=0.1, inplace=False)\n",
       "          )\n",
       "        )\n",
       "        (1): BertLayer(\n",
       "          (attention): BertAttention(\n",
       "            (self): BertSelfAttention(\n",
       "              (query): Linear(in_features=768, out_features=768, bias=True)\n",
       "              (key): Linear(in_features=768, out_features=768, bias=True)\n",
       "              (value): Linear(in_features=768, out_features=768, bias=True)\n",
       "              (dropout): Dropout(p=0.0, inplace=False)\n",
       "            )\n",
       "            (output): BertSelfOutput(\n",
       "              (dense): Linear(in_features=768, out_features=768, bias=True)\n",
       "              (LayerNorm): LayerNorm((768,), eps=1e-12, elementwise_affine=True)\n",
       "              (dropout): Dropout(p=0.1, inplace=False)\n",
       "            )\n",
       "          )\n",
       "          (intermediate): BertIntermediate(\n",
       "            (dense): Linear(in_features=768, out_features=3072, bias=True)\n",
       "            (intermediate_act_fn): GELUActivation()\n",
       "          )\n",
       "          (output): BertOutput(\n",
       "            (dense): Linear(in_features=3072, out_features=768, bias=True)\n",
       "            (LayerNorm): LayerNorm((768,), eps=1e-12, elementwise_affine=True)\n",
       "            (dropout): Dropout(p=0.1, inplace=False)\n",
       "          )\n",
       "        )\n",
       "        (2): BertLayer(\n",
       "          (attention): BertAttention(\n",
       "            (self): BertSelfAttention(\n",
       "              (query): Linear(in_features=768, out_features=768, bias=True)\n",
       "              (key): Linear(in_features=768, out_features=768, bias=True)\n",
       "              (value): Linear(in_features=768, out_features=768, bias=True)\n",
       "              (dropout): Dropout(p=0.0, inplace=False)\n",
       "            )\n",
       "            (output): BertSelfOutput(\n",
       "              (dense): Linear(in_features=768, out_features=768, bias=True)\n",
       "              (LayerNorm): LayerNorm((768,), eps=1e-12, elementwise_affine=True)\n",
       "              (dropout): Dropout(p=0.1, inplace=False)\n",
       "            )\n",
       "          )\n",
       "          (intermediate): BertIntermediate(\n",
       "            (dense): Linear(in_features=768, out_features=3072, bias=True)\n",
       "            (intermediate_act_fn): GELUActivation()\n",
       "          )\n",
       "          (output): BertOutput(\n",
       "            (dense): Linear(in_features=3072, out_features=768, bias=True)\n",
       "            (LayerNorm): LayerNorm((768,), eps=1e-12, elementwise_affine=True)\n",
       "            (dropout): Dropout(p=0.1, inplace=False)\n",
       "          )\n",
       "        )\n",
       "        (3): BertLayer(\n",
       "          (attention): BertAttention(\n",
       "            (self): BertSelfAttention(\n",
       "              (query): Linear(in_features=768, out_features=768, bias=True)\n",
       "              (key): Linear(in_features=768, out_features=768, bias=True)\n",
       "              (value): Linear(in_features=768, out_features=768, bias=True)\n",
       "              (dropout): Dropout(p=0.0, inplace=False)\n",
       "            )\n",
       "            (output): BertSelfOutput(\n",
       "              (dense): Linear(in_features=768, out_features=768, bias=True)\n",
       "              (LayerNorm): LayerNorm((768,), eps=1e-12, elementwise_affine=True)\n",
       "              (dropout): Dropout(p=0.1, inplace=False)\n",
       "            )\n",
       "          )\n",
       "          (intermediate): BertIntermediate(\n",
       "            (dense): Linear(in_features=768, out_features=3072, bias=True)\n",
       "            (intermediate_act_fn): GELUActivation()\n",
       "          )\n",
       "          (output): BertOutput(\n",
       "            (dense): Linear(in_features=3072, out_features=768, bias=True)\n",
       "            (LayerNorm): LayerNorm((768,), eps=1e-12, elementwise_affine=True)\n",
       "            (dropout): Dropout(p=0.1, inplace=False)\n",
       "          )\n",
       "        )\n",
       "        (4): BertLayer(\n",
       "          (attention): BertAttention(\n",
       "            (self): BertSelfAttention(\n",
       "              (query): Linear(in_features=768, out_features=768, bias=True)\n",
       "              (key): Linear(in_features=768, out_features=768, bias=True)\n",
       "              (value): Linear(in_features=768, out_features=768, bias=True)\n",
       "              (dropout): Dropout(p=0.0, inplace=False)\n",
       "            )\n",
       "            (output): BertSelfOutput(\n",
       "              (dense): Linear(in_features=768, out_features=768, bias=True)\n",
       "              (LayerNorm): LayerNorm((768,), eps=1e-12, elementwise_affine=True)\n",
       "              (dropout): Dropout(p=0.1, inplace=False)\n",
       "            )\n",
       "          )\n",
       "          (intermediate): BertIntermediate(\n",
       "            (dense): Linear(in_features=768, out_features=3072, bias=True)\n",
       "            (intermediate_act_fn): GELUActivation()\n",
       "          )\n",
       "          (output): BertOutput(\n",
       "            (dense): Linear(in_features=3072, out_features=768, bias=True)\n",
       "            (LayerNorm): LayerNorm((768,), eps=1e-12, elementwise_affine=True)\n",
       "            (dropout): Dropout(p=0.1, inplace=False)\n",
       "          )\n",
       "        )\n",
       "        (5): BertLayer(\n",
       "          (attention): BertAttention(\n",
       "            (self): BertSelfAttention(\n",
       "              (query): Linear(in_features=768, out_features=768, bias=True)\n",
       "              (key): Linear(in_features=768, out_features=768, bias=True)\n",
       "              (value): Linear(in_features=768, out_features=768, bias=True)\n",
       "              (dropout): Dropout(p=0.0, inplace=False)\n",
       "            )\n",
       "            (output): BertSelfOutput(\n",
       "              (dense): Linear(in_features=768, out_features=768, bias=True)\n",
       "              (LayerNorm): LayerNorm((768,), eps=1e-12, elementwise_affine=True)\n",
       "              (dropout): Dropout(p=0.1, inplace=False)\n",
       "            )\n",
       "          )\n",
       "          (intermediate): BertIntermediate(\n",
       "            (dense): Linear(in_features=768, out_features=3072, bias=True)\n",
       "            (intermediate_act_fn): GELUActivation()\n",
       "          )\n",
       "          (output): BertOutput(\n",
       "            (dense): Linear(in_features=3072, out_features=768, bias=True)\n",
       "            (LayerNorm): LayerNorm((768,), eps=1e-12, elementwise_affine=True)\n",
       "            (dropout): Dropout(p=0.1, inplace=False)\n",
       "          )\n",
       "        )\n",
       "        (6): BertLayer(\n",
       "          (attention): BertAttention(\n",
       "            (self): BertSelfAttention(\n",
       "              (query): Linear(in_features=768, out_features=768, bias=True)\n",
       "              (key): Linear(in_features=768, out_features=768, bias=True)\n",
       "              (value): Linear(in_features=768, out_features=768, bias=True)\n",
       "              (dropout): Dropout(p=0.0, inplace=False)\n",
       "            )\n",
       "            (output): BertSelfOutput(\n",
       "              (dense): Linear(in_features=768, out_features=768, bias=True)\n",
       "              (LayerNorm): LayerNorm((768,), eps=1e-12, elementwise_affine=True)\n",
       "              (dropout): Dropout(p=0.1, inplace=False)\n",
       "            )\n",
       "          )\n",
       "          (intermediate): BertIntermediate(\n",
       "            (dense): Linear(in_features=768, out_features=3072, bias=True)\n",
       "            (intermediate_act_fn): GELUActivation()\n",
       "          )\n",
       "          (output): BertOutput(\n",
       "            (dense): Linear(in_features=3072, out_features=768, bias=True)\n",
       "            (LayerNorm): LayerNorm((768,), eps=1e-12, elementwise_affine=True)\n",
       "            (dropout): Dropout(p=0.1, inplace=False)\n",
       "          )\n",
       "        )\n",
       "        (7): BertLayer(\n",
       "          (attention): BertAttention(\n",
       "            (self): BertSelfAttention(\n",
       "              (query): Linear(in_features=768, out_features=768, bias=True)\n",
       "              (key): Linear(in_features=768, out_features=768, bias=True)\n",
       "              (value): Linear(in_features=768, out_features=768, bias=True)\n",
       "              (dropout): Dropout(p=0.0, inplace=False)\n",
       "            )\n",
       "            (output): BertSelfOutput(\n",
       "              (dense): Linear(in_features=768, out_features=768, bias=True)\n",
       "              (LayerNorm): LayerNorm((768,), eps=1e-12, elementwise_affine=True)\n",
       "              (dropout): Dropout(p=0.1, inplace=False)\n",
       "            )\n",
       "          )\n",
       "          (intermediate): BertIntermediate(\n",
       "            (dense): Linear(in_features=768, out_features=3072, bias=True)\n",
       "            (intermediate_act_fn): GELUActivation()\n",
       "          )\n",
       "          (output): BertOutput(\n",
       "            (dense): Linear(in_features=3072, out_features=768, bias=True)\n",
       "            (LayerNorm): LayerNorm((768,), eps=1e-12, elementwise_affine=True)\n",
       "            (dropout): Dropout(p=0.1, inplace=False)\n",
       "          )\n",
       "        )\n",
       "        (8): BertLayer(\n",
       "          (attention): BertAttention(\n",
       "            (self): BertSelfAttention(\n",
       "              (query): Linear(in_features=768, out_features=768, bias=True)\n",
       "              (key): Linear(in_features=768, out_features=768, bias=True)\n",
       "              (value): Linear(in_features=768, out_features=768, bias=True)\n",
       "              (dropout): Dropout(p=0.0, inplace=False)\n",
       "            )\n",
       "            (output): BertSelfOutput(\n",
       "              (dense): Linear(in_features=768, out_features=768, bias=True)\n",
       "              (LayerNorm): LayerNorm((768,), eps=1e-12, elementwise_affine=True)\n",
       "              (dropout): Dropout(p=0.1, inplace=False)\n",
       "            )\n",
       "          )\n",
       "          (intermediate): BertIntermediate(\n",
       "            (dense): Linear(in_features=768, out_features=3072, bias=True)\n",
       "            (intermediate_act_fn): GELUActivation()\n",
       "          )\n",
       "          (output): BertOutput(\n",
       "            (dense): Linear(in_features=3072, out_features=768, bias=True)\n",
       "            (LayerNorm): LayerNorm((768,), eps=1e-12, elementwise_affine=True)\n",
       "            (dropout): Dropout(p=0.1, inplace=False)\n",
       "          )\n",
       "        )\n",
       "        (9): BertLayer(\n",
       "          (attention): BertAttention(\n",
       "            (self): BertSelfAttention(\n",
       "              (query): Linear(in_features=768, out_features=768, bias=True)\n",
       "              (key): Linear(in_features=768, out_features=768, bias=True)\n",
       "              (value): Linear(in_features=768, out_features=768, bias=True)\n",
       "              (dropout): Dropout(p=0.0, inplace=False)\n",
       "            )\n",
       "            (output): BertSelfOutput(\n",
       "              (dense): Linear(in_features=768, out_features=768, bias=True)\n",
       "              (LayerNorm): LayerNorm((768,), eps=1e-12, elementwise_affine=True)\n",
       "              (dropout): Dropout(p=0.1, inplace=False)\n",
       "            )\n",
       "          )\n",
       "          (intermediate): BertIntermediate(\n",
       "            (dense): Linear(in_features=768, out_features=3072, bias=True)\n",
       "            (intermediate_act_fn): GELUActivation()\n",
       "          )\n",
       "          (output): BertOutput(\n",
       "            (dense): Linear(in_features=3072, out_features=768, bias=True)\n",
       "            (LayerNorm): LayerNorm((768,), eps=1e-12, elementwise_affine=True)\n",
       "            (dropout): Dropout(p=0.1, inplace=False)\n",
       "          )\n",
       "        )\n",
       "        (10): BertLayer(\n",
       "          (attention): BertAttention(\n",
       "            (self): BertSelfAttention(\n",
       "              (query): Linear(in_features=768, out_features=768, bias=True)\n",
       "              (key): Linear(in_features=768, out_features=768, bias=True)\n",
       "              (value): Linear(in_features=768, out_features=768, bias=True)\n",
       "              (dropout): Dropout(p=0.0, inplace=False)\n",
       "            )\n",
       "            (output): BertSelfOutput(\n",
       "              (dense): Linear(in_features=768, out_features=768, bias=True)\n",
       "              (LayerNorm): LayerNorm((768,), eps=1e-12, elementwise_affine=True)\n",
       "              (dropout): Dropout(p=0.1, inplace=False)\n",
       "            )\n",
       "          )\n",
       "          (intermediate): BertIntermediate(\n",
       "            (dense): Linear(in_features=768, out_features=3072, bias=True)\n",
       "            (intermediate_act_fn): GELUActivation()\n",
       "          )\n",
       "          (output): BertOutput(\n",
       "            (dense): Linear(in_features=3072, out_features=768, bias=True)\n",
       "            (LayerNorm): LayerNorm((768,), eps=1e-12, elementwise_affine=True)\n",
       "            (dropout): Dropout(p=0.1, inplace=False)\n",
       "          )\n",
       "        )\n",
       "        (11): BertLayer(\n",
       "          (attention): BertAttention(\n",
       "            (self): BertSelfAttention(\n",
       "              (query): Linear(in_features=768, out_features=768, bias=True)\n",
       "              (key): Linear(in_features=768, out_features=768, bias=True)\n",
       "              (value): Linear(in_features=768, out_features=768, bias=True)\n",
       "              (dropout): Dropout(p=0.0, inplace=False)\n",
       "            )\n",
       "            (output): BertSelfOutput(\n",
       "              (dense): Linear(in_features=768, out_features=768, bias=True)\n",
       "              (LayerNorm): LayerNorm((768,), eps=1e-12, elementwise_affine=True)\n",
       "              (dropout): Dropout(p=0.1, inplace=False)\n",
       "            )\n",
       "          )\n",
       "          (intermediate): BertIntermediate(\n",
       "            (dense): Linear(in_features=768, out_features=3072, bias=True)\n",
       "            (intermediate_act_fn): GELUActivation()\n",
       "          )\n",
       "          (output): BertOutput(\n",
       "            (dense): Linear(in_features=3072, out_features=768, bias=True)\n",
       "            (LayerNorm): LayerNorm((768,), eps=1e-12, elementwise_affine=True)\n",
       "            (dropout): Dropout(p=0.1, inplace=False)\n",
       "          )\n",
       "        )\n",
       "      )\n",
       "    )\n",
       "    (pooler): BertPooler(\n",
       "      (dense): Linear(in_features=768, out_features=768, bias=True)\n",
       "      (activation): Tanh()\n",
       "    )\n",
       "  )\n",
       "  (classifier): Sequential(\n",
       "    (0): LeakyReLU(negative_slope=True)\n",
       "    (1): BatchNorm1d(772, eps=1e-05, momentum=0.1, affine=True, track_running_stats=True)\n",
       "    (2): Linear(in_features=772, out_features=192, bias=True)\n",
       "    (3): LeakyReLU(negative_slope=True)\n",
       "    (4): BatchNorm1d(192, eps=1e-05, momentum=0.1, affine=True, track_running_stats=True)\n",
       "    (5): Linear(in_features=192, out_features=1, bias=True)\n",
       "  )\n",
       ")"
      ]
     },
     "execution_count": 19,
     "metadata": {},
     "output_type": "execute_result"
    }
   ],
   "source": [
    "model = TransformerModel()\n",
    "best_checkpoint = torch.load('../../../../../DAS_Storage4/daehun/epitope_best_model.pth', map_location=device)\n",
    "model.load_state_dict(best_checkpoint)\n",
    "model.eval()\n",
    "model.to(device)"
   ]
  },
  {
   "cell_type": "code",
   "execution_count": 20,
   "id": "568489dc",
   "metadata": {},
   "outputs": [],
   "source": [
    "def inference(model, test_loader, device):\n",
    "    model.eval()\n",
    "    pred_proba_label = []\n",
    "    with torch.no_grad():\n",
    "        for epitope_ids_list, epitope_mask_list, protein_features in tqdm(iter(test_loader)):\n",
    "            epitope_ids_list = epitope_ids_list.to(device)\n",
    "            epitope_mask_list = epitope_mask_list.to(device)\n",
    "\n",
    "            protein_features = protein_features.to(device)\n",
    "            \n",
    "            model_pred = model(epitope_ids_list, epitope_mask_list, protein_features)\n",
    "            model_pred = torch.sigmoid(model_pred).to('cpu')\n",
    "            \n",
    "            pred_proba_label += model_pred.tolist()\n",
    "    \n",
    "    pred_label = np.where(np.array(pred_proba_label)>CFG['THRESHOLD'], 1, 0)\n",
    "    return pred_label"
   ]
  },
  {
   "cell_type": "code",
   "execution_count": 21,
   "id": "234516b3",
   "metadata": {},
   "outputs": [
    {
     "name": "stderr",
     "output_type": "stream",
     "text": [
      "100%|██████████| 119/119 [05:06<00:00,  2.58s/it]"
     ]
    },
    {
     "name": "stdout",
     "output_type": "stream",
     "text": [
      "Done.\n"
     ]
    },
    {
     "name": "stderr",
     "output_type": "stream",
     "text": [
      "\n"
     ]
    }
   ],
   "source": [
    "preds = inference(model, test_loader, device)\n",
    "submit = pd.read_csv('data/sample_submission.csv')\n",
    "submit['label'] = preds\n",
    "\n",
    "submit.to_csv('submission/epitope_submission.csv', index=False)\n",
    "print('Done.')"
   ]
  },
  {
   "cell_type": "code",
   "execution_count": null,
   "id": "e5854e37",
   "metadata": {},
   "outputs": [],
   "source": []
  }
 ],
 "metadata": {
  "kernelspec": {
   "display_name": "Python 3 (ipykernel)",
   "language": "python",
   "name": "python3"
  },
  "language_info": {
   "codemirror_mode": {
    "name": "ipython",
    "version": 3
   },
   "file_extension": ".py",
   "mimetype": "text/x-python",
   "name": "python",
   "nbconvert_exporter": "python",
   "pygments_lexer": "ipython3",
   "version": "3.7.13"
  }
 },
 "nbformat": 4,
 "nbformat_minor": 5
}
