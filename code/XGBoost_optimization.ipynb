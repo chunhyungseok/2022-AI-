{
 "cells": [
  {
   "cell_type": "code",
   "execution_count": 1,
   "id": "4d83a219",
   "metadata": {},
   "outputs": [],
   "source": [
    "import numpy as np\n",
    "import pandas as pd\n",
    "from sklearn.model_selection import train_test_split\n",
    "from sklearn.metrics import f1_score\n",
    "\n",
    "from tqdm import tqdm\n",
    "from sklearn.metrics import f1_score\n",
    "\n",
    "from Bio.SeqUtils.ProtParam import ProteinAnalysis\n",
    "\n",
    "import optuna\n",
    "from xgboost import XGBClassifier\n",
    "from optuna import Trial\n",
    "from optuna.samplers import TPESampler\n",
    "from sklearn.metrics import log_loss\n",
    "from tqdm import tqdm"
   ]
  },
  {
   "cell_type": "markdown",
   "id": "8b1b84eb",
   "metadata": {},
   "source": [
    "# 전체 코드 process\n",
    "\n",
    "    1. 데이터 전 처리\n",
    "        - disease_dic 생성, train 과정에 없는 disease들은 0으로 unknown 토큰 처리\n",
    "        - 결측치 train 데이터 기반으로 채우기 및 정규화\n",
    "        \n",
    "    2. Input_feautres\n",
    "        - Antigen eatures\n",
    "        - Peptide Epitope features\n",
    "        - Disease features\n",
    "        \n",
    "    3. XGBoost \n",
    "        - Optuna 기반 최적의 하이퍼 파라미터 탐색\n",
    "        - Feature importance 계산"
   ]
  },
  {
   "cell_type": "markdown",
   "id": "2ad0a446",
   "metadata": {},
   "source": [
    "# Data preprocessing"
   ]
  },
  {
   "cell_type": "code",
   "execution_count": 5,
   "id": "bdf292e6",
   "metadata": {},
   "outputs": [],
   "source": [
    "#train 데이터 불러오기\n",
    "train = pd.read_csv('../data/train.csv')"
   ]
  },
  {
   "cell_type": "markdown",
   "id": "f19b6d03",
   "metadata": {},
   "source": [
    "# Disease Features"
   ]
  },
  {
   "cell_type": "code",
   "execution_count": 6,
   "id": "2e6a71ab",
   "metadata": {},
   "outputs": [],
   "source": [
    "# disease dic 생성\n",
    "def get_dic(data):\n",
    "    vocab = {}\n",
    "    for name in data:\n",
    "        if name not in vocab:\n",
    "            vocab[name]=0\n",
    "        vocab[name] += 1\n",
    "    vocab_sorted = sorted(vocab.items(), key=lambda x:x[1], reverse=True)\n",
    "    token_dic = {}\n",
    "    i = 1\n",
    "    # train에서 보지 않은 disease들 Unknown 토큰 처리\n",
    "    # train과정에서 없는 disease들은 0으로 처리하였음\n",
    "    token_dic['Unknown'] = 0\n",
    "    for (name, freq) in vocab_sorted:\n",
    "        token_dic[name] = i\n",
    "        i += 1\n",
    "    return token_dic\n",
    "\n",
    "def dic_except(dic, a):\n",
    "    try:\n",
    "        return dic[a]\n",
    "    except:\n",
    "        return dic['Unknown']\n",
    "\n",
    "dic_disease_type = get_dic(train['disease_type'])\n",
    "dic_disease_state = get_dic(train['disease_state'])\n",
    "\n",
    "train['disease_type'] = train['disease_type'].map(lambda a: dic_except(dic_disease_type, a))\n",
    "train['disease_state'] = train['disease_state'].map(lambda a: dic_except(dic_disease_state, a))"
   ]
  },
  {
   "cell_type": "markdown",
   "id": "96eca237",
   "metadata": {},
   "source": [
    "# Epitope Peptide Features"
   ]
  },
  {
   "cell_type": "code",
   "execution_count": 7,
   "id": "b886cc54",
   "metadata": {},
   "outputs": [],
   "source": [
    "# 총 7가지 peptide features를 계산\n",
    "\n",
    "def get_peptide_feature(seq): # CTD descriptor\n",
    "    CTD = {'hydrophobicity': {1: ['R', 'K', 'E', 'D', 'Q', 'N'], 2: ['G', 'A', 'S', 'T', 'P', 'H', 'Y'], 3: ['C', 'L', 'V', 'I', 'M', 'F', 'W']},\n",
    "           'normalized.van.der.waals': {1: ['G', 'A', 'S', 'T', 'P', 'D', 'C'], 2: ['N', 'V', 'E', 'Q', 'I', 'L'], 3: ['M', 'H', 'K', 'F', 'R', 'Y', 'W']},\n",
    "           'polarity': {1: ['L', 'I', 'F', 'W', 'C', 'M', 'V', 'Y'], 2: ['P', 'A', 'T', 'G', 'S'], 3: ['H', 'Q', 'R', 'K', 'N', 'E', 'D']},\n",
    "           'polarizability': {1: ['G', 'A', 'S', 'D', 'T'], 2: ['C', 'P', 'N', 'V', 'E', 'Q', 'I', 'L'], 3: ['K', 'M', 'H', 'F', 'R', 'Y', 'W']},\n",
    "           'charge': {1: ['K', 'R'], 2: ['A', 'N', 'C', 'Q', 'G', 'H', 'I', 'L', 'M', 'F', 'P', 'S', 'T', 'W', 'Y', 'V'], 3: ['D', 'E']},\n",
    "           'secondary': {1: ['E', 'A', 'L', 'M', 'Q', 'K', 'R', 'H'], 2: ['V', 'I', 'Y', 'C', 'W', 'F', 'T'], 3: ['G', 'N', 'P', 'S', 'D']},\n",
    "           'solvent': {1: ['A', 'L', 'F', 'C', 'G', 'I', 'V', 'W'], 2: ['R', 'K', 'Q', 'E', 'N', 'D'], 3: ['M', 'S', 'P', 'T', 'H', 'Y']}}\n",
    "    \n",
    "    seq = str(seq)\n",
    "    sequencelength = len(seq)\n",
    "    Sequence_group = []\n",
    "    \n",
    "    for AAproperty in CTD:\n",
    "        propvalues = \"\"\n",
    "        for letter in seq:\n",
    "            if letter in CTD[AAproperty][1]:\n",
    "                propvalues += \"1\"\n",
    "            elif letter in CTD[AAproperty][2]:\n",
    "                propvalues += \"2\"\n",
    "            elif letter in CTD[AAproperty][3]:\n",
    "                propvalues += \"3\"\n",
    "        abpos_1 = [i for i in range(len(propvalues)) if propvalues.startswith(\"1\", i)]\n",
    "        abpos_1 = [x+1 for x in abpos_1]\n",
    "        abpos_1.insert(0, \"-\")\n",
    "        abpos_2 = [i for i in range(len(propvalues)) if propvalues.startswith(\"2\", i)]\n",
    "        abpos_2 = [x+1 for x in abpos_2]\n",
    "        abpos_2.insert(0, \"-\")\n",
    "        abpos_3 = [i for i in range(len(propvalues)) if propvalues.startswith(\"3\", i)]\n",
    "        abpos_3 = [x+1 for x in abpos_3]\n",
    "        abpos_3.insert(0, \"-\")\n",
    "        property_group1_length = propvalues.count(\"1\")\n",
    "        \n",
    "        if property_group1_length == 0:\n",
    "            Sequence_group.extend([0, 0, 0, 0, 0])\n",
    "        elif property_group1_length == 1:\n",
    "            Sequence_group.append((abpos_1[1]/sequencelength)*100)\n",
    "            Sequence_group.append((abpos_1[1]/sequencelength)*100)\n",
    "            Sequence_group.append((abpos_1[1]/sequencelength)*100)\n",
    "            Sequence_group.append((abpos_1[1]/sequencelength)*100)\n",
    "            Sequence_group.append((abpos_1[1]/sequencelength)*100)\n",
    "        elif property_group1_length == 2:\n",
    "            Sequence_group.append((abpos_1[1]/sequencelength)*100)\n",
    "            Sequence_group.append((abpos_1[1]/sequencelength)*100)\n",
    "            Sequence_group.append((abpos_1[round((0.5*property_group1_length)-0.1)]/sequencelength)*100)\n",
    "            Sequence_group.append((abpos_1[round((0.75*property_group1_length)-0.1)]/sequencelength)*100)\n",
    "            Sequence_group.append((abpos_1[property_group1_length]/sequencelength)*100)\n",
    "        else:\n",
    "            Sequence_group.append((abpos_1[1]/sequencelength)*100)\n",
    "            Sequence_group.append((abpos_1[round((0.25*property_group1_length)-0.1)]/sequencelength)*100)\n",
    "            Sequence_group.append((abpos_1[round((0.5*property_group1_length)-0.1)]/sequencelength)*100)\n",
    "            Sequence_group.append((abpos_1[round((0.75*property_group1_length)-0.1)]/sequencelength)*100)\n",
    "            Sequence_group.append((abpos_1[property_group1_length]/sequencelength)*100)\n",
    "\n",
    "        property_group2_length = propvalues.count(\"2\")\n",
    "        if property_group2_length == 0:\n",
    "            Sequence_group.extend([0, 0, 0, 0, 0])\n",
    "        elif property_group2_length == 1:\n",
    "            Sequence_group.append((abpos_2[1]/sequencelength)*100)\n",
    "            Sequence_group.append((abpos_2[1]/sequencelength)*100)\n",
    "            Sequence_group.append((abpos_2[1]/sequencelength)*100)\n",
    "            Sequence_group.append((abpos_2[1]/sequencelength)*100)\n",
    "            Sequence_group.append((abpos_2[1]/sequencelength)*100)\n",
    "        elif property_group2_length == 2:\n",
    "            Sequence_group.append((abpos_2[1]/sequencelength)*100)\n",
    "            Sequence_group.append((abpos_2[1]/sequencelength)*100)\n",
    "            Sequence_group.append((abpos_2[round((0.5*property_group2_length)-0.1)]/sequencelength)*100)\n",
    "            Sequence_group.append((abpos_2[round((0.75*property_group2_length)-0.1)]/sequencelength)*100)\n",
    "            Sequence_group.append((abpos_2[property_group2_length]/sequencelength)*100)\n",
    "        else:\n",
    "            Sequence_group.append((abpos_2[1]/sequencelength)*100)\n",
    "            Sequence_group.append((abpos_2[round((0.25*property_group2_length)-0.1)]/sequencelength)*100)\n",
    "            Sequence_group.append((abpos_2[round((0.5*property_group2_length)-0.1)]/sequencelength)*100)\n",
    "            Sequence_group.append((abpos_2[round((0.75*property_group2_length)-0.1)]/sequencelength)*100)\n",
    "            Sequence_group.append((abpos_2[property_group2_length]/sequencelength)*100)\n",
    "\n",
    "        property_group3_length = propvalues.count(\"3\")\n",
    "        if property_group3_length == 0:\n",
    "            Sequence_group.extend([0, 0, 0, 0, 0])\n",
    "        elif property_group3_length == 1:\n",
    "            Sequence_group.append((abpos_3[1]/sequencelength)*100)\n",
    "            Sequence_group.append((abpos_3[1]/sequencelength)*100)\n",
    "            Sequence_group.append((abpos_3[1]/sequencelength)*100)\n",
    "            Sequence_group.append((abpos_3[1]/sequencelength)*100)\n",
    "            Sequence_group.append((abpos_3[1]/sequencelength)*100)\n",
    "        elif property_group3_length == 2:\n",
    "            Sequence_group.append((abpos_3[1]/sequencelength)*100)\n",
    "            Sequence_group.append((abpos_3[1]/sequencelength)*100)\n",
    "            Sequence_group.append((abpos_3[round((0.5*property_group3_length)-0.1)]/sequencelength)*100)\n",
    "            Sequence_group.append((abpos_3[round((0.75*property_group3_length)-0.1)]/sequencelength)*100)\n",
    "            Sequence_group.append((abpos_3[property_group3_length]/sequencelength)*100)\n",
    "        else:\n",
    "            Sequence_group.append((abpos_3[1]/sequencelength)*100)\n",
    "            Sequence_group.append((abpos_3[round((0.25*property_group3_length)-0.1)]/sequencelength)*100)\n",
    "            Sequence_group.append((abpos_3[round((0.5*property_group3_length)-0.1)]/sequencelength)*100)\n",
    "            Sequence_group.append((abpos_3[round((0.75*property_group3_length)-0.1)]/sequencelength)*100)\n",
    "            Sequence_group.append((abpos_3[property_group3_length]/sequencelength)*100)\n",
    "    return Sequence_group"
   ]
  },
  {
   "cell_type": "markdown",
   "id": "8c8b85be",
   "metadata": {},
   "source": [
    "# Antigen Features"
   ]
  },
  {
   "cell_type": "code",
   "execution_count": null,
   "id": "044eced7",
   "metadata": {},
   "outputs": [],
   "source": [
    "# Bio python 툴을 이용하여 Antigen의 4가지 features extraction\n",
    "\n",
    "def get_protein_feature(seq):\n",
    "    protein_feature = []\n",
    "    protein_feature.append(ProteinAnalysis(seq).isoelectric_point())\n",
    "    protein_feature.append(ProteinAnalysis(seq).aromaticity())\n",
    "    protein_feature.append(ProteinAnalysis(seq).gravy())\n",
    "    protein_feature.append(ProteinAnalysis(seq).instability_index())\n",
    "    return protein_feature"
   ]
  },
  {
   "cell_type": "markdown",
   "id": "ce89ffae",
   "metadata": {},
   "source": [
    "# Get Features"
   ]
  },
  {
   "cell_type": "code",
   "execution_count": 8,
   "id": "8620b4b9",
   "metadata": {},
   "outputs": [],
   "source": [
    "\n",
    "def get_preprocessing(data_type, new_df):   \n",
    "    protein_features = []\n",
    "    epitope_features = []\n",
    "    disease_features = []\n",
    "        \n",
    "    for epitope, antigen, d_type, d_state in tqdm(zip(new_df['epitope_seq'], new_df['antigen_seq'], new_df['disease_type'], new_df['disease_state'])):        \n",
    "\n",
    "        protein_features.append(get_protein_feature(antigen))\n",
    "        epitope_features.append(get_peptide_feature(epitope))\n",
    "        disease_features.append([d_type, d_state])\n",
    "    \n",
    "    label_list = None\n",
    "    if data_type != 'test':\n",
    "        label_list = []\n",
    "        for label in new_df['label']:\n",
    "            label_list.append(label)\n",
    "    print(f'{data_type} dataframe preprocessing was done.')\n",
    "    return protein_features, epitope_features, disease_features, label_list"
   ]
  },
  {
   "cell_type": "markdown",
   "id": "605c88c2",
   "metadata": {},
   "source": [
    "# Train & Validation Split"
   ]
  },
  {
   "cell_type": "code",
   "execution_count": 9,
   "id": "30ce9037",
   "metadata": {},
   "outputs": [
    {
     "name": "stderr",
     "output_type": "stream",
     "text": [
      "152648it [05:29, 463.09it/s]\n",
      "93it [00:00, 457.20it/s]"
     ]
    },
    {
     "name": "stdout",
     "output_type": "stream",
     "text": [
      "train dataframe preprocessing was done.\n"
     ]
    },
    {
     "name": "stderr",
     "output_type": "stream",
     "text": [
      "38163it [01:21, 466.68it/s]"
     ]
    },
    {
     "name": "stdout",
     "output_type": "stream",
     "text": [
      "val dataframe preprocessing was done.\n"
     ]
    },
    {
     "name": "stderr",
     "output_type": "stream",
     "text": [
      "\n"
     ]
    }
   ],
   "source": [
    "train, val = train_test_split(train, train_size=0.8, random_state=12)\n",
    "\n",
    "train_protein_features, train_epitope_features, train_disease_features, train_label_list = get_preprocessing('train', train)\n",
    "val_protein_features, val_epitope_features, val_disease_features, val_label_list = get_preprocessing('val', val)"
   ]
  },
  {
   "cell_type": "code",
   "execution_count": 10,
   "id": "0432ff00",
   "metadata": {},
   "outputs": [],
   "source": [
    "train_protein_features = np.array(train_protein_features)\n",
    "train_epitope_features = np.array(train_epitope_features)\n",
    "train_disease_features = np.array(train_disease_features)\n",
    "X_train = np.concatenate((train_protein_features, train_epitope_features, train_disease_features), axis=1)\n",
    "y_train = np.array(train_label_list)\n",
    "\n",
    "val_protein_features = np.array(val_protein_features)\n",
    "val_epitope_features = np.array(val_epitope_features)\n",
    "val_disease_features = np.array(val_disease_features)\n",
    "X_val = np.concatenate((val_protein_features, val_epitope_features, val_disease_features), axis=1)\n",
    "y_val = np.array(val_label_list)"
   ]
  },
  {
   "cell_type": "markdown",
   "id": "85323efd",
   "metadata": {},
   "source": [
    "# XGBoost Optimization"
   ]
  },
  {
   "cell_type": "code",
   "execution_count": 14,
   "id": "c3f701bf",
   "metadata": {
    "scrolled": true
   },
   "outputs": [
    {
     "name": "stderr",
     "output_type": "stream",
     "text": [
      "\u001b[32m[I 2022-07-28 14:15:55,272]\u001b[0m A new study created in memory with name: XGboost\u001b[0m\n",
      "\u001b[32m[I 2022-07-28 14:21:36,712]\u001b[0m Trial 0 finished with value: 1.996512824902588 and parameters: {'max_depth': 13, 'learning_rate': 0.005061576888752304, 'n_estimators': 2223, 'subsample': 0.8666253978417815, 'min_child_weight': 47, 'alpha': 0.004207053950287938}. Best is trial 0 with value: 1.996512824902588.\u001b[0m\n",
      "\u001b[32m[I 2022-07-28 14:23:27,901]\u001b[0m Trial 1 finished with value: 2.5359083968092255 and parameters: {'max_depth': 4, 'learning_rate': 0.0015741890047456662, 'n_estimators': 1843, 'subsample': 0.9011142760532918, 'min_child_weight': 7, 'alpha': 7.579479953348009}. Best is trial 0 with value: 1.996512824902588.\u001b[0m\n",
      "\u001b[32m[I 2022-07-28 14:25:06,387]\u001b[0m Trial 2 finished with value: 2.636376431289911 and parameters: {'max_depth': 26, 'learning_rate': 1.879466824163843e-07, 'n_estimators': 627, 'subsample': 0.7473219839293679, 'min_child_weight': 92, 'alpha': 0.12561043700013558}. Best is trial 0 with value: 1.996512824902588.\u001b[0m\n",
      "\u001b[32m[I 2022-07-28 14:30:05,471]\u001b[0m Trial 3 finished with value: 2.5992691542289283 and parameters: {'max_depth': 15, 'learning_rate': 5.589524205217922e-07, 'n_estimators': 1874, 'subsample': 0.7357087350422706, 'min_child_weight': 88, 'alpha': 0.029204338471814112}. Best is trial 0 with value: 1.996512824902588.\u001b[0m\n",
      "\u001b[32m[I 2022-07-28 14:32:08,069]\u001b[0m Trial 4 finished with value: 2.6101282518286526 and parameters: {'max_depth': 15, 'learning_rate': 0.0005141096648805752, 'n_estimators': 679, 'subsample': 0.8409186073863539, 'min_child_weight': 178, 'alpha': 0.0015339162591163618}. Best is trial 0 with value: 1.996512824902588.\u001b[0m\n",
      "\u001b[32m[I 2022-07-28 14:32:49,818]\u001b[0m Trial 5 finished with value: 2.7721301739879607 and parameters: {'max_depth': 20, 'learning_rate': 1.0547383621352015e-07, 'n_estimators': 288, 'subsample': 0.9819339357105158, 'min_child_weight': 290, 'alpha': 1.7123375973163988}. Best is trial 0 with value: 1.996512824902588.\u001b[0m\n",
      "\u001b[32m[I 2022-07-28 14:33:17,919]\u001b[0m Trial 6 finished with value: 2.382056486362205 and parameters: {'max_depth': 11, 'learning_rate': 3.855073690026179e-08, 'n_estimators': 2084, 'subsample': 0.8189898585654789, 'min_child_weight': 37, 'alpha': 0.09565499215943825}. Best is trial 0 with value: 1.996512824902588.\u001b[0m\n",
      "\u001b[32m[I 2022-07-28 14:34:11,170]\u001b[0m Trial 7 finished with value: 2.810132636584742 and parameters: {'max_depth': 3, 'learning_rate': 0.0028570800750407216, 'n_estimators': 850, 'subsample': 0.8865924740059964, 'min_child_weight': 94, 'alpha': 0.12030178871154672}. Best is trial 0 with value: 1.996512824902588.\u001b[0m\n",
      "\u001b[32m[I 2022-07-28 14:38:46,258]\u001b[0m Trial 8 finished with value: 2.7585554743778324 and parameters: {'max_depth': 18, 'learning_rate': 1.2856617791467908e-07, 'n_estimators': 2912, 'subsample': 0.9229275998195732, 'min_child_weight': 282, 'alpha': 3.7958531426706403}. Best is trial 0 with value: 1.996512824902588.\u001b[0m\n",
      "\u001b[32m[I 2022-07-28 14:40:24,070]\u001b[0m Trial 9 finished with value: 2.0263783499373456 and parameters: {'max_depth': 19, 'learning_rate': 0.0033981724150106006, 'n_estimators': 356, 'subsample': 0.7506822888918436, 'min_child_weight': 14, 'alpha': 0.02001342062287998}. Best is trial 0 with value: 1.996512824902588.\u001b[0m\n",
      "\u001b[32m[I 2022-07-28 14:47:08,159]\u001b[0m Trial 10 finished with value: 2.6653356451898476 and parameters: {'max_depth': 29, 'learning_rate': 2.2547863111427164e-05, 'n_estimators': 2755, 'subsample': 0.8014398664946769, 'min_child_weight': 193, 'alpha': 0.0014285676124002407}. Best is trial 0 with value: 1.996512824902588.\u001b[0m\n",
      "\u001b[32m[I 2022-07-28 14:50:52,462]\u001b[0m Trial 11 finished with value: 2.1331708673277254 and parameters: {'max_depth': 10, 'learning_rate': 9.65468448266085e-05, 'n_estimators': 1358, 'subsample': 0.7019447799089903, 'min_child_weight': 3, 'alpha': 0.009797114914173089}. Best is trial 0 with value: 1.996512824902588.\u001b[0m\n",
      "\u001b[32m[I 2022-07-28 14:58:59,041]\u001b[0m Trial 12 finished with value: 1.9404011946707964 and parameters: {'max_depth': 23, 'learning_rate': 0.009336243604950356, 'n_estimators': 2426, 'subsample': 0.7796898210523602, 'min_child_weight': 57, 'alpha': 0.008124576222198115}. Best is trial 12 with value: 1.9404011946707964.\u001b[0m\n",
      "\u001b[32m[I 2022-07-28 15:06:56,575]\u001b[0m Trial 13 finished with value: 1.9684570516910198 and parameters: {'max_depth': 24, 'learning_rate': 0.006857395151888494, 'n_estimators': 2401, 'subsample': 0.7860736812671277, 'min_child_weight': 63, 'alpha': 0.0032770472764322555}. Best is trial 12 with value: 1.9404011946707964.\u001b[0m\n",
      "\u001b[32m[I 2022-07-28 15:13:43,704]\u001b[0m Trial 14 finished with value: 2.5920278002938173 and parameters: {'max_depth': 24, 'learning_rate': 0.0002213199272000909, 'n_estimators': 2503, 'subsample': 0.7910397758025367, 'min_child_weight': 145, 'alpha': 0.005815428379947868}. Best is trial 12 with value: 1.9404011946707964.\u001b[0m\n",
      "\u001b[32m[I 2022-07-28 15:17:17,033]\u001b[0m Trial 15 finished with value: 2.6653387251579383 and parameters: {'max_depth': 23, 'learning_rate': 3.1735668424563523e-06, 'n_estimators': 1385, 'subsample': 0.7839878164684057, 'min_child_weight': 131, 'alpha': 0.5521008712893732}. Best is trial 12 with value: 1.9404011946707964.\u001b[0m\n",
      "\u001b[32m[I 2022-07-28 15:25:49,040]\u001b[0m Trial 16 finished with value: 2.4879501725402697 and parameters: {'max_depth': 30, 'learning_rate': 4.560547478062717e-05, 'n_estimators': 2444, 'subsample': 0.7016875487376472, 'min_child_weight': 61, 'alpha': 0.03367849222604851}. Best is trial 12 with value: 1.9404011946707964.\u001b[0m\n",
      "\u001b[32m[I 2022-07-28 15:32:10,395]\u001b[0m Trial 17 finished with value: 2.196526302897802 and parameters: {'max_depth': 22, 'learning_rate': 0.008729314695764313, 'n_estimators': 2532, 'subsample': 0.7811785170192471, 'min_child_weight': 236, 'alpha': 0.00292518916604074}. Best is trial 12 with value: 1.9404011946707964.\u001b[0m\n",
      "\u001b[32m[I 2022-07-28 15:37:39,573]\u001b[0m Trial 18 finished with value: 2.64361680047332 and parameters: {'max_depth': 26, 'learning_rate': 4.912339130715831e-06, 'n_estimators': 1748, 'subsample': 0.8426625872551787, 'min_child_weight': 119, 'alpha': 0.013582246215072811}. Best is trial 12 with value: 1.9404011946707964.\u001b[0m\n",
      "\u001b[32m[I 2022-07-28 15:47:11,403]\u001b[0m Trial 19 finished with value: 2.265307578734734 and parameters: {'max_depth': 27, 'learning_rate': 0.0005320103297634897, 'n_estimators': 2948, 'subsample': 0.7544709736217131, 'min_child_weight': 65, 'alpha': 0.001176506615604368}. Best is trial 12 with value: 1.9404011946707964.\u001b[0m\n",
      "\u001b[32m[I 2022-07-28 15:50:49,703]\u001b[0m Trial 20 finished with value: 2.590215806589093 and parameters: {'max_depth': 21, 'learning_rate': 0.0009295008729249365, 'n_estimators': 1139, 'subsample': 0.7248656117034363, 'min_child_weight': 176, 'alpha': 0.05269972289469778}. Best is trial 12 with value: 1.9404011946707964.\u001b[0m\n",
      "\u001b[32m[I 2022-07-28 15:56:27,565]\u001b[0m Trial 21 finished with value: 2.0082778984025103 and parameters: {'max_depth': 12, 'learning_rate': 0.004240003107437348, 'n_estimators': 2147, 'subsample': 0.8659932333839772, 'min_child_weight': 46, 'alpha': 0.004661261855258062}. Best is trial 12 with value: 1.9404011946707964.\u001b[0m\n",
      "\u001b[32m[I 2022-07-28 16:00:47,565]\u001b[0m Trial 22 finished with value: 1.9983222414911552 and parameters: {'max_depth': 8, 'learning_rate': 0.006185789075949734, 'n_estimators': 2189, 'subsample': 0.816951560480094, 'min_child_weight': 36, 'alpha': 0.003083783188656347}. Best is trial 12 with value: 1.9404011946707964.\u001b[0m\n",
      "\u001b[32m[I 2022-07-28 16:08:01,555]\u001b[0m Trial 23 finished with value: 2.3684843010117422 and parameters: {'max_depth': 17, 'learning_rate': 0.0002995114499684242, 'n_estimators': 2353, 'subsample': 0.9303192772884776, 'min_child_weight': 75, 'alpha': 0.008864016005028336}. Best is trial 12 with value: 1.9404011946707964.\u001b[0m\n",
      "\u001b[32m[I 2022-07-28 16:15:28,852]\u001b[0m Trial 24 finished with value: 2.023664424100052 and parameters: {'max_depth': 14, 'learning_rate': 0.008745356642516041, 'n_estimators': 2710, 'subsample': 0.8558781423197612, 'min_child_weight': 118, 'alpha': 0.002555774893576328}. Best is trial 12 with value: 1.9404011946707964.\u001b[0m\n",
      "\u001b[32m[I 2022-07-28 16:22:16,486]\u001b[0m Trial 25 finished with value: 2.1367922985731806 and parameters: {'max_depth': 24, 'learning_rate': 0.0012761301802695505, 'n_estimators': 1605, 'subsample': 0.7737001422884205, 'min_child_weight': 30, 'alpha': 0.0057908724879977775}. Best is trial 12 with value: 1.9404011946707964.\u001b[0m\n"
     ]
    },
    {
     "name": "stderr",
     "output_type": "stream",
     "text": [
      "\u001b[32m[I 2022-07-28 16:25:37,270]\u001b[0m Trial 26 finished with value: 2.6264192867749205 and parameters: {'max_depth': 6, 'learning_rate': 0.00014613518661471525, 'n_estimators': 1952, 'subsample': 0.8076928138332339, 'min_child_weight': 107, 'alpha': 0.24444361636070627}. Best is trial 12 with value: 1.9404011946707964.\u001b[0m\n",
      "\u001b[32m[I 2022-07-28 16:32:04,358]\u001b[0m Trial 27 finished with value: 2.16846818304388 and parameters: {'max_depth': 13, 'learning_rate': 0.0018533339988984203, 'n_estimators': 2342, 'subsample': 0.7677871725359959, 'min_child_weight': 62, 'alpha': 0.011624806031171957}. Best is trial 12 with value: 1.9404011946707964.\u001b[0m\n",
      "\u001b[32m[I 2022-07-28 16:40:14,688]\u001b[0m Trial 28 finished with value: 2.3431413222206188 and parameters: {'max_depth': 28, 'learning_rate': 5.111031250055173e-05, 'n_estimators': 2235, 'subsample': 0.8821351587386572, 'min_child_weight': 48, 'alpha': 0.0022355661686797495}. Best is trial 12 with value: 1.9404011946707964.\u001b[0m\n",
      "\u001b[32m[I 2022-07-28 16:46:41,219]\u001b[0m Trial 29 finished with value: 2.0490028562716134 and parameters: {'max_depth': 9, 'learning_rate': 0.000905929502813187, 'n_estimators': 2726, 'subsample': 0.9190646384519569, 'min_child_weight': 16, 'alpha': 0.052504010163250785}. Best is trial 12 with value: 1.9404011946707964.\u001b[0m\n",
      "\u001b[32m[I 2022-07-28 16:52:30,753]\u001b[0m Trial 30 finished with value: 2.2091948380382567 and parameters: {'max_depth': 16, 'learning_rate': 0.0019061514699194653, 'n_estimators': 1710, 'subsample': 0.9706835649956276, 'min_child_weight': 79, 'alpha': 0.0046688467893091085}. Best is trial 12 with value: 1.9404011946707964.\u001b[0m\n",
      "\u001b[32m[I 2022-07-28 16:56:11,267]\u001b[0m Trial 31 finished with value: 1.9675511805516412 and parameters: {'max_depth': 7, 'learning_rate': 0.00991929861208459, 'n_estimators': 1972, 'subsample': 0.8206510453865786, 'min_child_weight': 27, 'alpha': 0.0028937214830728327}. Best is trial 12 with value: 1.9404011946707964.\u001b[0m\n",
      "\u001b[32m[I 2022-07-28 16:59:22,498]\u001b[0m Trial 32 finished with value: 2.0010369844628406 and parameters: {'max_depth': 6, 'learning_rate': 0.009623370833604606, 'n_estimators': 1992, 'subsample': 0.8260998733045606, 'min_child_weight': 23, 'alpha': 0.0011394023168735834}. Best is trial 12 with value: 1.9404011946707964.\u001b[0m\n",
      "\u001b[32m[I 2022-07-28 17:03:27,226]\u001b[0m Trial 33 finished with value: 2.174802911561712 and parameters: {'max_depth': 6, 'learning_rate': 0.00355433866906349, 'n_estimators': 2549, 'subsample': 0.8615589233214062, 'min_child_weight': 53, 'alpha': 0.020214602716496364}. Best is trial 12 with value: 1.9404011946707964.\u001b[0m\n",
      "\u001b[32m[I 2022-07-28 17:03:42,202]\u001b[0m Trial 34 finished with value: 3.1368445610869284 and parameters: {'max_depth': 8, 'learning_rate': 1.003627779834759e-08, 'n_estimators': 1822, 'subsample': 0.7983552595289913, 'min_child_weight': 91, 'alpha': 0.002095713513767856}. Best is trial 12 with value: 1.9404011946707964.\u001b[0m\n",
      "\u001b[32m[I 2022-07-28 17:14:19,771]\u001b[0m Trial 35 finished with value: 1.9132491554778919 and parameters: {'max_depth': 24, 'learning_rate': 0.0004994974559400158, 'n_estimators': 2009, 'subsample': 0.7325713618770516, 'min_child_weight': 5, 'alpha': 0.007628670021055994}. Best is trial 35 with value: 1.9132491554778919.\u001b[0m\n",
      "\u001b[32m[I 2022-07-28 17:27:01,789]\u001b[0m Trial 36 finished with value: 1.8489919553925567 and parameters: {'max_depth': 24, 'learning_rate': 0.00041811005629741705, 'n_estimators': 2013, 'subsample': 0.7320505344912434, 'min_child_weight': 2, 'alpha': 0.006638532735154417}. Best is trial 36 with value: 1.8489919553925567.\u001b[0m\n",
      "\u001b[32m[I 2022-07-28 17:35:46,666]\u001b[0m Trial 37 finished with value: 1.939495470196565 and parameters: {'max_depth': 21, 'learning_rate': 1.5091603136962111e-06, 'n_estimators': 1459, 'subsample': 0.7296479620975337, 'min_child_weight': 3, 'alpha': 0.0076598441762630995}. Best is trial 36 with value: 1.8489919553925567.\u001b[0m\n",
      "\u001b[32m[I 2022-07-28 17:43:44,660]\u001b[0m Trial 38 finished with value: 1.9069141336297648 and parameters: {'max_depth': 20, 'learning_rate': 8.992160893728726e-07, 'n_estimators': 1347, 'subsample': 0.7255888071068072, 'min_child_weight': 2, 'alpha': 0.007327613018577676}. Best is trial 36 with value: 1.8489919553925567.\u001b[0m\n",
      "\u001b[32m[I 2022-07-28 17:51:43,644]\u001b[0m Trial 39 finished with value: 1.9557860232430635 and parameters: {'max_depth': 26, 'learning_rate': 7.858623977516328e-07, 'n_estimators': 1364, 'subsample': 0.7238123952913211, 'min_child_weight': 4, 'alpha': 0.016823707800072155}. Best is trial 36 with value: 1.8489919553925567.\u001b[0m\n",
      "\u001b[32m[I 2022-07-28 17:57:43,584]\u001b[0m Trial 40 finished with value: 1.8689028711241529 and parameters: {'max_depth': 20, 'learning_rate': 9.443914811492517e-07, 'n_estimators': 1012, 'subsample': 0.7334074076322143, 'min_child_weight': 1, 'alpha': 0.030586998553761333}. Best is trial 36 with value: 1.8489919553925567.\u001b[0m\n",
      "\u001b[32m[I 2022-07-28 18:03:08,443]\u001b[0m Trial 41 finished with value: 2.0173286898783527 and parameters: {'max_depth': 20, 'learning_rate': 7.476791754187902e-07, 'n_estimators': 1140, 'subsample': 0.7341145778354126, 'min_child_weight': 7, 'alpha': 0.041296284652259777}. Best is trial 36 with value: 1.8489919553925567.\u001b[0m\n",
      "\u001b[32m[I 2022-07-28 18:09:42,378]\u001b[0m Trial 42 finished with value: 1.8860983315104918 and parameters: {'max_depth': 18, 'learning_rate': 2.73421159293076e-07, 'n_estimators': 1143, 'subsample': 0.7155316544927414, 'min_child_weight': 1, 'alpha': 0.026942446427689302}. Best is trial 36 with value: 1.8489919553925567.\u001b[0m\n",
      "\u001b[32m[I 2022-07-28 18:13:23,479]\u001b[0m Trial 43 finished with value: 2.2101013586947156 and parameters: {'max_depth': 18, 'learning_rate': 2.7031808599465776e-07, 'n_estimators': 914, 'subsample': 0.714746427908569, 'min_child_weight': 18, 'alpha': 0.07044905833789847}. Best is trial 36 with value: 1.8489919553925567.\u001b[0m\n",
      "\u001b[32m[I 2022-07-28 18:17:53,480]\u001b[0m Trial 44 finished with value: 2.354001278859062 and parameters: {'max_depth': 19, 'learning_rate': 6.573169594026792e-08, 'n_estimators': 1096, 'subsample': 0.743850092437868, 'min_child_weight': 42, 'alpha': 0.025334511353493218}. Best is trial 36 with value: 1.8489919553925567.\u001b[0m\n",
      "\u001b[32m[I 2022-07-28 18:20:39,524]\u001b[0m Trial 45 finished with value: 2.3060355746676 and parameters: {'max_depth': 16, 'learning_rate': 3.357334091486959e-07, 'n_estimators': 739, 'subsample': 0.7128435076542189, 'min_child_weight': 28, 'alpha': 0.172261224454845}. Best is trial 36 with value: 1.8489919553925567.\u001b[0m\n",
      "\u001b[32m[I 2022-07-28 18:22:33,829]\u001b[0m Trial 46 finished with value: 2.1322680761564365 and parameters: {'max_depth': 21, 'learning_rate': 1.306697929521945e-05, 'n_estimators': 387, 'subsample': 0.7534962099761215, 'min_child_weight': 14, 'alpha': 0.026885242568146322}. Best is trial 36 with value: 1.8489919553925567.\u001b[0m\n",
      "\u001b[32m[I 2022-07-28 18:26:19,081]\u001b[0m Trial 47 finished with value: 2.321420717522325 and parameters: {'max_depth': 25, 'learning_rate': 1.5657883434795618e-06, 'n_estimators': 977, 'subsample': 0.7426418322597902, 'min_child_weight': 37, 'alpha': 0.013744221033136862}. Best is trial 36 with value: 1.8489919553925567.\u001b[0m\n",
      "\u001b[32m[I 2022-07-28 18:29:16,416]\u001b[0m Trial 48 finished with value: 1.9168696648281367 and parameters: {'max_depth': 19, 'learning_rate': 6.735807323415548e-06, 'n_estimators': 501, 'subsample': 0.7617505772013433, 'min_child_weight': 2, 'alpha': 0.08048676058786608}. Best is trial 36 with value: 1.8489919553925567.\u001b[0m\n",
      "\u001b[32m[I 2022-07-28 18:34:07,700]\u001b[0m Trial 49 finished with value: 2.2336328466330486 and parameters: {'max_depth': 23, 'learning_rate': 1.8574686471560363e-06, 'n_estimators': 1264, 'subsample': 0.7115019493315854, 'min_child_weight': 19, 'alpha': 0.46649655736191536}. Best is trial 36 with value: 1.8489919553925567.\u001b[0m\n",
      "\u001b[32m[I 2022-07-28 18:35:22,049]\u001b[0m Trial 50 finished with value: 1.9032931633319148 and parameters: {'max_depth': 17, 'learning_rate': 2.5833959668432383e-08, 'n_estimators': 770, 'subsample': 0.7199209809004492, 'min_child_weight': 1, 'alpha': 0.007000727429016139}. Best is trial 36 with value: 1.8489919553925567.\u001b[0m\n",
      "\u001b[32m[I 2022-07-28 18:35:40,009]\u001b[0m Trial 51 finished with value: 3.1368445610869284 and parameters: {'max_depth': 17, 'learning_rate': 1.980082563636711e-08, 'n_estimators': 821, 'subsample': 0.719744384347811, 'min_child_weight': 261, 'alpha': 0.008537698864331634}. Best is trial 36 with value: 1.8489919553925567.\u001b[0m\n"
     ]
    },
    {
     "name": "stderr",
     "output_type": "stream",
     "text": [
      "\u001b[32m[I 2022-07-28 18:42:53,081]\u001b[0m Trial 52 finished with value: 1.9078184543090166 and parameters: {'max_depth': 15, 'learning_rate': 1.0802110584195243e-07, 'n_estimators': 1525, 'subsample': 0.702696954661618, 'min_child_weight': 1, 'alpha': 0.018680769145290464}. Best is trial 36 with value: 1.8489919553925567.\u001b[0m\n",
      "\u001b[32m[I 2022-07-28 18:43:17,723]\u001b[0m Trial 53 finished with value: 2.2834094550167126 and parameters: {'max_depth': 14, 'learning_rate': 9.114270043951241e-08, 'n_estimators': 105, 'subsample': 0.7048132433933325, 'min_child_weight': 20, 'alpha': 0.019501157111050386}. Best is trial 36 with value: 1.8489919553925567.\u001b[0m\n",
      "\u001b[32m[I 2022-07-28 18:46:27,754]\u001b[0m Trial 54 finished with value: 2.305130164475826 and parameters: {'max_depth': 18, 'learning_rate': 3.823443098333927e-08, 'n_estimators': 1614, 'subsample': 0.7405374920856426, 'min_child_weight': 34, 'alpha': 0.03512511191478571}. Best is trial 36 with value: 1.8489919553925567.\u001b[0m\n",
      "\u001b[32m[I 2022-07-28 18:48:38,318]\u001b[0m Trial 55 finished with value: 2.1440330658477036 and parameters: {'max_depth': 15, 'learning_rate': 1.9298293650330733e-07, 'n_estimators': 604, 'subsample': 0.7002599213020514, 'min_child_weight': 12, 'alpha': 0.013068081151699279}. Best is trial 36 with value: 1.8489919553925567.\u001b[0m\n",
      "\u001b[32m[I 2022-07-28 18:55:46,677]\u001b[0m Trial 56 finished with value: 1.8707129162776364 and parameters: {'max_depth': 20, 'learning_rate': 5.685659615104638e-08, 'n_estimators': 1254, 'subsample': 0.7207315373215575, 'min_child_weight': 1, 'alpha': 0.004279001533935373}. Best is trial 36 with value: 1.8489919553925567.\u001b[0m\n",
      "\u001b[32m[I 2022-07-28 18:57:30,174]\u001b[0m Trial 57 finished with value: 2.6399963120752394 and parameters: {'max_depth': 20, 'learning_rate': 4.987509287841119e-08, 'n_estimators': 1233, 'subsample': 0.7583952184292507, 'min_child_weight': 170, 'alpha': 7.701602609506355}. Best is trial 36 with value: 1.8489919553925567.\u001b[0m\n",
      "\u001b[32m[I 2022-07-28 19:00:56,576]\u001b[0m Trial 58 finished with value: 2.3874881722827825 and parameters: {'max_depth': 18, 'learning_rate': 4.057206020588848e-07, 'n_estimators': 1067, 'subsample': 0.7214606439024805, 'min_child_weight': 46, 'alpha': 0.004039674866182888}. Best is trial 36 with value: 1.8489919553925567.\u001b[0m\n",
      "\u001b[32m[I 2022-07-28 19:01:25,545]\u001b[0m Trial 59 finished with value: 3.1368445610869284 and parameters: {'max_depth': 22, 'learning_rate': 2.4707119584268126e-08, 'n_estimators': 1276, 'subsample': 0.7482335412057721, 'min_child_weight': 25, 'alpha': 0.0018770148922439595}. Best is trial 36 with value: 1.8489919553925567.\u001b[0m\n",
      "\u001b[32m[I 2022-07-28 19:03:57,373]\u001b[0m Trial 60 finished with value: 2.662620315557574 and parameters: {'max_depth': 22, 'learning_rate': 1.7046231038103155e-07, 'n_estimators': 984, 'subsample': 0.7342042275610826, 'min_child_weight': 191, 'alpha': 0.005497949673028213}. Best is trial 36 with value: 1.8489919553925567.\u001b[0m\n",
      "\u001b[32m[I 2022-07-28 19:04:39,920]\u001b[0m Trial 61 finished with value: 3.1368445610869284 and parameters: {'max_depth': 20, 'learning_rate': 1.0585964674421615e-08, 'n_estimators': 1482, 'subsample': 0.7092898161524807, 'min_child_weight': 2, 'alpha': 0.016695056684420024}. Best is trial 36 with value: 1.8489919553925567.\u001b[0m\n",
      "\u001b[32m[I 2022-07-28 19:09:35,698]\u001b[0m Trial 62 finished with value: 2.143127865177569 and parameters: {'max_depth': 15, 'learning_rate': 1.0958939141816127e-07, 'n_estimators': 1522, 'subsample': 0.7173291576417299, 'min_child_weight': 13, 'alpha': 0.010612347791556535}. Best is trial 36 with value: 1.8489919553925567.\u001b[0m\n",
      "\u001b[32m[I 2022-07-28 19:12:59,753]\u001b[0m Trial 63 finished with value: 2.312370596515727 and parameters: {'max_depth': 17, 'learning_rate': 5.967385739305634e-07, 'n_estimators': 797, 'subsample': 0.7269374196371741, 'min_child_weight': 34, 'alpha': 0.04741448402010697}. Best is trial 36 with value: 1.8489919553925567.\u001b[0m\n",
      "\u001b[32m[I 2022-07-28 19:19:55,097]\u001b[0m Trial 64 finished with value: 2.108736776787579 and parameters: {'max_depth': 19, 'learning_rate': 7.806373198405233e-08, 'n_estimators': 1674, 'subsample': 0.7052903865345682, 'min_child_weight': 12, 'alpha': 0.006583100723090488}. Best is trial 36 with value: 1.8489919553925567.\u001b[0m\n",
      "\u001b[32m[I 2022-07-28 19:20:32,819]\u001b[0m Trial 65 finished with value: 2.5069542533329487 and parameters: {'max_depth': 13, 'learning_rate': 3.249436578439411e-08, 'n_estimators': 1173, 'subsample': 0.7386549057208173, 'min_child_weight': 71, 'alpha': 0.0035299201296061762}. Best is trial 36 with value: 1.8489919553925567.\u001b[0m\n",
      "\u001b[32m[I 2022-07-28 19:24:52,141]\u001b[0m Trial 66 finished with value: 2.0824884925655014 and parameters: {'max_depth': 11, 'learning_rate': 2.87893935053829e-06, 'n_estimators': 1407, 'subsample': 0.7176196780553697, 'min_child_weight': 1, 'alpha': 0.024284885153967276}. Best is trial 36 with value: 1.8489919553925567.\u001b[0m\n",
      "\u001b[32m[I 2022-07-28 19:29:09,008]\u001b[0m Trial 67 finished with value: 2.278884771652364 and parameters: {'max_depth': 16, 'learning_rate': 1.5826919467268484e-07, 'n_estimators': 1047, 'subsample': 0.7678927129885036, 'min_child_weight': 24, 'alpha': 0.010198793371125763}. Best is trial 36 with value: 1.8489919553925567.\u001b[0m\n",
      "\u001b[32m[I 2022-07-28 19:30:38,313]\u001b[0m Trial 68 finished with value: 2.754935405023029 and parameters: {'max_depth': 20, 'learning_rate': 1.1001727555321883e-06, 'n_estimators': 655, 'subsample': 0.7283494439331228, 'min_child_weight': 219, 'alpha': 3.894475523085498}. Best is trial 36 with value: 1.8489919553925567.\u001b[0m\n",
      "\u001b[32m[I 2022-07-28 19:34:30,017]\u001b[0m Trial 69 finished with value: 2.36486169644511 and parameters: {'max_depth': 14, 'learning_rate': 2.4000009515239076e-07, 'n_estimators': 1314, 'subsample': 0.7002750237692666, 'min_child_weight': 39, 'alpha': 0.004573377646615746}. Best is trial 36 with value: 1.8489919553925567.\u001b[0m\n",
      "\u001b[32m[I 2022-07-28 19:38:25,183]\u001b[0m Trial 70 finished with value: 2.1033067670401118 and parameters: {'max_depth': 17, 'learning_rate': 4.5721982323029895e-07, 'n_estimators': 937, 'subsample': 0.7490673701320639, 'min_child_weight': 11, 'alpha': 0.06209614051008516}. Best is trial 36 with value: 1.8489919553925567.\u001b[0m\n",
      "\u001b[32m[I 2022-07-28 19:52:50,099]\u001b[0m Trial 71 finished with value: 1.8182210411181898 and parameters: {'max_depth': 25, 'learning_rate': 0.0004716290833250973, 'n_estimators': 2081, 'subsample': 0.7302879961932139, 'min_child_weight': 1, 'alpha': 0.006992355410761639}. Best is trial 71 with value: 1.8182210411181898.\u001b[0m\n",
      "\u001b[32m[I 2022-07-28 19:57:41,838]\u001b[0m Trial 72 finished with value: 2.2634992307065245 and parameters: {'max_depth': 27, 'learning_rate': 7.119944921021003e-05, 'n_estimators': 1198, 'subsample': 0.7245309904538877, 'min_child_weight': 23, 'alpha': 0.032586100241993064}. Best is trial 71 with value: 1.8182210411181898.\u001b[0m\n",
      "\u001b[32m[I 2022-07-28 20:10:20,187]\u001b[0m Trial 73 finished with value: 1.8815733757680124 and parameters: {'max_depth': 25, 'learning_rate': 3.066733013705695e-05, 'n_estimators': 1832, 'subsample': 0.7088523937666247, 'min_child_weight': 1, 'alpha': 0.005951355269770128}. Best is trial 71 with value: 1.8182210411181898.\u001b[0m\n",
      "\u001b[32m[I 2022-07-28 20:20:09,072]\u001b[0m Trial 74 finished with value: 2.0824908601600196 and parameters: {'max_depth': 25, 'learning_rate': 0.000236961866593337, 'n_estimators': 2086, 'subsample': 0.7324729848817756, 'min_child_weight': 14, 'alpha': 0.0014358084415485755}. Best is trial 71 with value: 1.8182210411181898.\u001b[0m\n",
      "\u001b[32m[I 2022-07-28 20:26:15,693]\u001b[0m Trial 75 finished with value: 2.412830354891679 and parameters: {'max_depth': 28, 'learning_rate': 1.8361574861327485e-05, 'n_estimators': 1839, 'subsample': 0.7402109748624461, 'min_child_weight': 51, 'alpha': 0.006595278894566246}. Best is trial 71 with value: 1.8182210411181898.\u001b[0m\n",
      "\u001b[32m[I 2022-07-28 20:32:24,806]\u001b[0m Trial 76 finished with value: 2.290649803247958 and parameters: {'max_depth': 25, 'learning_rate': 2.576484383712783e-05, 'n_estimators': 1757, 'subsample': 0.7110989865464413, 'min_child_weight': 31, 'alpha': 0.0035013216631556896}. Best is trial 71 with value: 1.8182210411181898.\u001b[0m\n",
      "\u001b[32m[I 2022-07-28 20:43:01,448]\u001b[0m Trial 77 finished with value: 2.045384525946412 and parameters: {'max_depth': 23, 'learning_rate': 0.00014570306668416154, 'n_estimators': 2249, 'subsample': 0.7197481527819444, 'min_child_weight': 9, 'alpha': 0.005064304020673614}. Best is trial 71 with value: 1.8182210411181898.\u001b[0m\n"
     ]
    },
    {
     "name": "stderr",
     "output_type": "stream",
     "text": [
      "\u001b[32m[I 2022-07-28 20:50:44,927]\u001b[0m Trial 78 finished with value: 2.241777997443315 and parameters: {'max_depth': 22, 'learning_rate': 4.207419466154609e-06, 'n_estimators': 1902, 'subsample': 0.7659039403031009, 'min_child_weight': 20, 'alpha': 0.0018900052313522364}. Best is trial 71 with value: 1.8182210411181898.\u001b[0m\n",
      "\u001b[32m[I 2022-07-28 20:56:59,666]\u001b[0m Trial 79 finished with value: 2.5413446293493656 and parameters: {'max_depth': 21, 'learning_rate': 0.0004968165668724602, 'n_estimators': 2075, 'subsample': 0.7095075388467996, 'min_child_weight': 151, 'alpha': 0.002451649787230088}. Best is trial 71 with value: 1.8182210411181898.\u001b[0m\n",
      "\u001b[32m[I 2022-07-28 21:01:28,333]\u001b[0m Trial 80 finished with value: 2.036334363035486 and parameters: {'max_depth': 26, 'learning_rate': 0.0003543920422135956, 'n_estimators': 865, 'subsample': 0.7543652958697858, 'min_child_weight': 9, 'alpha': 0.11411889509395365}. Best is trial 71 with value: 1.8182210411181898.\u001b[0m\n",
      "\u001b[32m[I 2022-07-28 21:02:15,460]\u001b[0m Trial 81 finished with value: 3.1368445610869284 and parameters: {'max_depth': 24, 'learning_rate': 2.0170250591606802e-08, 'n_estimators': 1643, 'subsample': 0.707241335673152, 'min_child_weight': 2, 'alpha': 0.012551850496211608}. Best is trial 71 with value: 1.8182210411181898.\u001b[0m\n",
      "\u001b[32m[I 2022-07-28 21:08:20,335]\u001b[0m Trial 82 finished with value: 2.2933650490715762 and parameters: {'max_depth': 27, 'learning_rate': 6.08078605271064e-08, 'n_estimators': 1581, 'subsample': 0.7166061191255572, 'min_child_weight': 29, 'alpha': 0.007440364912119297}. Best is trial 71 with value: 1.8182210411181898.\u001b[0m\n",
      "\u001b[32m[I 2022-07-28 21:14:45,791]\u001b[0m Trial 83 finished with value: 2.2300123791871314 and parameters: {'max_depth': 19, 'learning_rate': 1.162597792516589e-07, 'n_estimators': 1454, 'subsample': 0.7269971296168928, 'min_child_weight': 19, 'alpha': 0.015275324756205556}. Best is trial 71 with value: 1.8182210411181898.\u001b[0m\n",
      "\u001b[32m[I 2022-07-28 21:22:08,296]\u001b[0m Trial 84 finished with value: 1.9358750027506482 and parameters: {'max_depth': 30, 'learning_rate': 0.0009995825001847514, 'n_estimators': 1323, 'subsample': 0.738431421905122, 'min_child_weight': 7, 'alpha': 0.009330440703261967}. Best is trial 71 with value: 1.8182210411181898.\u001b[0m\n",
      "\u001b[32m[I 2022-07-28 21:26:16,525]\u001b[0m Trial 85 finished with value: 2.9087904582946327 and parameters: {'max_depth': 23, 'learning_rate': 7.433093903578545e-06, 'n_estimators': 1750, 'subsample': 0.7135092164851106, 'min_child_weight': 300, 'alpha': 0.003930646939570714}. Best is trial 71 with value: 1.8182210411181898.\u001b[0m\n",
      "\u001b[32m[I 2022-07-28 21:32:31,103]\u001b[0m Trial 86 finished with value: 1.7974046523383285 and parameters: {'max_depth': 18, 'learning_rate': 0.0024641447947472022, 'n_estimators': 1056, 'subsample': 0.7460727042261017, 'min_child_weight': 1, 'alpha': 0.022444111388683418}. Best is trial 86 with value: 1.7974046523383285.\u001b[0m\n",
      "\u001b[32m[I 2022-07-28 21:36:19,202]\u001b[0m Trial 87 finished with value: 2.096065706435295 and parameters: {'max_depth': 18, 'learning_rate': 0.0053556236025511725, 'n_estimators': 1011, 'subsample': 0.7464486825199983, 'min_child_weight': 44, 'alpha': 0.005978699983715576}. Best is trial 86 with value: 1.7974046523383285.\u001b[0m\n",
      "\u001b[32m[I 2022-07-28 21:39:03,729]\u001b[0m Trial 88 finished with value: 2.1775199592714243 and parameters: {'max_depth': 21, 'learning_rate': 3.853445859761843e-05, 'n_estimators': 570, 'subsample': 0.7755921737291877, 'min_child_weight': 17, 'alpha': 0.021225786783666198}. Best is trial 86 with value: 1.7974046523383285.\u001b[0m\n",
      "\u001b[32m[I 2022-07-28 21:42:37,115]\u001b[0m Trial 89 finished with value: 1.9585007871669127 and parameters: {'max_depth': 19, 'learning_rate': 0.0021377758182464183, 'n_estimators': 771, 'subsample': 0.7317109878932154, 'min_child_weight': 9, 'alpha': 0.002810745679383218}. Best is trial 86 with value: 1.7974046523383285.\u001b[0m\n",
      "\u001b[32m[I 2022-07-28 21:46:51,723]\u001b[0m Trial 90 finished with value: 2.2046708879996433 and parameters: {'max_depth': 18, 'learning_rate': 0.0006701884829268438, 'n_estimators': 1104, 'subsample': 0.7229909082600279, 'min_child_weight': 27, 'alpha': 0.16336637704331472}. Best is trial 86 with value: 1.7974046523383285.\u001b[0m\n",
      "\u001b[32m[I 2022-07-28 21:49:40,544]\u001b[0m Trial 91 finished with value: 2.0716304425739716 and parameters: {'max_depth': 15, 'learning_rate': 9.004835231306752e-07, 'n_estimators': 705, 'subsample': 0.7062704079258726, 'min_child_weight': 7, 'alpha': 0.01711079081695398}. Best is trial 86 with value: 1.7974046523383285.\u001b[0m\n",
      "\u001b[32m[I 2022-07-28 21:50:17,025]\u001b[0m Trial 92 finished with value: 3.1368445610869284 and parameters: {'max_depth': 17, 'learning_rate': 1.462646228903114e-08, 'n_estimators': 883, 'subsample': 0.7214223707078441, 'min_child_weight': 2, 'alpha': 0.039514265748236646}. Best is trial 86 with value: 1.7974046523383285.\u001b[0m\n",
      "\u001b[32m[I 2022-07-28 21:57:52,321]\u001b[0m Trial 93 finished with value: 1.7874488487618263 and parameters: {'max_depth': 16, 'learning_rate': 0.0025640961747953163, 'n_estimators': 1546, 'subsample': 0.7352711832885261, 'min_child_weight': 1, 'alpha': 0.027937140843060745}. Best is trial 93 with value: 1.7874488487618263.\u001b[0m\n",
      "\u001b[32m[I 2022-07-28 22:06:05,844]\u001b[0m Trial 94 finished with value: 2.190190631532595 and parameters: {'max_depth': 21, 'learning_rate': 0.00013735666840563522, 'n_estimators': 1912, 'subsample': 0.7354031991067793, 'min_child_weight': 18, 'alpha': 0.027370367149283523}. Best is trial 93 with value: 1.7874488487618263.\u001b[0m\n",
      "\u001b[32m[I 2022-07-28 22:17:45,812]\u001b[0m Trial 95 finished with value: 1.8779523216615068 and parameters: {'max_depth': 25, 'learning_rate': 0.0025353697243387166, 'n_estimators': 2296, 'subsample': 0.7430982782650758, 'min_child_weight': 13, 'alpha': 0.01216354067686087}. Best is trial 93 with value: 1.7874488487618263.\u001b[0m\n",
      "\u001b[32m[I 2022-07-28 22:28:23,162]\u001b[0m Trial 96 finished with value: 1.8951480753781407 and parameters: {'max_depth': 25, 'learning_rate': 0.0024655854113159606, 'n_estimators': 2055, 'subsample': 0.7580344026090692, 'min_child_weight': 12, 'alpha': 0.012237678152832028}. Best is trial 93 with value: 1.7874488487618263.\u001b[0m\n",
      "\u001b[32m[I 2022-07-28 22:36:59,378]\u001b[0m Trial 97 finished with value: 2.0480988917791474 and parameters: {'max_depth': 25, 'learning_rate': 0.0023152119964181075, 'n_estimators': 2178, 'subsample': 0.7553522852514607, 'min_child_weight': 31, 'alpha': 0.011928152230421948}. Best is trial 93 with value: 1.7874488487618263.\u001b[0m\n",
      "\u001b[32m[I 2022-07-28 22:46:08,323]\u001b[0m Trial 98 finished with value: 2.133171663509953 and parameters: {'max_depth': 26, 'learning_rate': 0.0014372113518395136, 'n_estimators': 2287, 'subsample': 0.759962573424828, 'min_child_weight': 38, 'alpha': 0.022894220862600456}. Best is trial 93 with value: 1.7874488487618263.\u001b[0m\n",
      "\u001b[32m[I 2022-07-28 22:53:33,721]\u001b[0m Trial 99 finished with value: 2.1150714214967565 and parameters: {'max_depth': 24, 'learning_rate': 0.0025870959853085003, 'n_estimators': 2061, 'subsample': 0.7906821367615912, 'min_child_weight': 57, 'alpha': 0.029620191924302607}. Best is trial 93 with value: 1.7874488487618263.\u001b[0m\n"
     ]
    },
    {
     "name": "stdout",
     "output_type": "stream",
     "text": [
      "Best Score: 1.7874488487618263\n",
      "Best trial: {'max_depth': 16, 'learning_rate': 0.0025640961747953163, 'n_estimators': 1546, 'subsample': 0.7352711832885261, 'min_child_weight': 1, 'alpha': 0.027937140843060745}\n"
     ]
    }
   ],
   "source": [
    "# XGBoost 머신 러닝 모델 하이퍼 파라미터 최적화\n",
    "\n",
    "def objective(trial: Trial) -> float:\n",
    "    param = {'verbosity':1,\n",
    "             'objective':'binary:logistic', #\n",
    "             'max_depth':trial.suggest_int('max_depth',3,30),\n",
    "             'learning_rate':trial.suggest_loguniform('learning_rate',1e-8,1e-2),\n",
    "             'n_estimators':trial.suggest_int('n_estimators',100,3000),\n",
    "             'subsample':trial.suggest_loguniform('subsample',0.7,1),\n",
    "             'min_child_weight': trial.suggest_int('min_child_weight', 1, 300 ),\n",
    "             'alpha': trial.suggest_loguniform( 'alpha', 1e-3, 10.0),\n",
    "             'random_state': 42}\n",
    "    model = XGBClassifier(**param)\n",
    "    model.fit(\n",
    "        np.array(X_train),\n",
    "        np.array(y_train),\n",
    "        eval_set=[(np.array(X_train), np.array(y_train)), (np.array(X_val), np.array(y_val))],\n",
    "        early_stopping_rounds=100,\n",
    "        eval_metric = 'logloss',\n",
    "        verbose=False\n",
    "    )\n",
    "\n",
    "    pred = model.predict(np.array(X_val))\n",
    "    log_score = log_loss(np.array(y_val), pred)\n",
    "    \n",
    "    return log_score\n",
    "\n",
    "sampler = TPESampler(seed=42)\n",
    "studyXGB = optuna.create_study(\n",
    "\n",
    "    study_name=\"XGboost\",\n",
    "    direction=\"minimize\",\n",
    "    sampler=sampler,\n",
    ")\n",
    "\n",
    "studyXGB.optimize(objective, n_trials=100)\n",
    "print(\"Best Score:\", studyXGB.best_value)\n",
    "print(\"Best trial:\", studyXGB.best_trial.params)"
   ]
  },
  {
   "cell_type": "markdown",
   "id": "9356ad34",
   "metadata": {},
   "source": [
    "### Best trial: {'max_depth': 16, 'learning_rate': 0.0025640961747953163, 'n_estimators': 1546, 'subsample': 0.7352711832885261, 'min_child_weight': 1, 'alpha': 0.027937140843060745}"
   ]
  },
  {
   "cell_type": "markdown",
   "id": "c205cba1",
   "metadata": {},
   "source": [
    "# Calculating Features Importance "
   ]
  },
  {
   "cell_type": "code",
   "execution_count": 17,
   "id": "b804c96c",
   "metadata": {
    "scrolled": true
   },
   "outputs": [
    {
     "name": "stdout",
     "output_type": "stream",
     "text": [
      "Feature ranking:\n",
      "1. feature 110 (0.241)\n",
      "2. feature 109 (0.047)\n",
      "3. feature 69 (0.033)\n",
      "4. feature 1 (0.015)\n",
      "5. feature 0 (0.014)\n",
      "6. feature 2 (0.014)\n",
      "7. feature 78 (0.014)\n",
      "8. feature 38 (0.012)\n",
      "9. feature 3 (0.012)\n",
      "10. feature 79 (0.010)\n",
      "11. feature 68 (0.009)\n",
      "12. feature 4 (0.009)\n",
      "13. feature 34 (0.009)\n",
      "14. feature 75 (0.009)\n",
      "15. feature 44 (0.008)\n",
      "16. feature 24 (0.008)\n",
      "17. feature 14 (0.008)\n",
      "18. feature 74 (0.008)\n",
      "19. feature 33 (0.008)\n",
      "20. feature 76 (0.007)\n",
      "21. feature 43 (0.007)\n",
      "22. feature 89 (0.007)\n",
      "23. feature 19 (0.007)\n",
      "24. feature 91 (0.007)\n",
      "25. feature 77 (0.007)\n",
      "26. feature 32 (0.007)\n",
      "27. feature 65 (0.007)\n",
      "28. feature 39 (0.007)\n",
      "29. feature 92 (0.007)\n",
      "30. feature 64 (0.007)\n",
      "31. feature 45 (0.007)\n",
      "32. feature 58 (0.007)\n",
      "33. feature 90 (0.007)\n",
      "34. feature 35 (0.007)\n",
      "35. feature 49 (0.007)\n",
      "36. feature 70 (0.007)\n",
      "37. feature 71 (0.007)\n",
      "38. feature 88 (0.007)\n",
      "39. feature 54 (0.007)\n",
      "40. feature 18 (0.007)\n",
      "41. feature 37 (0.007)\n",
      "42. feature 46 (0.006)\n",
      "43. feature 67 (0.006)\n",
      "44. feature 57 (0.006)\n",
      "45. feature 28 (0.006)\n",
      "46. feature 108 (0.006)\n",
      "47. feature 94 (0.006)\n",
      "48. feature 66 (0.006)\n",
      "49. feature 40 (0.006)\n",
      "50. feature 93 (0.006)\n",
      "51. feature 29 (0.006)\n",
      "52. feature 84 (0.006)\n",
      "53. feature 51 (0.006)\n",
      "54. feature 30 (0.006)\n",
      "55. feature 41 (0.006)\n",
      "56. feature 48 (0.006)\n",
      "57. feature 8 (0.006)\n",
      "58. feature 72 (0.006)\n",
      "59. feature 81 (0.006)\n",
      "60. feature 20 (0.006)\n",
      "61. feature 47 (0.006)\n",
      "62. feature 87 (0.006)\n",
      "63. feature 85 (0.006)\n",
      "64. feature 95 (0.006)\n",
      "65. feature 31 (0.006)\n",
      "66. feature 105 (0.006)\n",
      "67. feature 17 (0.006)\n",
      "68. feature 26 (0.006)\n",
      "69. feature 53 (0.006)\n",
      "70. feature 107 (0.006)\n",
      "71. feature 5 (0.006)\n",
      "72. feature 16 (0.006)\n",
      "73. feature 42 (0.006)\n",
      "74. feature 25 (0.006)\n",
      "75. feature 50 (0.006)\n",
      "76. feature 97 (0.006)\n",
      "77. feature 83 (0.006)\n",
      "78. feature 82 (0.006)\n",
      "79. feature 96 (0.006)\n",
      "80. feature 80 (0.006)\n",
      "81. feature 15 (0.006)\n",
      "82. feature 27 (0.006)\n",
      "83. feature 36 (0.006)\n",
      "84. feature 106 (0.006)\n",
      "85. feature 11 (0.006)\n",
      "86. feature 22 (0.006)\n",
      "87. feature 6 (0.006)\n",
      "88. feature 86 (0.006)\n",
      "89. feature 10 (0.006)\n",
      "90. feature 52 (0.006)\n",
      "91. feature 13 (0.006)\n",
      "92. feature 56 (0.006)\n",
      "93. feature 21 (0.006)\n",
      "94. feature 23 (0.006)\n",
      "95. feature 98 (0.006)\n",
      "96. feature 12 (0.006)\n",
      "97. feature 7 (0.006)\n",
      "98. feature 55 (0.006)\n",
      "99. feature 9 (0.006)\n",
      "100. feature 73 (0.006)\n",
      "101. feature 104 (0.006)\n",
      "102. feature 61 (0.000)\n",
      "103. feature 62 (0.000)\n",
      "104. feature 60 (0.000)\n",
      "105. feature 59 (0.000)\n",
      "106. feature 99 (0.000)\n",
      "107. feature 100 (0.000)\n",
      "108. feature 101 (0.000)\n",
      "109. feature 102 (0.000)\n",
      "110. feature 103 (0.000)\n",
      "111. feature 63 (0.000)\n"
     ]
    }
   ],
   "source": [
    "importances = model.feature_importances_\n",
    "\n",
    "indices = np.argsort(importances)[::-1]\n",
    "\n",
    "print(\"Feature ranking:\")\n",
    "for f in range(X_train.shape[1]):\n",
    "    print(\"{}. feature {} ({:.3f})\".format(f + 1, indices[f], importances[indices[f]]))"
   ]
  },
  {
   "cell_type": "markdown",
   "id": "70d03ca0",
   "metadata": {},
   "source": [
    "### → feature 110 (disease_type), feature 109 (disease_state) 가 가장 높은 feature importance를 보인다"
   ]
  }
 ],
 "metadata": {
  "kernelspec": {
   "display_name": "Python 3 (ipykernel)",
   "language": "python",
   "name": "python3"
  },
  "language_info": {
   "codemirror_mode": {
    "name": "ipython",
    "version": 3
   },
   "file_extension": ".py",
   "mimetype": "text/x-python",
   "name": "python",
   "nbconvert_exporter": "python",
   "pygments_lexer": "ipython3",
   "version": "3.7.13"
  }
 },
 "nbformat": 4,
 "nbformat_minor": 5
}
