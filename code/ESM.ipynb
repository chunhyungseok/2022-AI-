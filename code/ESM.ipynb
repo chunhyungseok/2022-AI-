{
 "cells": [
  {
   "cell_type": "code",
   "execution_count": 1,
   "id": "b40b065b",
   "metadata": {},
   "outputs": [],
   "source": [
    "import pandas as pd\n",
    "import numpy as np\n",
    "\n",
    "import torch\n",
    "import torch.nn as nn\n",
    "\n",
    "import pandas as pd\n",
    "import numpy as np\n",
    "\n",
    "from sklearn import metrics\n",
    "from sklearn.model_selection import train_test_split\n",
    "from tqdm.auto import tqdm, trange\n",
    "\n",
    "import os\n",
    "import torch\n",
    "from torch.utils.data import TensorDataset\n",
    "from torch.utils.data import Dataset, DataLoader\n",
    "import torch.optim as optim\n",
    "import math\n",
    "from torch.optim.lr_scheduler import _LRScheduler\n",
    "\n",
    "from transformers import BertModel, BertTokenizer\n",
    "import esm"
   ]
  },
  {
   "cell_type": "markdown",
   "id": "344b6b9a",
   "metadata": {},
   "source": [
    "# Parameter & ESM model"
   ]
  },
  {
   "cell_type": "code",
   "execution_count": 2,
   "id": "d131226f",
   "metadata": {},
   "outputs": [],
   "source": [
    "BATCH_SIZE = 512\n",
    "NUM_THREADS = 20\n",
    "NUM_EPOCHS = 50\n",
    "LR = 2e-6\n",
    "antigen_max_len = 5000\n",
    "epitope_max_len = 300"
   ]
  },
  {
   "cell_type": "code",
   "execution_count": 3,
   "id": "a782b2f6",
   "metadata": {
    "scrolled": true
   },
   "outputs": [],
   "source": [
    "model, alphabet = esm.pretrained.esm1b_t33_650M_UR50S()\n",
    "batch_converter = alphabet.get_batch_converter()"
   ]
  },
  {
   "cell_type": "markdown",
   "id": "2ef717a3",
   "metadata": {},
   "source": [
    "# Load Data"
   ]
  },
  {
   "cell_type": "code",
   "execution_count": 4,
   "id": "5931e9d6",
   "metadata": {},
   "outputs": [],
   "source": [
    "train = pd.read_csv('data/train.csv')\n",
    "test = pd.read_csv('data/test.csv')"
   ]
  },
  {
   "cell_type": "code",
   "execution_count": 5,
   "id": "13f24b7b",
   "metadata": {
    "scrolled": true
   },
   "outputs": [],
   "source": [
    "def load_data(data_type, data):\n",
    "\n",
    "    antigen = []\n",
    "    epitope = []\n",
    "\n",
    "    for i in range(len(data)):        \n",
    "        antigen.append((data['id'][i], data['antigen_seq'][i]))\n",
    "        epitope.append((data['id'][i], data['epitope_seq'][i]))\n",
    "     \n",
    "\n",
    "    _, _, antigen_batch_tokens = batch_converter(antigen)\n",
    "    _, _, epitope_batch_tokens = batch_converter(epitope) \n",
    "    \n",
    "    antigen_batch_tokens = antigen_batch_tokens.tolist()\n",
    "    epitope_batch_tokens = epitope_batch_tokens.tolist()\n",
    "    \n",
    "    #padding\n",
    "    for i in antigen_batch_tokens:\n",
    "        while len(i) < antigen_max_len:\n",
    "            i.append(1)\n",
    "        \n",
    "    for i in epitope_batch_tokens:\n",
    "        while len(i) < epitope_max_len:\n",
    "            i.append(1)    \n",
    "            \n",
    "    antigen_batch_tokens = torch.tensor(antigen_batch_tokens)\n",
    "    epitope_batch_tokens = torch.tensor(epitope_batch_tokens)        \n",
    "    \n",
    "    label_list = None\n",
    "    if data_type != 'test':\n",
    "        label_list = []\n",
    "        for label in data['label']:\n",
    "            label_list.append(label)\n",
    "    print(f'{data_type} dataframe preprocessing was done.')\n",
    "    \n",
    "    \n",
    "    return antigen_batch_tokens, epitope_batch_tokens, label_list"
   ]
  },
  {
   "cell_type": "code",
   "execution_count": 6,
   "id": "3ae126b2",
   "metadata": {},
   "outputs": [],
   "source": [
    "train_len = int(len(train)*0.8)\n",
    "train_df = train.iloc[:train_len]\n",
    "val_df = train.iloc[train_len:].reset_index(inplace=False)"
   ]
  },
  {
   "cell_type": "code",
   "execution_count": null,
   "id": "a1fcb029",
   "metadata": {
    "scrolled": true
   },
   "outputs": [],
   "source": [
    "train_antigen_input_ids, train_epitope_input_ids, train_label = load_data('train', train_df)\n",
    "valid_antigen_input_ids, valid_epitope_input_ids, valid_label = load_data('valid', val_df)"
   ]
  },
  {
   "cell_type": "code",
   "execution_count": null,
   "id": "2cd427bc",
   "metadata": {},
   "outputs": [],
   "source": [
    "class CustomDataset(Dataset):\n",
    "    def __init__(self, antigen, epitope, label):\n",
    "        self.antigen = antigen\n",
    "        self.epitope = epitope        \n",
    "        self.label = label\n",
    "        \n",
    "    def __getitem__(self, index):\n",
    "        antigen = self.antigen[index]\n",
    "        epitope = self.epitope[index]        \n",
    "        \n",
    "        if self.label is not None:\n",
    "            label = self.label[index]\n",
    "            return antigen, epitope, torch.tensor(label)\n",
    "        else:\n",
    "            return antigen, epitope\n",
    "        \n",
    "    def __len__(self):\n",
    "        return len(self.epitope)"
   ]
  },
  {
   "cell_type": "code",
   "execution_count": null,
   "id": "c4c840fc",
   "metadata": {},
   "outputs": [],
   "source": [
    "train_dataset = CustomDataset(train_antigen_input_ids, train_epitope_input_ids, train_label)\n",
    "train_loader = DataLoader(train_dataset, batch_size = BATCH_SIZE, shuffle = True, num_workers = NUM_THREADS)\n",
    "\n",
    "valid_dataset = CustomDataset(valid_antigen_input_ids, valid_epitope_input_ids, valid_label)\n",
    "val_loader = DataLoader(valid_dataset, batch_size = BATCH_SIZE, shuffle = False, num_workers = NUM_THREADS)"
   ]
  },
  {
   "cell_type": "markdown",
   "id": "482b8455",
   "metadata": {},
   "source": [
    "# Model"
   ]
  },
  {
   "cell_type": "code",
   "execution_count": null,
   "id": "3c3423c4",
   "metadata": {},
   "outputs": [],
   "source": [
    "class ClassificationModel(nn.Module):\n",
    "    def __init__(self, pretrained_model):\n",
    "        super(ClassificationModel, self).__init__()\n",
    "        self.esm = pretrained_model\n",
    "        \n",
    "        self.linear = nn.Sequential(nn.Linear(1280 * 2, 256),\n",
    "                                    nn.ReLU(),\n",
    "                                    nn.Linear(256, 256),\n",
    "                                    nn.ReLU(),\n",
    "                                    nn.Linear(256, 1))\n",
    "        \n",
    "    def forward(self, antigen, epitope):\n",
    "        antigen_embedding = self.esm(antigen, repr_layers=[33], return_contacts = True)[\"representations\"][33]\n",
    "        epitope_embedding = self.esm(epitope, repr_layers=[33], return_contacts = True)[\"representations\"][33]        \n",
    "        \n",
    "        epitope_hidden = epitope_embedding[:, 0, :]\n",
    "        antigen_hidden = antigen_embedding[:, 0, :]\n",
    "        \n",
    "        hidden = torch.cat([epitope_hidden, antigen_hidden], dim = 1)\n",
    "        \n",
    "        predict = self.linear(hidden)\n",
    "        \n",
    "        return predict"
   ]
  },
  {
   "cell_type": "code",
   "execution_count": null,
   "id": "334179b1",
   "metadata": {},
   "outputs": [],
   "source": [
    "def train(model, criterion, optimizer, train_loader, val_loader, epochs, device):\n",
    "    best_acc = 0\n",
    "    train_losses = []\n",
    "    val_losses = []\n",
    "    for epoch in trange(epochs, desc=\"Epoch\"):\n",
    "        model.train()\n",
    "        train_loss = 0\n",
    "        for i, (antigen, epitope, target) in enumerate(iterable=train_loader):\n",
    "            optimizer.zero_grad()              \n",
    "            epitope = epitope.to(device)           \n",
    "            antigen = antigen.to(device)            \n",
    "            \n",
    "            target = target.to(device)\n",
    "            output = model(antigen, epitope)\n",
    "            \n",
    "            loss = criterion(output, target)\n",
    "            loss.backward()\n",
    "            optimizer.step()\n",
    "            \n",
    "            train_loss += loss.item()\n",
    "            \n",
    "        \n",
    "        print(f\"Training loss is {train_loss/len(train_loader)}\")\n",
    "        train_losses.append(train_loss/len(train_loader))\n",
    "        val_loss = evaluate(model=model, criterion=criterion, dataloader=val_loader, device=device)\n",
    "        val_losses.append(val_loss)\n",
    "        print(\"Epoch {} complete! Validation Loss : {}\".format(epoch, val_loss))\n",
    "        \n",
    "        \n",
    "    # data\n",
    "    data = {\n",
    "        \"train_loss\": train_losses,\n",
    "        \"val_loss\" : val_losses\n",
    "    }\n",
    "    return data\n",
    "\n",
    "def evaluate(model, criterion, dataloader, device):\n",
    "    model.eval()\n",
    "    mean_acc, mean_loss, count = 0, 0, 0\n",
    "\n",
    "    with torch.no_grad():\n",
    "        for antigen, epitope, target in (dataloader):\n",
    "            \n",
    "            antigen = antigen.to(device)\n",
    "            epitope = epitope.to(device)\n",
    "            \n",
    "            target = target.to(device)\n",
    "            output = model(antigen, epitope)\n",
    "            \n",
    "            mean_loss += criterion(output, target).item()\n",
    "#             mean_err += get_rmse(output, target)\n",
    "            count += 1\n",
    "            \n",
    "    return mean_loss/count\n",
    "\n",
    "\n",
    "def predict(model, dataloader, device):\n",
    "    predicted_label = []\n",
    "    actual_label = []\n",
    "    with torch.no_grad():\n",
    "        for antigen, epitope, target in (dataloader):\n",
    "            \n",
    "            antigen = antigen.to(device)\n",
    "            epitope = epitope.to(device)\n",
    "            \n",
    "            target = target.to(device)\n",
    "            output = model(antigen, epitope)\n",
    "                        \n",
    "            predicted_label += output\n",
    "            actual_label += target\n",
    "            \n",
    "    return predicted_label"
   ]
  },
  {
   "cell_type": "code",
   "execution_count": null,
   "id": "161d36bd",
   "metadata": {},
   "outputs": [],
   "source": [
    "device = torch.device(\"cuda:1\")\n",
    "Classification_model = ClassificationModel(model)\n",
    "criterion = nn.BCEWithLogitsLoss()\n",
    "optimizer = optim.Adam(params=model.parameters(), lr=LR)\n",
    "if torch.cuda.device_count() > 1:\n",
    "    print(\"Let's use\", torch.cuda.device_count(), \"GPUs!\")\n",
    "  \n",
    "    model = nn.DataParallel(model, device_ids=[1,2,3,4])\n",
    "    \n",
    "Classification_model.to(device)"
   ]
  },
  {
   "cell_type": "code",
   "execution_count": null,
   "id": "f51885e2",
   "metadata": {},
   "outputs": [],
   "source": [
    "for para in model.parameters(): \n",
    "    para.requires_grad = False\n",
    "for name, para in Classification_model.named_parameters():\n",
    "    if name in ['linear.0.weight','linear.0.bias','linear.2.weight','linear.2.bias','linear.4.weight','linear.4.bias']:\n",
    "        para_requires_grad = True"
   ]
  },
  {
   "cell_type": "code",
   "execution_count": null,
   "id": "8b9df6a7",
   "metadata": {},
   "outputs": [],
   "source": [
    "data = train(model=model, \n",
    "      criterion=criterion,\n",
    "      optimizer=optimizer, \n",
    "      train_loader=train_loader,\n",
    "      val_loader=val_loader,\n",
    "      epochs = NUM_EPOCHS,\n",
    "      device = device)"
   ]
  },
  {
   "cell_type": "code",
   "execution_count": null,
   "id": "0e13e935",
   "metadata": {},
   "outputs": [],
   "source": []
  },
  {
   "cell_type": "code",
   "execution_count": null,
   "id": "950b535d",
   "metadata": {},
   "outputs": [],
   "source": []
  },
  {
   "cell_type": "code",
   "execution_count": null,
   "id": "a73181aa",
   "metadata": {},
   "outputs": [],
   "source": []
  },
  {
   "cell_type": "code",
   "execution_count": null,
   "id": "faf5b6e8",
   "metadata": {},
   "outputs": [],
   "source": []
  },
  {
   "cell_type": "code",
   "execution_count": null,
   "id": "bf8675ee",
   "metadata": {},
   "outputs": [],
   "source": []
  },
  {
   "cell_type": "code",
   "execution_count": null,
   "id": "3036c55b",
   "metadata": {},
   "outputs": [],
   "source": []
  },
  {
   "cell_type": "code",
   "execution_count": null,
   "id": "113b9e21",
   "metadata": {},
   "outputs": [],
   "source": []
  },
  {
   "cell_type": "code",
   "execution_count": null,
   "id": "94521be2",
   "metadata": {},
   "outputs": [],
   "source": []
  },
  {
   "cell_type": "code",
   "execution_count": null,
   "id": "0bada619",
   "metadata": {},
   "outputs": [],
   "source": []
  },
  {
   "cell_type": "code",
   "execution_count": null,
   "id": "eac0d0a9",
   "metadata": {},
   "outputs": [],
   "source": []
  },
  {
   "cell_type": "code",
   "execution_count": null,
   "id": "678cee8c",
   "metadata": {},
   "outputs": [],
   "source": []
  },
  {
   "cell_type": "code",
   "execution_count": null,
   "id": "7a394587",
   "metadata": {},
   "outputs": [],
   "source": []
  },
  {
   "cell_type": "code",
   "execution_count": null,
   "id": "2ded52de",
   "metadata": {},
   "outputs": [],
   "source": []
  },
  {
   "cell_type": "code",
   "execution_count": null,
   "id": "4814367a",
   "metadata": {},
   "outputs": [],
   "source": []
  },
  {
   "cell_type": "code",
   "execution_count": null,
   "id": "e38eaa16",
   "metadata": {},
   "outputs": [],
   "source": []
  },
  {
   "cell_type": "code",
   "execution_count": null,
   "id": "f83db647",
   "metadata": {},
   "outputs": [],
   "source": []
  },
  {
   "cell_type": "code",
   "execution_count": null,
   "id": "0bf11aef",
   "metadata": {},
   "outputs": [],
   "source": []
  },
  {
   "cell_type": "code",
   "execution_count": null,
   "id": "1e680421",
   "metadata": {},
   "outputs": [],
   "source": []
  },
  {
   "cell_type": "code",
   "execution_count": null,
   "id": "003962f8",
   "metadata": {},
   "outputs": [],
   "source": []
  }
 ],
 "metadata": {
  "kernelspec": {
   "display_name": "Python 3 (ipykernel)",
   "language": "python",
   "name": "python3"
  },
  "language_info": {
   "codemirror_mode": {
    "name": "ipython",
    "version": 3
   },
   "file_extension": ".py",
   "mimetype": "text/x-python",
   "name": "python",
   "nbconvert_exporter": "python",
   "pygments_lexer": "ipython3",
   "version": "3.7.13"
  }
 },
 "nbformat": 4,
 "nbformat_minor": 5
}
