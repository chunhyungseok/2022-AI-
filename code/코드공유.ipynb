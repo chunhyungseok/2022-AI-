{
 "cells": [
  {
   "cell_type": "code",
   "execution_count": 1,
   "id": "e917175b",
   "metadata": {},
   "outputs": [],
   "source": [
    "import pandas as pd\n",
    "import numpy as np\n",
    "import matplotlib.pyplot as plt\n",
    "from sklearn.model_selection import train_test_split"
   ]
  },
  {
   "cell_type": "markdown",
   "id": "5e33550f",
   "metadata": {},
   "source": [
    "# 데이터 불러오기"
   ]
  },
  {
   "cell_type": "code",
   "execution_count": 2,
   "id": "d42fe1c3",
   "metadata": {},
   "outputs": [],
   "source": [
    "train = pd.read_csv('data/train.csv')\n",
    "test = pd.read_csv('data/test.csv')"
   ]
  },
  {
   "cell_type": "markdown",
   "id": "9f6b4413",
   "metadata": {},
   "source": [
    "# Category 데이터 encoding\n",
    "## Encoding과정에서 eptiope과 antigen정보를 사용하지 않는다."
   ]
  },
  {
   "cell_type": "code",
   "execution_count": 3,
   "id": "733e22d0",
   "metadata": {},
   "outputs": [],
   "source": [
    "def get_dic(data):\n",
    "    vocab = {}\n",
    "    for name in data:\n",
    "        if name not in vocab:\n",
    "            vocab[name]=0\n",
    "        vocab[name] += 1\n",
    "    vocab_sorted = sorted(vocab.items(), key=lambda x:x[1], reverse=True)\n",
    "    token_dic = {}\n",
    "    i = 1\n",
    "    token_dic['Unknown'] = 0\n",
    "    for (name, freq) in vocab_sorted:\n",
    "        token_dic[name] = i\n",
    "        i += 1\n",
    "    return token_dic\n",
    "\n",
    "def dic_except(dic, a):\n",
    "    try:\n",
    "        return dic[a]\n",
    "    except:\n",
    "        return dic['Unknown']\n",
    "\n",
    "dic_assay_method_technique = get_dic(train['assay_method_technique'])\n",
    "dic_assay_group = get_dic(train['assay_group'])\n",
    "dic_disease_type = get_dic(train['disease_type'])\n",
    "dic_disease_state = get_dic(train['disease_state'])"
   ]
  },
  {
   "cell_type": "code",
   "execution_count": 4,
   "id": "03bbbcce",
   "metadata": {},
   "outputs": [],
   "source": [
    "def get_preprocessing(data_type, df, dic_assay_method_technique = dic_assay_method_technique, dic_assay_group = dic_assay_group, dic_disease_type = dic_disease_type, dic_disease_state = dic_disease_state):\n",
    "    \n",
    "    df = df.drop(columns = ['reference_date', 'reference_journal', 'reference_title', 'reference_IRI', \n",
    "                             'antigen_code', 'id', 'start_position', 'end_position'])\n",
    "\n",
    "    \n",
    "    df['assay_method_technique'] = df['assay_method_technique'].map(lambda a: dic_except(dic_assay_method_technique, a))\n",
    "    df['assay_group'] = df['assay_group'].map(lambda a: dic_except(dic_assay_group, a))\n",
    "    df['disease_type'] = df['disease_type'].map(lambda a: dic_except(dic_disease_type, a))\n",
    "    df['disease_state'] = df['disease_state'].map(lambda a: dic_except(dic_disease_state, a))\n",
    "    \n",
    "    if data_type != 'test':\n",
    "        X = df.drop(columns = ['epitope_seq', 'antigen_seq', 'label', 'qualitative_label'])\n",
    "    else:\n",
    "        X = df.drop(columns = ['epitope_seq', 'antigen_seq'])\n",
    "    \n",
    "    y = None\n",
    "    if data_type != 'test':\n",
    "        y = df['label']\n",
    "    print(f'{data_type} dataframe preprocessing was done.')\n",
    "    return X, np.array(y)"
   ]
  },
  {
   "cell_type": "markdown",
   "id": "a9b47e2e",
   "metadata": {},
   "source": [
    "# Data split"
   ]
  },
  {
   "cell_type": "code",
   "execution_count": 5,
   "id": "91cec2b3",
   "metadata": {},
   "outputs": [
    {
     "name": "stdout",
     "output_type": "stream",
     "text": [
      "train dataframe preprocessing was done.\n",
      "test dataframe preprocessing was done.\n"
     ]
    }
   ],
   "source": [
    "X, y = get_preprocessing('train', train)\n",
    "\n",
    "X_test, y_test = get_preprocessing('test', test)\n",
    "\n",
    "X_train, X_val, y_train, y_val = train_test_split(X, y, train_size=0.8, random_state=12)"
   ]
  },
  {
   "cell_type": "markdown",
   "id": "72228b96",
   "metadata": {},
   "source": [
    "## Null인 부분 normalized 된 값으로 채워주기"
   ]
  },
  {
   "cell_type": "code",
   "execution_count": 6,
   "id": "6be6d863",
   "metadata": {},
   "outputs": [],
   "source": [
    "def get_card_split(df, cols, n=11):\n",
    "    \"\"\"\n",
    "    Splits categorical columns into 2 lists based on cardinality (i.e # of unique values)\n",
    "    Parameters\n",
    "    ----------\n",
    "    df : Pandas DataFrame\n",
    "        DataFrame from which the cardinality of the columns is calculated.\n",
    "    cols : list-like\n",
    "        Categorical columns to list\n",
    "    n : int, optional (default=11)\n",
    "        The value of 'n' will be used to split columns.\n",
    "    Returns\n",
    "    -------\n",
    "    card_low : list-like\n",
    "        Columns with cardinality < n\n",
    "    card_high : list-like\n",
    "        Columns with cardinality >= n\n",
    "    \"\"\"\n",
    "    cond = df[cols].nunique() > n\n",
    "    card_high = cols[cond]\n",
    "    card_low = cols[~cond]\n",
    "    return card_low, card_high\n",
    "\n",
    "from sklearn.compose import ColumnTransformer\n",
    "from sklearn.pipeline import Pipeline\n",
    "from sklearn.impute import SimpleImputer, MissingIndicator\n",
    "from sklearn.preprocessing import StandardScaler, OneHotEncoder, OrdinalEncoder\n",
    "\n",
    "numeric_transformer = Pipeline(\n",
    "    steps=[(\"imputer\", SimpleImputer(strategy=\"mean\")), (\"scaler\", StandardScaler())]\n",
    ")\n",
    "\n",
    "categorical_transformer_low = Pipeline(\n",
    "    steps=[\n",
    "        (\"imputer\", SimpleImputer(strategy=\"constant\", fill_value=\"missing\")),\n",
    "        (\"encoding\", OneHotEncoder(handle_unknown=\"ignore\", sparse=False)),\n",
    "    ]\n",
    ")\n",
    "\n",
    "categorical_transformer_high = Pipeline(\n",
    "    steps=[\n",
    "        (\"imputer\", SimpleImputer(strategy=\"constant\", fill_value=\"missing\")),\n",
    "        # 'OrdianlEncoder' Raise a ValueError when encounters an unknown value. Check https://github.com/scikit-learn/scikit-learn/pull/13423\n",
    "        (\"encoding\", OrdinalEncoder()),\n",
    "    ]\n",
    ")\n",
    "\n",
    "numeric_features = X_train.select_dtypes(include=[np.number]).columns ## X_train에 대해 normalize\n",
    "categorical_features = X_train.select_dtypes(include=[\"object\"]).columns ## X_train에 대해 normalize\n",
    "\n",
    "categorical_low, categorical_high = get_card_split(\n",
    "    X_train, categorical_features\n",
    ")\n",
    "## X_train에 대해 normalize\n",
    "\n",
    "preprocessor = ColumnTransformer(\n",
    "    transformers=[\n",
    "        (\"numeric\", numeric_transformer, numeric_features),\n",
    "        (\"categorical_low\", categorical_transformer_low, categorical_low),\n",
    "        (\"categorical_high\", categorical_transformer_high, categorical_high),\n",
    "    ]\n",
    ")\n",
    "\n",
    "pre = preprocessor\n",
    "\n",
    "X_train = pre.fit_transform(X_train)  # X_train에 대해서 학습\n",
    "\n",
    "X_val = pre.transform(X_val)\n",
    "X_test = pre.transform(X_test)"
   ]
  },
  {
   "cell_type": "markdown",
   "id": "58eba0b6",
   "metadata": {},
   "source": [
    "# Train and Validation Result"
   ]
  },
  {
   "cell_type": "code",
   "execution_count": 7,
   "id": "94b42da1",
   "metadata": {},
   "outputs": [
    {
     "data": {
      "text/plain": [
       "{'acc': 0.9701543379713334,\n",
       " 'AUC': 0.8601009878596009,\n",
       " 'f1': 0.8995660713110597,\n",
       " 'precision': 0.9304476507584166,\n",
       " 'recall': 0.7256203115983844,\n",
       " 'bal_acc': 0.8601009878596009}"
      ]
     },
     "execution_count": 7,
     "metadata": {},
     "output_type": "execute_result"
    }
   ],
   "source": [
    "from sklearn.metrics import accuracy_score, roc_auc_score, f1_score, precision_score, recall_score, balanced_accuracy_score\n",
    "from sklearn.ensemble import RandomForestClassifier\n",
    "\n",
    "def cal_mat(preds, labels):\n",
    "    result = {}\n",
    "    result['acc'] = accuracy_score(labels, preds)\n",
    "    result['AUC'] = roc_auc_score(labels, preds)\n",
    "    result['f1'] = f1_score(labels, preds, average='macro')\n",
    "    result['precision'] = precision_score(labels, preds)\n",
    "    result['recall'] = recall_score(labels, preds)\n",
    "    result['bal_acc'] = balanced_accuracy_score(labels, preds)\n",
    "    \n",
    "    return result\n",
    "\n",
    "clf = RandomForestClassifier()\n",
    "clf = clf.fit(X_train, y_train)\n",
    "\n",
    "preds = clf.predict(X_val)\n",
    "cal_mat(preds, y_val)"
   ]
  },
  {
   "cell_type": "markdown",
   "id": "3942feb9",
   "metadata": {},
   "source": [
    "### 대회의도와 다르게 Epitope, Antigen과 관련된 feature를 사용하지 않아도 성능이 좋게 나오게 되어버렸다."
   ]
  },
  {
   "cell_type": "markdown",
   "id": "b9b2a7a6",
   "metadata": {},
   "source": [
    "# Random Forest의 feature importance를 확인해 보면 number_of_responses와 number_of_tested가 classification에 중요한 영향을 미치는 것을 확인"
   ]
  },
  {
   "cell_type": "code",
   "execution_count": 8,
   "id": "44eec4f4",
   "metadata": {},
   "outputs": [
    {
     "name": "stdout",
     "output_type": "stream",
     "text": [
      "Feature ranking:\n",
      "1. feature number_of_responses (0.514)\n",
      "2. feature disease_state (0.182)\n",
      "3. feature number_of_tested (0.104)\n",
      "4. feature assay_method_technique (0.089)\n",
      "5. feature disease_type (0.087)\n",
      "6. feature assay_group (0.024)\n"
     ]
    },
    {
     "data": {
      "image/png": "[encoded data removed]",
      "text/plain": [
       "<Figure size 432x288 with 1 Axes>"
      ]
     },
     "metadata": {
      "needs_background": "light"
     },
     "output_type": "display_data"
    }
   ],
   "source": [
    "importances = clf.feature_importances_\n",
    "std = np.std([tree.feature_importances_ for tree in clf.estimators_], axis=0)\n",
    "\n",
    "indices = np.argsort(importances)[::-1]\n",
    "\n",
    "print(\"Feature ranking:\")\n",
    "for f in range(X_train.shape[1]):\n",
    "    print(\"{}. feature {} ({:.3f})\".format(f + 1, X.columns[indices][f], importances[indices[f]]))\n",
    "    \n",
    "plt.figure()\n",
    "plt.title(\"Feature ranking:\")\n",
    "plt.bar(range(X.shape[1]), importances[indices],\n",
    "        color='r', yerr=std[indices], align='center', alpha=0.3)\n",
    "plt.xticks(range(X.shape[1]), X.columns[indices], rotation=45)\n",
    "plt.xlim([-1, X.shape[1]])\n",
    "plt.show()"
   ]
  }
 ],
 "metadata": {
  "kernelspec": {
   "display_name": "Python 3 (ipykernel)",
   "language": "python",
   "name": "python3"
  },
  "language_info": {
   "codemirror_mode": {
    "name": "ipython",
    "version": 3
   },
   "file_extension": ".py",
   "mimetype": "text/x-python",
   "name": "python",
   "nbconvert_exporter": "python",
   "pygments_lexer": "ipython3",
   "version": "3.7.13"
  }
 },
 "nbformat": 4,
 "nbformat_minor": 5
}
