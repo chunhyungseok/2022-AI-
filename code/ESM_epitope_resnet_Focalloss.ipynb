{
 "cells": [
  {
   "cell_type": "code",
   "execution_count": 1,
   "id": "b40b065b",
   "metadata": {},
   "outputs": [],
   "source": [
    "import random\n",
    "import pandas as pd\n",
    "import numpy as np\n",
    "import os\n",
    "\n",
    "import torch\n",
    "import torch.nn as nn\n",
    "import torch.optim as optim\n",
    "import torch.nn.functional as F\n",
    "from torch.utils.data import Dataset, DataLoader\n",
    "\n",
    "from tqdm import tqdm\n",
    "from sklearn.metrics import f1_score\n",
    "import warnings\n",
    "warnings.filterwarnings(action='ignore')\n",
    "from transformers import ESMTokenizer, ESMForMaskedLM, ESMModel\n",
    "from sklearn.model_selection import train_test_split\n",
    "from transformers import BertConfig, BertModel, BertTokenizer, BertForPreTraining\n",
    "from sklearn import preprocessing"
   ]
  },
  {
   "cell_type": "markdown",
   "id": "344b6b9a",
   "metadata": {},
   "source": [
    "# Parameter"
   ]
  },
  {
   "cell_type": "code",
   "execution_count": 2,
   "id": "d131226f",
   "metadata": {},
   "outputs": [],
   "source": [
    "CFG = {\n",
    "    'NUM_WORKERS':4,    \n",
    "    'EPOCHS':50,\n",
    "    'LEARNING_RATE':1e-4,\n",
    "    'BATCH_SIZE':128,\n",
    "    'THRESHOLD':0.5,\n",
    "    'SEED':41\n",
    "}"
   ]
  },
  {
   "cell_type": "code",
   "execution_count": 3,
   "id": "7e2949d3",
   "metadata": {},
   "outputs": [],
   "source": [
    "def seed_everything(seed):\n",
    "    random.seed(seed)\n",
    "    os.environ['PYTHONHASHSEED'] = str(seed)\n",
    "    np.random.seed(seed)\n",
    "    torch.manual_seed(seed)\n",
    "    torch.cuda.manual_seed(seed)\n",
    "    \n",
    "    torch.backends.cudnn.deterministic = True\n",
    "    torch.backends.cudnn.benchmark = True\n",
    "\n",
    "seed_everything(CFG['SEED']) # Seed 고정"
   ]
  },
  {
   "cell_type": "code",
   "execution_count": 4,
   "id": "72677463",
   "metadata": {},
   "outputs": [],
   "source": [
    "tokenizer = ESMTokenizer.from_pretrained(\"facebook/esm-1b\", do_lower_case=False)"
   ]
  },
  {
   "cell_type": "markdown",
   "id": "2ef717a3",
   "metadata": {},
   "source": [
    "# Preprocessing"
   ]
  },
  {
   "cell_type": "code",
   "execution_count": 5,
   "id": "35170b2b",
   "metadata": {},
   "outputs": [],
   "source": [
    "def get_preprocessing(data_type, new_df, tokenizer):\n",
    "    epitope_ids_list = []\n",
    "    epitope_mask_list = []\n",
    "    \n",
    "    \n",
    "        \n",
    "    for epitope in tqdm(new_df['epitope_seq']):       \n",
    "        \n",
    "        epitope_input = tokenizer(epitope, add_special_tokens=True, pad_to_max_length=True, is_split_into_words = True, max_length = 72)\n",
    "        epitope_ids = epitope_input['input_ids']\n",
    "        epitope_mask = epitope_input['attention_mask']\n",
    "        \n",
    "        \n",
    "        epitope_ids_list.append(epitope_ids)\n",
    "        epitope_mask_list.append(epitope_mask)\n",
    "        \n",
    "    \n",
    "    label_list = None\n",
    "    if data_type != 'test':\n",
    "        label_list = []\n",
    "        for label in new_df['label']:\n",
    "            label_list.append(label)\n",
    "    print(f'{data_type} dataframe preprocessing was done.')\n",
    "    return epitope_ids_list, epitope_mask_list, label_list\n",
    "\n",
    "def normalization(df):\n",
    "    standard_scaler = preprocessing.StandardScaler()    \n",
    "    standard_scaler.fit(df)\n",
    "    df = standard_scaler.transform(df)\n",
    "    return df"
   ]
  },
  {
   "cell_type": "code",
   "execution_count": 6,
   "id": "3ae126b2",
   "metadata": {},
   "outputs": [
    {
     "name": "stderr",
     "output_type": "stream",
     "text": [
      "  0%|          | 0/152648 [00:00<?, ?it/s]Truncation was not explicitly activated but `max_length` is provided a specific value, please use `truncation=True` to explicitly truncate examples to max length. Defaulting to 'longest_first' truncation strategy. If you encode pairs of sequences (GLUE-style) with the tokenizer you can select this strategy more precisely by providing a specific strategy to `truncation`.\n",
      "100%|██████████| 152648/152648 [00:17<00:00, 8594.10it/s]\n"
     ]
    },
    {
     "name": "stdout",
     "output_type": "stream",
     "text": [
      "train dataframe preprocessing was done.\n"
     ]
    },
    {
     "name": "stderr",
     "output_type": "stream",
     "text": [
      "100%|██████████| 38163/38163 [00:04<00:00, 8355.73it/s]\n"
     ]
    },
    {
     "name": "stdout",
     "output_type": "stream",
     "text": [
      "val dataframe preprocessing was done.\n"
     ]
    }
   ],
   "source": [
    "train = pd.read_csv('data/train.csv')\n",
    "test = pd.read_csv('data/test.csv')\n",
    "train1 = pd.read_csv('data/train_AAC.csv')\n",
    "train2 = pd.read_csv('data/train_DDE.csv')\n",
    "train3 = pd.read_csv('data/train_CTDC.csv')\n",
    "train4 = pd.read_csv('data/train_CTDT.csv')\n",
    "train5 = pd.read_csv('data/train_CTDD.csv')\n",
    "\n",
    "train_input_feature = pd.merge(train1, train2, how='left', left_on='#', right_on='#', sort = False)\n",
    "train_input_feature = pd.merge(train_input_feature, train3, how='left', left_on='#', right_on='#', sort = False)\n",
    "train_input_feature = pd.merge(train_input_feature, train4, how='left', left_on='#', right_on='#', sort = False)\n",
    "train_input_feature = pd.merge(train_input_feature, train5, how='left', left_on='#', right_on='#', sort = False)\n",
    "\n",
    "train = pd.merge(train, train_input_feature, how='left', left_on = 'id', right_on='#', sort = False)\n",
    "\n",
    "\n",
    "\n",
    "train, val = train_test_split(train, train_size=0.8, random_state=12)\n",
    "\n",
    "train_epitope_ids_list, train_epitope_mask_list, train_label_list = get_preprocessing('train', train, tokenizer)\n",
    "val_epitope_ids_list, val_epitope_mask_list, val_label_list = get_preprocessing('val', val, tokenizer)\n",
    "\n",
    "train_feature = normalization(train.drop(['id','epitope_seq','antigen_seq','antigen_code','start_position','end_position',\n",
    "                                           'number_of_tested','number_of_responses','assay_method_technique','assay_group',\n",
    "                                           'disease_type','disease_state','reference_date','reference_journal','reference_title',\n",
    "                                           'reference_IRI','qualitative_label','label','#'], axis = 1))\n",
    "\n",
    "val_feature = normalization(val.drop(['id','epitope_seq','antigen_seq','antigen_code','start_position','end_position',\n",
    "                                       'number_of_tested','number_of_responses','assay_method_technique','assay_group',\n",
    "                                       'disease_type','disease_state','reference_date','reference_journal','reference_title',\n",
    "                                       'reference_IRI','qualitative_label','label','#'], axis = 1))\n"
   ]
  },
  {
   "cell_type": "code",
   "execution_count": 8,
   "id": "4785a02d",
   "metadata": {},
   "outputs": [
    {
     "data": {
      "text/plain": [
       "(152648, 698)"
      ]
     },
     "execution_count": 8,
     "metadata": {},
     "output_type": "execute_result"
    }
   ],
   "source": [
    "train_feature.shape"
   ]
  },
  {
   "cell_type": "markdown",
   "id": "5edf8147",
   "metadata": {},
   "source": [
    "# Load Data"
   ]
  },
  {
   "cell_type": "code",
   "execution_count": 12,
   "id": "cda9758b",
   "metadata": {},
   "outputs": [],
   "source": [
    "class CustomDataset(Dataset):\n",
    "    def __init__(self, \n",
    "                 epitope_ids_list, \n",
    "                 epitope_mask_list,                  \n",
    "                 input_feature,\n",
    "                 label_list):\n",
    "        self.epitope_ids_list = epitope_ids_list\n",
    "        self.epitope_mask_list = epitope_mask_list        \n",
    "        self.input_feature = input_feature\n",
    "        self.label_list = label_list\n",
    "        \n",
    "    def __getitem__(self, index):\n",
    "        self.epitope_ids = self.epitope_ids_list[index]\n",
    "        self.epitope_mask = self.epitope_mask_list[index]        \n",
    "        input_feature = self.input_feature[index]\n",
    "        \n",
    "        if self.label_list is not None:\n",
    "            self.label = self.label_list[index]\n",
    "            return torch.tensor(self.epitope_ids), torch.tensor(self.epitope_mask), torch.FloatTensor(input_feature), self.label\n",
    "        \n",
    "        else:\n",
    "            return torch.tensor(self.epitope_ids), torch.tensor(self.epitope_mask), torch.FloatTensor(input_feature)\n",
    "        \n",
    "    def __len__(self):\n",
    "        return len(self.epitope_ids_list)"
   ]
  },
  {
   "cell_type": "code",
   "execution_count": 13,
   "id": "42e40a49",
   "metadata": {},
   "outputs": [],
   "source": [
    "train_dataset = CustomDataset(train_epitope_ids_list, \n",
    "                              train_epitope_mask_list,                               \n",
    "                              train_feature,\n",
    "                              train_label_list)\n",
    "train_loader = DataLoader(train_dataset, batch_size = CFG['BATCH_SIZE'], shuffle=True, num_workers=CFG['NUM_WORKERS'])\n",
    "\n",
    "val_dataset = CustomDataset(val_epitope_ids_list, \n",
    "                            val_epitope_mask_list,                             \n",
    "                            val_feature,\n",
    "                            val_label_list)\n",
    "val_loader = DataLoader(val_dataset, batch_size = CFG['BATCH_SIZE'], shuffle=False, num_workers=CFG['NUM_WORKERS'])"
   ]
  },
  {
   "cell_type": "markdown",
   "id": "482b8455",
   "metadata": {},
   "source": [
    "# Model"
   ]
  },
  {
   "cell_type": "code",
   "execution_count": 14,
   "id": "d0a50204",
   "metadata": {},
   "outputs": [],
   "source": [
    "class resnet_block(nn.Module):\n",
    "    def __init__(self, in_channels, out_channels):\n",
    "        super().__init__()        \n",
    "        \n",
    "        self.cnn1 = nn.Conv1d(in_channels = in_channels, out_channels = out_channels, kernel_size = 8, padding = 'same')\n",
    "        self.cnn2 = nn.Conv1d(in_channels = out_channels, out_channels = out_channels, kernel_size = 8, padding = 'same')\n",
    "        \n",
    "    def forward(self, epitope):\n",
    "        \n",
    "        \n",
    "        _epitope = self.cnn1(epitope)\n",
    "        epitope = F.relu(self.cnn1(epitope))\n",
    "        epitope = self.cnn2(epitope)\n",
    "        \n",
    "        epitope = F.relu(torch.add(epitope , _epitope))        \n",
    "        \n",
    "        \n",
    "        return epitope\n",
    "        "
   ]
  },
  {
   "cell_type": "code",
   "execution_count": 15,
   "id": "bd439628",
   "metadata": {},
   "outputs": [],
   "source": [
    "class protein_layer(nn.Module):\n",
    "    \n",
    "    def __init__(self):\n",
    "        \n",
    "        super().__init__()\n",
    "        \n",
    "        self.resnet_block1 = resnet_block(1280, 256)       \n",
    "        self.layers = nn.ModuleList([resnet_block(256, 256) for _ in range(3)])\n",
    "        \n",
    "    def forward(self, epitope):\n",
    "        \n",
    "        \n",
    "        epitope = self.resnet_block1(epitope)\n",
    "        \n",
    "        for layer in self.layers:            \n",
    "        \n",
    "            epitope = layer(epitope)\n",
    "            \n",
    "        return epitope\n",
    "            "
   ]
  },
  {
   "cell_type": "code",
   "execution_count": 16,
   "id": "3c3423c4",
   "metadata": {},
   "outputs": [],
   "source": [
    "class TransformerModel(nn.Module):\n",
    "    def __init__(self, pretrained_model='facebook/esm-1b'):\n",
    "        super(TransformerModel, self).__init__()              \n",
    "        # Transformer                \n",
    "        self.esm = ESMModel.from_pretrained(pretrained_model)  \n",
    "        \n",
    "        self.max_pool = nn.MaxPool1d(72)\n",
    "        \n",
    "        self.epitope_layer = protein_layer()\n",
    "\n",
    "        in_channels = 256 + 698\n",
    "            \n",
    "        self.classifier = nn.Sequential(\n",
    "            nn.LeakyReLU(True),\n",
    "            nn.BatchNorm1d(in_channels),\n",
    "            nn.Linear(in_channels, in_channels//4),\n",
    "            nn.LeakyReLU(True),\n",
    "            nn.BatchNorm1d(in_channels//4),\n",
    "            nn.Linear(in_channels//4, 1)\n",
    "        )\n",
    "        \n",
    "    def forward(self, epitope_x1, epitope_x2, input_feature):\n",
    "        \n",
    "        # Get Embedding Vector\n",
    "        epitope = self.esm(input_ids=epitope_x1, attention_mask=epitope_x2).last_hidden_state\n",
    "        \n",
    "        epitope = epitope.transpose(1,2).contiguous()\n",
    "        \n",
    "        epitope = self.max_pool(self.epitope_layer(epitope)).squeeze()\n",
    "        \n",
    "        \n",
    "        # Feature Concat -> Binary Classifier\n",
    "        \n",
    "        x = torch.cat([epitope, input_feature], axis=-1)        \n",
    "        \n",
    "        x = self.classifier(x).view(-1)\n",
    "        return x"
   ]
  },
  {
   "cell_type": "markdown",
   "id": "d2b0ed4a",
   "metadata": {},
   "source": [
    "# Train & Validation"
   ]
  },
  {
   "cell_type": "code",
   "execution_count": 17,
   "id": "4c023e14",
   "metadata": {},
   "outputs": [],
   "source": [
    "class WeightedFocalLoss(nn.Module):\n",
    "    \"Non weighted version of Focal Loss\"\n",
    "    def __init__(self, alpha=.25, gamma=2):\n",
    "        super(WeightedFocalLoss, self).__init__()\n",
    "        self.alpha = torch.tensor([alpha, 1-alpha]).to(device)\n",
    "        self.gamma = gamma\n",
    "    def forward(self, inputs, targets):\n",
    "        BCE_loss = F.binary_cross_entropy_with_logits(inputs, targets, reduction='none')\n",
    "        targets = targets.type(torch.long)\n",
    "        at = self.alpha.gather(0, targets.data.view(-1))\n",
    "        pt = torch.exp(-BCE_loss)\n",
    "        F_loss = at*(1-pt)**self.gamma * BCE_loss\n",
    "        return F_loss.mean()"
   ]
  },
  {
   "cell_type": "code",
   "execution_count": 18,
   "id": "06ae19bc",
   "metadata": {},
   "outputs": [],
   "source": [
    "def train(model, optimizer, train_loader, val_loader, scheduler, device):\n",
    "    model.to(device)    \n",
    "    criterion = WeightedFocalLoss().to(device) \n",
    "    best_val_f1 = 0\n",
    "    for epoch in range(1, CFG['EPOCHS']+1):\n",
    "        model.train()\n",
    "        train_loss = []\n",
    "        for epitope_ids_list, epitope_mask_list, input_feature, label in tqdm(iter(train_loader)):\n",
    "            epitope_ids_list = epitope_ids_list.to(device)\n",
    "            epitope_mask_list = epitope_mask_list.to(device)\n",
    "            input_feautre = input_feature.to(device)\n",
    "\n",
    "            label = label.float().to(device)\n",
    "            \n",
    "            optimizer.zero_grad()\n",
    "            \n",
    "            output = model(epitope_ids_list, epitope_mask_list, input_feature)\n",
    "            loss = criterion(output, label)\n",
    "            \n",
    "            loss.backward()\n",
    "            optimizer.step()\n",
    "            \n",
    "            train_loss.append(loss.item())\n",
    "            \n",
    "            if scheduler is not None:\n",
    "                scheduler.step()\n",
    "                    \n",
    "        val_loss, val_f1 = validation(model, val_loader, criterion, device)\n",
    "        print(f'Epoch : [{epoch}] Train Loss : [{np.mean(train_loss):.5f}] Val Loss : [{val_loss:.5f}] Val F1 : [{val_f1:.5f}]')\n",
    "        \n",
    "        if best_val_f1 < val_f1:\n",
    "            best_val_f1 = val_f1\n",
    "            torch.save(model.module.state_dict(), 'model/esm_epitope_resnet.pth', _use_new_zipfile_serialization=False)\n",
    "            print('Model Saved.')\n",
    "    return best_val_f1"
   ]
  },
  {
   "cell_type": "code",
   "execution_count": 19,
   "id": "24b3bb77",
   "metadata": {},
   "outputs": [],
   "source": [
    "def validation(model, val_loader, criterion, device):\n",
    "    model.eval()\n",
    "    pred_proba_label = []\n",
    "    true_label = []\n",
    "    val_loss = []\n",
    "    with torch.no_grad():\n",
    "        for epitope_ids_list, epitope_mask_list, input_feature, label in tqdm(iter(val_loader)):\n",
    "            epitope_ids_list = epitope_ids_list.to(device)\n",
    "            epitope_mask_list = epitope_mask_list.to(device)\n",
    "            input_feature = input_feature.to(device)\n",
    "\n",
    "\n",
    "            label = label.float().to(device)\n",
    "            \n",
    "            model_pred = model(epitope_ids_list, epitope_mask_list, input_feature)\n",
    "            loss = criterion(output, label)\n",
    "            model_pred = torch.sigmoid(model_pred).to('cpu')\n",
    "            \n",
    "            pred_proba_label += model_pred.tolist()\n",
    "            true_label += label.to('cpu').tolist()\n",
    "            \n",
    "            val_loss.append(loss.item())\n",
    "            \n",
    "    pred_label = np.where(np.array(pred_proba_label)>CFG['THRESHOLD'], 1, 0)\n",
    "    val_f1 = f1_score(true_label, pred_label, average='macro')\n",
    "    return np.mean(val_loss), val_f1"
   ]
  },
  {
   "cell_type": "markdown",
   "id": "d07dda58",
   "metadata": {},
   "source": [
    "# Run"
   ]
  },
  {
   "cell_type": "code",
   "execution_count": 20,
   "id": "e549fcb4",
   "metadata": {},
   "outputs": [],
   "source": [
    "device = torch.device('cuda:1') if torch.cuda.is_available() else torch.device('cpu')"
   ]
  },
  {
   "cell_type": "code",
   "execution_count": 21,
   "id": "161d36bd",
   "metadata": {
    "scrolled": true
   },
   "outputs": [
    {
     "name": "stderr",
     "output_type": "stream",
     "text": [
      "Some weights of the model checkpoint at facebook/esm-1b were not used when initializing ESMModel: ['lm_head.bias', 'lm_head.layer_norm.bias', 'lm_head.dense.bias', 'lm_head.layer_norm.weight', 'lm_head.dense.weight']\n",
      "- This IS expected if you are initializing ESMModel from the checkpoint of a model trained on another task or with another architecture (e.g. initializing a BertForSequenceClassification model from a BertForPreTraining model).\n",
      "- This IS NOT expected if you are initializing ESMModel from the checkpoint of a model that you expect to be exactly identical (initializing a BertForSequenceClassification model from a BertForSequenceClassification model).\n",
      "Some weights of ESMModel were not initialized from the model checkpoint at facebook/esm-1b and are newly initialized: ['esm.pooler.dense.weight', 'esm.pooler.dense.bias']\n",
      "You should probably TRAIN this model on a down-stream task to be able to use it for predictions and inference.\n"
     ]
    }
   ],
   "source": [
    "model = TransformerModel()\n",
    "model = nn.DataParallel(model, device_ids=[1,0])\n",
    "optimizer = torch.optim.Adam(params = model.parameters(), lr = CFG[\"LEARNING_RATE\"])\n",
    "scheduler = torch.optim.lr_scheduler.CosineAnnealingLR(optimizer, T_max=10*CFG['EPOCHS'], eta_min=0)\n"
   ]
  },
  {
   "cell_type": "code",
   "execution_count": 22,
   "id": "f1306f5d",
   "metadata": {
    "scrolled": true
   },
   "outputs": [],
   "source": [
    "for name, para in model.named_parameters():\n",
    "    if name in [\n",
    "'module.esm.encoder.layer.31.attention.self.query.weight',\n",
    "'module.esm.encoder.layer.31.attention.self.query.bias',\n",
    "'module.esm.encoder.layer.31.attention.self.key.weight',\n",
    "'module.esm.encoder.layer.31.attention.self.key.bias',\n",
    "'module.esm.encoder.layer.31.attention.self.value.weight',\n",
    "'module.esm.encoder.layer.31.attention.self.value.bias',\n",
    "'module.esm.encoder.layer.31.attention.output.dense.weight',\n",
    "'module.esm.encoder.layer.31.attention.output.dense.bias',\n",
    "'module.esm.encoder.layer.31.attention.LayerNorm.weight',\n",
    "'module.esm.encoder.layer.31.attention.LayerNorm.bias',\n",
    "'module.esm.encoder.layer.31.intermediate.dense.weight',\n",
    "'module.esm.encoder.layer.31.intermediate.dense.bias',\n",
    "'module.esm.encoder.layer.31.output.dense.weight',\n",
    "'module.esm.encoder.layer.31.output.dense.bias',\n",
    "'module.esm.encoder.layer.31.LayerNorm.weight',\n",
    "'module.esm.encoder.layer.31.LayerNorm.bias',\n",
    "'module.esm.encoder.layer.32.attention.self.query.weight',\n",
    "'module.esm.encoder.layer.32.attention.self.query.bias',\n",
    "'module.esm.encoder.layer.32.attention.self.key.weight',\n",
    "'module.esm.encoder.layer.32.attention.self.key.bias',\n",
    "'module.esm.encoder.layer.32.attention.self.value.weight',\n",
    "'module.esm.encoder.layer.32.attention.self.value.bias',\n",
    "'module.esm.encoder.layer.32.attention.output.dense.weight',\n",
    "'module.esm.encoder.layer.32.attention.output.dense.bias',\n",
    "'module.esm.encoder.layer.32.attention.LayerNorm.weight',\n",
    "'module.esm.encoder.layer.32.attention.LayerNorm.bias',\n",
    "'module.esm.encoder.layer.32.intermediate.dense.weight',\n",
    "'module.esm.encoder.layer.32.intermediate.dense.bias',\n",
    "'module.esm.encoder.layer.32.output.dense.weight',\n",
    "'module.esm.encoder.layer.32.output.dense.bias',\n",
    "'module.esm.encoder.layer.32.LayerNorm.weight',\n",
    "'module.esm.encoder.layer.32.LayerNorm.bias',\n",
    "'module.esm.encoder.emb_layer_norm_after.weight',\n",
    "'module.esm.encoder.emb_layer_norm_after.bias',\n",
    "'module.esm.pooler.dense.weight',\n",
    "'module.esm.pooler.dense.bias',\n",
    "'module.epitope_layer.resnet_block1.cnn1.weight',\n",
    "'module.epitope_layer.resnet_block1.cnn1.bias',\n",
    "'module.epitope_layer.resnet_block1.cnn2.weight',\n",
    "'module.epitope_layer.resnet_block1.cnn2.bias',\n",
    "'module.epitope_layer.layers.0.cnn1.weight',\n",
    "'module.epitope_layer.layers.0.cnn1.bias',\n",
    "'module.epitope_layer.layers.0.cnn2.weight',\n",
    "'module.epitope_layer.layers.0.cnn2.bias',\n",
    "'module.epitope_layer.layers.1.cnn1.weight',\n",
    "'module.epitope_layer.layers.1.cnn1.bias',\n",
    "'module.epitope_layer.layers.1.cnn2.weight',\n",
    "'module.epitope_layer.layers.1.cnn2.bias',\n",
    "'module.epitope_layer.layers.2.cnn1.weight',\n",
    "'module.epitope_layer.layers.2.cnn1.bias',\n",
    "'module.epitope_layer.layers.2.cnn2.weight',\n",
    "'module.epitope_layer.layers.2.cnn2.bias',\n",
    "'module.epitope_layer.layers.3.cnn1.weight',\n",
    "'module.epitope_layer.layers.3.cnn1.bias',\n",
    "'module.epitope_layer.layers.3.cnn2.weight',\n",
    "'module.epitope_layer.layers.3.cnn2.bias',\n",
    "'module.epitope_layer.layers.4.cnn1.weight',\n",
    "'module.epitope_layer.layers.4.cnn1.bias',\n",
    "'module.epitope_layer.layers.4.cnn2.weight',\n",
    "'module.epitope_layer.layers.4.cnn2.bias',\n",
    "'module.epitope_layer.layers.5.cnn1.weight',\n",
    "'module.epitope_layer.layers.5.cnn1.bias',\n",
    "'module.epitope_layer.layers.5.cnn2.weight',\n",
    "'module.epitope_layer.layers.5.cnn2.bias',\n",
    "'module.epitope_layer.layers.6.cnn1.weight',\n",
    "'module.epitope_layer.layers.6.cnn1.bias',\n",
    "'module.epitope_layer.layers.6.cnn2.weight',\n",
    "'module.epitope_layer.layers.6.cnn2.bias',\n",
    "'module.classifier.1.weight',\n",
    "'module.classifier.1.bias',\n",
    "'module.classifier.2.weight',\n",
    "'module.classifier.2.bias',\n",
    "'module.classifier.4.weight',\n",
    "'module.classifier.4.bias',\n",
    "'module.classifier.5.weight',\n",
    "'module.classifier.5.bias']:\n",
    "        para.requires_grad = True\n",
    "        \n",
    "    else:\n",
    "        para.requires_grad = False\n",
    "\n"
   ]
  },
  {
   "cell_type": "code",
   "execution_count": null,
   "id": "c5d83e11",
   "metadata": {
    "scrolled": false
   },
   "outputs": [
    {
     "name": "stderr",
     "output_type": "stream",
     "text": [
      " 53%|█████▎    | 635/1193 [15:12<10:06,  1.09s/it]"
     ]
    }
   ],
   "source": [
    "best_score = train(model, optimizer, train_loader, val_loader, scheduler, device)\n",
    "print(f'Best Validation F1 Score : [{best_score:.5f}]')"
   ]
  },
  {
   "cell_type": "code",
   "execution_count": null,
   "id": "f83db647",
   "metadata": {},
   "outputs": [],
   "source": []
  },
  {
   "cell_type": "code",
   "execution_count": null,
   "id": "0bf11aef",
   "metadata": {},
   "outputs": [],
   "source": []
  },
  {
   "cell_type": "code",
   "execution_count": null,
   "id": "1e680421",
   "metadata": {},
   "outputs": [],
   "source": []
  },
  {
   "cell_type": "code",
   "execution_count": null,
   "id": "003962f8",
   "metadata": {},
   "outputs": [],
   "source": []
  }
 ],
 "metadata": {
  "kernelspec": {
   "display_name": "Python 3 (ipykernel)",
   "language": "python",
   "name": "python3"
  },
  "language_info": {
   "codemirror_mode": {
    "name": "ipython",
    "version": 3
   },
   "file_extension": ".py",
   "mimetype": "text/x-python",
   "name": "python",
   "nbconvert_exporter": "python",
   "pygments_lexer": "ipython3",
   "version": "3.7.13"
  }
 },
 "nbformat": 4,
 "nbformat_minor": 5
}
