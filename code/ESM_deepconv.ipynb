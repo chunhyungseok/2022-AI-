{
 "cells": [
  {
   "cell_type": "code",
   "execution_count": 1,
   "id": "63749906",
   "metadata": {},
   "outputs": [],
   "source": [
    "import random\n",
    "import pandas as pd\n",
    "import numpy as np\n",
    "import os\n",
    "import torch\n",
    "import torch.nn as nn\n",
    "import torch.optim as optim\n",
    "import torch.nn.functional as F\n",
    "from torch.utils.data import Dataset, DataLoader\n",
    "from sklearn import metrics\n",
    "from sklearn.model_selection import train_test_split\n",
    "from tqdm.auto import tqdm, trange\n",
    "\n",
    "from tqdm import tqdm\n",
    "from sklearn.metrics import f1_score\n",
    "from transformers import ESMTokenizer, ESMModel\n"
   ]
  },
  {
   "cell_type": "code",
   "execution_count": 2,
   "id": "c340a23f",
   "metadata": {},
   "outputs": [],
   "source": [
    "CFG = {\n",
    "    'NUM_WORKERS':4,\n",
    "    'EPITOPE_MAX_LEN':64,\n",
    "    'EPOCHS':50,\n",
    "    'LEARNING_RATE':5e-5,\n",
    "    'BATCH_SIZE':512,\n",
    "    'THRESHOLD':0.5,   # 기본적으로 0.5로 사용하지만 data impalance가 심할 경우 더 큰 값을 사용하기도 한다.\n",
    "    'SEED':41\n",
    "}"
   ]
  },
  {
   "cell_type": "code",
   "execution_count": 3,
   "id": "5954aed2",
   "metadata": {},
   "outputs": [],
   "source": [
    "def seed_everything(seed):\n",
    "    random.seed(seed)\n",
    "    os.environ['PYTHONHASHSEED'] = str(seed)\n",
    "    np.random.seed(seed)\n",
    "    torch.manual_seed(seed)\n",
    "    torch.cuda.manual_seed(seed)\n",
    "    torch.backends.cudnn.deterministic = True\n",
    "    torch.backends.cudnn.benchmark = True\n",
    "\n",
    "seed_everything(CFG['SEED']) # Seed 고정"
   ]
  },
  {
   "cell_type": "code",
   "execution_count": 4,
   "id": "f4b2c6bd",
   "metadata": {},
   "outputs": [],
   "source": [
    "tokenizer = ESMTokenizer.from_pretrained(\"facebook/esm-1b\", do_lower_case=False)"
   ]
  },
  {
   "cell_type": "code",
   "execution_count": 5,
   "id": "ed9df25c",
   "metadata": {},
   "outputs": [],
   "source": [
    "def get_preprocessing(data_type, new_df, tokenizer):\n",
    "    epitope_ids_list = []\n",
    "    epitope_mask_list = []    \n",
    "        \n",
    "    for epitope, antigen, s_p, e_p in tqdm(zip(new_df['epitope_seq'], new_df['antigen_seq'], new_df['start_position'], new_df['end_position'])):            \n",
    "        \n",
    "#         epitope_features.append(get_peptide_feature(epitope))        \n",
    "        \n",
    "        epitope_input = tokenizer(epitope, add_special_tokens=True, pad_to_max_length=True, is_split_into_words = True, max_length = CFG['EPITOPE_MAX_LEN'])\n",
    "        epitope_ids = epitope_input['input_ids']\n",
    "        epitope_mask = epitope_input['attention_mask']\n",
    "        \n",
    "        \n",
    "        epitope_ids_list.append(epitope_ids)\n",
    "        epitope_mask_list.append(epitope_mask)\n",
    "\n",
    "    \n",
    "    label_list = None\n",
    "    if data_type != 'test':\n",
    "        label_list = []\n",
    "        for label in new_df['label']:\n",
    "            label_list.append(label)\n",
    "    print(f'{data_type} dataframe preprocessing was done.')\n",
    "    return epitope_ids_list, epitope_mask_list, label_list\n"
   ]
  },
  {
   "cell_type": "code",
   "execution_count": 6,
   "id": "6be1c19c",
   "metadata": {},
   "outputs": [
    {
     "name": "stderr",
     "output_type": "stream",
     "text": [
      "0it [00:00, ?it/s]Truncation was not explicitly activated but `max_length` is provided a specific value, please use `truncation=True` to explicitly truncate examples to max length. Defaulting to 'longest_first' truncation strategy. If you encode pairs of sequences (GLUE-style) with the tokenizer you can select this strategy more precisely by providing a specific strategy to `truncation`.\n",
      "/home/hyungseok/.local/lib/python3.7/site-packages/transformers/tokenization_utils_base.py:2221: FutureWarning: The `pad_to_max_length` argument is deprecated and will be removed in a future version, use `padding=True` or `padding='longest'` to pad to the longest sequence in the batch, or use `padding='max_length'` to pad to a max length. In this case, you can give a specific length with `max_length` (e.g. `max_length=45`) or leave max_length to None to pad to the maximal input size of the model (e.g. 512 for Bert).\n",
      "  FutureWarning,\n",
      "152648it [00:17, 8550.82it/s]\n"
     ]
    },
    {
     "name": "stdout",
     "output_type": "stream",
     "text": [
      "train dataframe preprocessing was done.\n"
     ]
    },
    {
     "name": "stderr",
     "output_type": "stream",
     "text": [
      "38163it [00:04, 8262.22it/s]"
     ]
    },
    {
     "name": "stdout",
     "output_type": "stream",
     "text": [
      "val dataframe preprocessing was done.\n"
     ]
    },
    {
     "name": "stderr",
     "output_type": "stream",
     "text": [
      "\n"
     ]
    }
   ],
   "source": [
    "train = pd.read_csv('data/train.csv')\n",
    "\n",
    "train, val = train_test_split(train, train_size=0.8, random_state=12)\n",
    "\n",
    "train_epitope_ids_list, train_epitope_mask_list, train_label_list = get_preprocessing('train', train, tokenizer)\n",
    "val_epitope_ids_list, val_epitope_mask_list, val_label_list = get_preprocessing('val', val, tokenizer)\n",
    "\n"
   ]
  },
  {
   "cell_type": "code",
   "execution_count": 7,
   "id": "0ed5f83e",
   "metadata": {},
   "outputs": [],
   "source": [
    "class CustomDataset(Dataset):\n",
    "    def __init__(self, \n",
    "                 epitope_ids_list, \n",
    "                 epitope_mask_list,                  \n",
    "                 label_list):\n",
    "        self.epitope_ids_list = epitope_ids_list\n",
    "        self.epitope_mask_list = epitope_mask_list  \n",
    "        self.label_list = label_list\n",
    "        \n",
    "    def __getitem__(self, index):\n",
    "        self.epitope_ids = self.epitope_ids_list[index]\n",
    "        self.epitope_mask = self.epitope_mask_list[index]\n",
    "              \n",
    "        \n",
    "        if self.label_list is not None:\n",
    "            self.label = self.label_list[index]\n",
    "            return torch.tensor(self.epitope_ids), torch.tensor(self.epitope_mask), self.label\n",
    "        else:\n",
    "            return torch.tensor(self.epitope_ids), torch.tensor(self.epitope_mask)\n",
    "        \n",
    "    def __len__(self):\n",
    "        return len(self.epitope_ids_list)"
   ]
  },
  {
   "cell_type": "code",
   "execution_count": 8,
   "id": "0982f834",
   "metadata": {},
   "outputs": [],
   "source": [
    "train_dataset = CustomDataset(train_epitope_ids_list, \n",
    "                              train_epitope_mask_list,                             \n",
    "                              train_label_list)\n",
    "train_loader = DataLoader(train_dataset, batch_size = CFG['BATCH_SIZE'], shuffle=True, num_workers=CFG['NUM_WORKERS'])\n",
    "\n",
    "val_dataset = CustomDataset(val_epitope_ids_list, \n",
    "                            val_epitope_mask_list,\n",
    "                            val_label_list)\n",
    "val_loader = DataLoader(val_dataset, batch_size = CFG['BATCH_SIZE'], shuffle=False, num_workers=CFG['NUM_WORKERS'])"
   ]
  },
  {
   "cell_type": "code",
   "execution_count": 9,
   "id": "7ef06b00",
   "metadata": {},
   "outputs": [],
   "source": [
    "class TransformerModel(nn.Module):\n",
    "    def __init__(self, pretrained_model='facebook/esm-1b'):\n",
    "        super(TransformerModel, self).__init__()              \n",
    "        # Transformer                \n",
    "        self.esm = ESMModel.from_pretrained(pretrained_model)  \n",
    "        \n",
    "        self.max_pool = nn.MaxPool1d(CFG['EPITOPE_MAX_LEN'])\n",
    "        \n",
    "        self.cnn4 = nn.Conv1d(in_channels = 1280, out_channels = 256, kernel_size = 4, padding = 'same')\n",
    "        self.cnn5 = nn.Conv1d(in_channels = 1280, out_channels = 256, kernel_size = 5, padding = 'same')\n",
    "        self.cnn6 = nn.Conv1d(in_channels = 1280, out_channels = 256, kernel_size = 6, padding = 'same')\n",
    "        self.cnn7 = nn.Conv1d(in_channels = 1280, out_channels = 256, kernel_size = 7, padding = 'same')\n",
    "        self.cnn8 = nn.Conv1d(in_channels = 1280, out_channels = 256, kernel_size = 8, padding = 'same')\n",
    "        self.cnn9 = nn.Conv1d(in_channels = 1280, out_channels = 256, kernel_size = 9, padding = 'same')\n",
    "        self.cnn10 = nn.Conv1d(in_channels = 1280, out_channels = 256, kernel_size = 10, padding = 'same')\n",
    "        self.cnn11 = nn.Conv1d(in_channels = 1280, out_channels = 256, kernel_size = 11, padding = 'same')\n",
    "        self.cnn12 = nn.Conv1d(in_channels = 1280, out_channels = 256, kernel_size = 12, padding = 'same')        \n",
    "        \n",
    "\n",
    "        in_channels = 256 * 9\n",
    "            \n",
    "        self.classifier = nn.Sequential(\n",
    "            nn.LeakyReLU(True),\n",
    "            nn.BatchNorm1d(in_channels),\n",
    "            nn.Linear(in_channels, in_channels//4),\n",
    "            nn.LeakyReLU(True),\n",
    "            nn.BatchNorm1d(in_channels//4),\n",
    "            nn.Linear(in_channels//4, 1)\n",
    "        )\n",
    "        \n",
    "    def forward(self, epitope_x1, epitope_x2):\n",
    "        \n",
    "        # Get Embedding Vector\n",
    "        epitope = self.esm(input_ids=epitope_x1, attention_mask=epitope_x2).last_hidden_state\n",
    "        \n",
    "        epitope = epitope.transpose(1,2).contiguous()\n",
    "        \n",
    "        epitope4 = self.max_pool(self.cnn4(epitope)).squeeze()\n",
    "        epitope5 = self.max_pool(self.cnn5(epitope)).squeeze()\n",
    "        epitope6 = self.max_pool(self.cnn6(epitope)).squeeze()\n",
    "        epitope7 = self.max_pool(self.cnn7(epitope)).squeeze()\n",
    "        epitope8 = self.max_pool(self.cnn8(epitope)).squeeze()\n",
    "        epitope9 = self.max_pool(self.cnn9(epitope)).squeeze()\n",
    "        epitope10 = self.max_pool(self.cnn10(epitope)).squeeze()\n",
    "        epitope11 = self.max_pool(self.cnn11(epitope)).squeeze()\n",
    "        epitope12 = self.max_pool(self.cnn12(epitope)).squeeze()\n",
    "\n",
    "        \n",
    "        \n",
    "        # Feature Concat -> Binary Classifier                \n",
    "        \n",
    "        x = torch.cat([epitope4, epitope5, epitope6, epitope7, epitope8, epitope9, epitope10, epitope11, epitope12], axis=-1)        \n",
    "        \n",
    "        x = self.classifier(x).view(-1)\n",
    "        \n",
    "        return x"
   ]
  },
  {
   "cell_type": "code",
   "execution_count": 10,
   "id": "bb8c160a",
   "metadata": {},
   "outputs": [],
   "source": [
    "class WeightedFocalLoss(nn.Module):\n",
    "    \"Non weighted version of Focal Loss\"\n",
    "    def __init__(self, alpha=.25, gamma=2):\n",
    "        \n",
    "        super(WeightedFocalLoss, self).__init__()\n",
    "        self.alpha = torch.tensor([alpha, 1-alpha]).to(device)\n",
    "        self.gamma = gamma\n",
    "        \n",
    "    def forward(self, inputs, targets):        \n",
    "        BCE_loss = F.binary_cross_entropy_with_logits(inputs, targets, reduction='none')\n",
    "        targets = targets.type(torch.long)\n",
    "        at = self.alpha.gather(0, targets.data.view(-1))\n",
    "        pt = torch.exp(-BCE_loss)\n",
    "        F_loss = at*(1-pt)**self.gamma * BCE_loss\n",
    "        return F_loss.mean()"
   ]
  },
  {
   "cell_type": "code",
   "execution_count": 11,
   "id": "c8b57e1a",
   "metadata": {},
   "outputs": [],
   "source": [
    "def train(model, optimizer, train_loader, val_loader, device):\n",
    "    model.to(device)\n",
    "    \n",
    "    \n",
    "    best_val_f1 = 0\n",
    "    for epoch in range(1, CFG['EPOCHS']+1):\n",
    "        model.train()\n",
    "        train_loss = []\n",
    "        criterion = WeightedFocalLoss().to(device)\n",
    "        for epitope_ids_list, epitope_mask_list, label in tqdm(iter(train_loader)):            \n",
    "            \n",
    "            \n",
    "            \n",
    "            epitope_ids_list = epitope_ids_list.to(device)\n",
    "            epitope_mask_list = epitope_mask_list.to(device)\n",
    "\n",
    "            label = label.float().to(device)\n",
    "            \n",
    "            optimizer.zero_grad()            \n",
    "            \n",
    "            output = model(epitope_ids_list, epitope_mask_list)\n",
    "            loss = criterion(output, label)\n",
    "            \n",
    "            loss.backward()\n",
    "            optimizer.step()\n",
    "            \n",
    "            train_loss.append(loss.item())\n",
    "            \n",
    "                    \n",
    "        val_loss, val_f1, val_acc, val_precision, val_recall = validation(model, val_loader, criterion, device)\n",
    "        print(f'Epoch : [{epoch}] Train Loss : [{np.mean(train_loss):.5f}] Val Loss : [{val_loss:.5f}] Val F1 : [{val_f1:.5f}] Val acc : [{val_acc:.5f}] Val precision : [{val_precision:.5f}] Val recall : [{val_recall:.5f}]')\n",
    "        \n",
    "        if best_val_f1 < val_f1:\n",
    "            best_val_f1 = val_f1\n",
    "#             torch.save(model.module.state_dict(), './feature_transformer_best_model.pth', _use_new_zipfile_serialization=False)\n",
    "            torch.save(model.module.state_dict(), '/DAS_Storage4/hyungseok/deepconv.pth', _use_new_zipfile_serialization=False)\n",
    "            print('Model Saved.')\n",
    "    return best_val_f1"
   ]
  },
  {
   "cell_type": "code",
   "execution_count": 12,
   "id": "6dc58f8d",
   "metadata": {},
   "outputs": [],
   "source": [
    "from sklearn.metrics import accuracy_score, precision_score, recall_score\n",
    "\n",
    "\n",
    "def validation(model, val_loader, criterion, device):\n",
    "    model.eval()\n",
    "    pred_proba_label = []\n",
    "    true_label = []\n",
    "    val_loss = []\n",
    "    with torch.no_grad():\n",
    "        for epitope_ids_list, epitope_mask_list, label in tqdm(iter(val_loader)):\n",
    "            epitope_ids_list = epitope_ids_list.to(device)\n",
    "            epitope_mask_list = epitope_mask_list.to(device)\n",
    "            \n",
    "            \n",
    "            label = label.float().to(device)\n",
    "            \n",
    "            model_pred = model(epitope_ids_list, epitope_mask_list)\n",
    "            \n",
    "            loss = criterion(model_pred, label)\n",
    "            model_pred = torch.sigmoid(model_pred).to('cpu')\n",
    "            \n",
    "            pred_proba_label += model_pred.tolist()\n",
    "            true_label += label.to('cpu').tolist()\n",
    "            \n",
    "            val_loss.append(loss.item())\n",
    "    \n",
    "    pred_label = np.where(np.array(pred_proba_label)>CFG['THRESHOLD'], 1, 0)\n",
    "    val_f1 = f1_score(true_label, pred_label, average='macro')\n",
    "    acc = accuracy_score(true_label, pred_label)\n",
    "    precision = precision_score(true_label, pred_label)\n",
    "    recall = recall_score(true_label, pred_label)\n",
    "    return np.mean(val_loss), val_f1, acc, precision, recall"
   ]
  },
  {
   "cell_type": "code",
   "execution_count": 13,
   "id": "bb7f5564",
   "metadata": {},
   "outputs": [],
   "source": [
    "device = torch.device('cuda:1') if torch.cuda.is_available() else torch.device('cpu')"
   ]
  },
  {
   "cell_type": "code",
   "execution_count": 14,
   "id": "fac1d65f",
   "metadata": {},
   "outputs": [
    {
     "name": "stderr",
     "output_type": "stream",
     "text": [
      "Some weights of the model checkpoint at facebook/esm-1b were not used when initializing ESMModel: ['lm_head.layer_norm.weight', 'lm_head.bias', 'lm_head.dense.weight', 'lm_head.dense.bias', 'lm_head.layer_norm.bias']\n",
      "- This IS expected if you are initializing ESMModel from the checkpoint of a model trained on another task or with another architecture (e.g. initializing a BertForSequenceClassification model from a BertForPreTraining model).\n",
      "- This IS NOT expected if you are initializing ESMModel from the checkpoint of a model that you expect to be exactly identical (initializing a BertForSequenceClassification model from a BertForSequenceClassification model).\n",
      "Some weights of ESMModel were not initialized from the model checkpoint at facebook/esm-1b and are newly initialized: ['esm.pooler.dense.bias', 'esm.pooler.dense.weight']\n",
      "You should probably TRAIN this model on a down-stream task to be able to use it for predictions and inference.\n"
     ]
    }
   ],
   "source": [
    "model = TransformerModel()\n",
    "model = nn.DataParallel(model, device_ids=[1, 0])\n",
    "\n",
    "optimizer = torch.optim.Adam(params = model.parameters(), lr = CFG[\"LEARNING_RATE\"])\n"
   ]
  },
  {
   "cell_type": "code",
   "execution_count": 15,
   "id": "466c9933",
   "metadata": {},
   "outputs": [],
   "source": [
    "for name, para in model.named_parameters():\n",
    "    if name in [\n",
    "'module.esm.encoder.layer.31.attention.self.query.weight',\n",
    "'module.esm.encoder.layer.31.attention.self.query.bias',\n",
    "'module.esm.encoder.layer.31.attention.self.key.weight',\n",
    "'module.esm.encoder.layer.31.attention.self.key.bias',\n",
    "'module.esm.encoder.layer.31.attention.self.value.weight',\n",
    "'module.esm.encoder.layer.31.attention.self.value.bias',\n",
    "'module.esm.encoder.layer.31.attention.output.dense.weight',\n",
    "'module.esm.encoder.layer.31.attention.output.dense.bias',\n",
    "'module.esm.encoder.layer.31.attention.LayerNorm.weight',\n",
    "'module.esm.encoder.layer.31.attention.LayerNorm.bias',\n",
    "'module.esm.encoder.layer.31.intermediate.dense.weight',\n",
    "'module.esm.encoder.layer.31.intermediate.dense.bias',\n",
    "'module.esm.encoder.layer.31.output.dense.weight',\n",
    "'module.esm.encoder.layer.31.output.dense.bias',\n",
    "'module.esm.encoder.layer.31.LayerNorm.weight',\n",
    "'module.esm.encoder.layer.31.LayerNorm.bias',\n",
    "'module.esm.encoder.layer.32.attention.self.query.weight',\n",
    "'module.esm.encoder.layer.32.attention.self.query.bias',\n",
    "'module.esm.encoder.layer.32.attention.self.key.weight',\n",
    "'module.esm.encoder.layer.32.attention.self.key.bias',\n",
    "'module.esm.encoder.layer.32.attention.self.value.weight',\n",
    "'module.esm.encoder.layer.32.attention.self.value.bias',\n",
    "'module.esm.encoder.layer.32.attention.output.dense.weight',\n",
    "'module.esm.encoder.layer.32.attention.output.dense.bias',\n",
    "'module.esm.encoder.layer.32.attention.LayerNorm.weight',\n",
    "'module.esm.encoder.layer.32.attention.LayerNorm.bias',\n",
    "'module.esm.encoder.layer.32.intermediate.dense.weight',\n",
    "'module.esm.encoder.layer.32.intermediate.dense.bias',\n",
    "'module.esm.encoder.layer.32.output.dense.weight',\n",
    "'module.esm.encoder.layer.32.output.dense.bias',\n",
    "'module.esm.encoder.layer.32.LayerNorm.weight',\n",
    "'module.esm.encoder.layer.32.LayerNorm.bias',\n",
    "'module.esm.encoder.emb_layer_norm_after.weight',\n",
    "'module.esm.encoder.emb_layer_norm_after.bias',\n",
    "'module.esm.pooler.dense.weight',\n",
    "'module.esm.pooler.dense.bias',\n",
    "'module.cnn4.weight',\n",
    "'module.cnn4.bias',\n",
    "'module.cnn5.weight',\n",
    "'module.cnn5.bias',\n",
    "'module.cnn6.weight',\n",
    "'module.cnn6.bias',\n",
    "'module.cnn7.weight',\n",
    "'module.cnn7.bias',\n",
    "'module.cnn8.weight',\n",
    "'module.cnn8.bias',\n",
    "'module.cnn9.weight',\n",
    "'module.cnn9.bias',\n",
    "'module.cnn10.weight',\n",
    "'module.cnn10.bias',\n",
    "'module.cnn11.weight',\n",
    "'module.cnn11.bias',\n",
    "'module.cnn12.weight',\n",
    "'module.cnn12.bias',\n",
    "'module.classifier.1.weight',\n",
    "'module.classifier.1.bias',\n",
    "'module.classifier.2.weight',\n",
    "'module.classifier.2.bias',\n",
    "'module.classifier.4.weight',\n",
    "'module.classifier.4.bias',\n",
    "'module.classifier.5.weight',\n",
    "'module.classifier.5.bias']:\n",
    "        para.requires_grad = True\n",
    "        \n",
    "    else:\n",
    "        para.requires_grad = False\n"
   ]
  },
  {
   "cell_type": "code",
   "execution_count": null,
   "id": "de6b1b79",
   "metadata": {},
   "outputs": [
    {
     "name": "stderr",
     "output_type": "stream",
     "text": [
      "  0%|          | 0/299 [00:00<?, ?it/s]/usr/local/lib/python3.7/site-packages/torch/nn/modules/conv.py:299: UserWarning: Using padding='same' with even kernel lengths and odd dilation may require a zero-padded copy of the input be created (Triggered internally at  ../aten/src/ATen/native/Convolution.cpp:744.)\n",
      "  self.padding, self.dilation, self.groups)\n",
      "100%|██████████| 299/299 [10:55<00:00,  2.19s/it]\n",
      "100%|██████████| 75/75 [02:05<00:00,  1.67s/it]\n"
     ]
    },
    {
     "name": "stdout",
     "output_type": "stream",
     "text": [
      "Epoch : [1] Train Loss : [0.04678] Val Loss : [0.04059] Val F1 : [0.62856] Val acc : [0.80326] Val precision : [0.26290] Val recall : [0.64657]\n",
      "Model Saved.\n"
     ]
    },
    {
     "name": "stderr",
     "output_type": "stream",
     "text": [
      "100%|██████████| 299/299 [10:50<00:00,  2.18s/it]\n",
      "100%|██████████| 75/75 [02:05<00:00,  1.67s/it]\n"
     ]
    },
    {
     "name": "stdout",
     "output_type": "stream",
     "text": [
      "Epoch : [2] Train Loss : [0.03496] Val Loss : [0.07116] Val F1 : [0.28204] Val acc : [0.29159] Val precision : [0.11101] Val recall : [0.97028]\n"
     ]
    },
    {
     "name": "stderr",
     "output_type": "stream",
     "text": [
      "100%|██████████| 299/299 [10:46<00:00,  2.16s/it]\n",
      "100%|██████████| 75/75 [02:04<00:00,  1.66s/it]\n"
     ]
    },
    {
     "name": "stdout",
     "output_type": "stream",
     "text": [
      "Epoch : [3] Train Loss : [0.02765] Val Loss : [0.03505] Val F1 : [0.65521] Val acc : [0.81773] Val precision : [0.29461] Val recall : [0.72216]\n",
      "Model Saved.\n"
     ]
    },
    {
     "name": "stderr",
     "output_type": "stream",
     "text": [
      "100%|██████████| 299/299 [10:52<00:00,  2.18s/it]\n",
      "100%|██████████| 75/75 [02:06<00:00,  1.69s/it]\n"
     ]
    },
    {
     "name": "stdout",
     "output_type": "stream",
     "text": [
      "Epoch : [4] Train Loss : [0.02098] Val Loss : [0.03045] Val F1 : [0.73129] Val acc : [0.91911] Val precision : [0.56790] Val recall : [0.45730]\n",
      "Model Saved.\n"
     ]
    },
    {
     "name": "stderr",
     "output_type": "stream",
     "text": [
      " 83%|████████▎ | 249/299 [09:06<01:49,  2.19s/it]"
     ]
    }
   ],
   "source": [
    "best_score = train(model, optimizer, train_loader, val_loader, device)\n",
    "print(f'Best Validation F1 Score : [{best_score:.5f}]')"
   ]
  },
  {
   "cell_type": "code",
   "execution_count": null,
   "id": "740b9068",
   "metadata": {},
   "outputs": [],
   "source": []
  },
  {
   "cell_type": "code",
   "execution_count": null,
   "id": "4f43fcb0",
   "metadata": {},
   "outputs": [],
   "source": []
  },
  {
   "cell_type": "code",
   "execution_count": null,
   "id": "424654c3",
   "metadata": {},
   "outputs": [],
   "source": []
  },
  {
   "cell_type": "code",
   "execution_count": null,
   "id": "9dd81e1d",
   "metadata": {},
   "outputs": [],
   "source": []
  },
  {
   "cell_type": "code",
   "execution_count": null,
   "id": "f6d9aa8e",
   "metadata": {},
   "outputs": [],
   "source": []
  },
  {
   "cell_type": "code",
   "execution_count": null,
   "id": "80978aaf",
   "metadata": {},
   "outputs": [],
   "source": []
  },
  {
   "cell_type": "code",
   "execution_count": null,
   "id": "11bec11e",
   "metadata": {},
   "outputs": [],
   "source": []
  },
  {
   "cell_type": "code",
   "execution_count": null,
   "id": "4b26c702",
   "metadata": {},
   "outputs": [],
   "source": []
  },
  {
   "cell_type": "code",
   "execution_count": null,
   "id": "81290a5b",
   "metadata": {},
   "outputs": [],
   "source": []
  }
 ],
 "metadata": {
  "kernelspec": {
   "display_name": "Python 3 (ipykernel)",
   "language": "python",
   "name": "python3"
  },
  "language_info": {
   "codemirror_mode": {
    "name": "ipython",
    "version": 3
   },
   "file_extension": ".py",
   "mimetype": "text/x-python",
   "name": "python",
   "nbconvert_exporter": "python",
   "pygments_lexer": "ipython3",
   "version": "3.7.13"
  }
 },
 "nbformat": 4,
 "nbformat_minor": 5
}
